{
 "cells": [
  {
   "attachments": {},
   "cell_type": "markdown",
   "metadata": {
    "papermill": {
     "duration": 0.035282,
     "end_time": "2022-01-19T05:43:01.444332",
     "exception": false,
     "start_time": "2022-01-19T05:43:01.409050",
     "status": "completed"
    },
    "tags": []
   },
   "source": [
    "# CROP RECOMMENDATION SYSTEM "
   ]
  },
  {
   "attachments": {},
   "cell_type": "markdown",
   "metadata": {
    "papermill": {
     "duration": 0.034242,
     "end_time": "2022-01-19T05:43:01.511942",
     "exception": false,
     "start_time": "2022-01-19T05:43:01.477700",
     "status": "completed"
    },
    "tags": []
   },
   "source": []
  },
  {
   "attachments": {},
   "cell_type": "markdown",
   "metadata": {
    "papermill": {
     "duration": 0.033319,
     "end_time": "2022-01-19T05:43:01.579235",
     "exception": false,
     "start_time": "2022-01-19T05:43:01.545916",
     "status": "completed"
    },
    "tags": []
   },
   "source": []
  },
  {
   "attachments": {},
   "cell_type": "markdown",
   "metadata": {
    "papermill": {
     "duration": 0.033169,
     "end_time": "2022-01-19T05:43:01.646455",
     "exception": false,
     "start_time": "2022-01-19T05:43:01.613286",
     "status": "completed"
    },
    "tags": []
   },
   "source": []
  },
  {
   "attachments": {},
   "cell_type": "markdown",
   "metadata": {
    "papermill": {
     "duration": 0.033175,
     "end_time": "2022-01-19T05:43:01.714821",
     "exception": false,
     "start_time": "2022-01-19T05:43:01.681646",
     "status": "completed"
    },
    "tags": []
   },
   "source": []
  },
  {
   "attachments": {},
   "cell_type": "markdown",
   "metadata": {
    "papermill": {
     "duration": 0.033018,
     "end_time": "2022-01-19T05:43:01.781873",
     "exception": false,
     "start_time": "2022-01-19T05:43:01.748855",
     "status": "completed"
    },
    "tags": []
   },
   "source": [
    "# About the data"
   ]
  },
  {
   "attachments": {},
   "cell_type": "markdown",
   "metadata": {
    "papermill": {
     "duration": 0.033223,
     "end_time": "2022-01-19T05:43:01.848566",
     "exception": false,
     "start_time": "2022-01-19T05:43:01.815343",
     "status": "completed"
    },
    "tags": []
   },
   "source": [
    "\n",
    "\n",
    "**The data have Nitrogen, Phosphorous, Pottasium and pH values of the soil. Also, it also contains the humidity, temperature rainfall and sowing season required for a particular crop**\n"
   ]
  },
  {
   "attachments": {},
   "cell_type": "markdown",
   "metadata": {
    "papermill": {
     "duration": 0.033795,
     "end_time": "2022-01-19T05:43:01.916056",
     "exception": false,
     "start_time": "2022-01-19T05:43:01.882261",
     "status": "completed"
    },
    "tags": []
   },
   "source": []
  },
  {
   "cell_type": "code",
   "execution_count": null,
   "metadata": {
    "execution": {
     "iopub.execute_input": "2022-01-19T05:43:01.988303Z",
     "iopub.status.busy": "2022-01-19T05:43:01.987258Z",
     "iopub.status.idle": "2022-01-19T05:43:03.198329Z",
     "shell.execute_reply": "2022-01-19T05:43:03.197591Z"
    },
    "papermill": {
     "duration": 1.249177,
     "end_time": "2022-01-19T05:43:03.198482",
     "exception": false,
     "start_time": "2022-01-19T05:43:01.949305",
     "status": "completed"
    },
    "tags": []
   },
   "outputs": [
    {
     "ename": "",
     "evalue": "",
     "output_type": "error",
     "traceback": [
      "\u001b[1;31mRunning cells with 'c:\\Users\\Anishka Chauhan\\AppData\\Local\\Microsoft\\WindowsApps\\python3.9.exe' requires the ipykernel package.\n",
      "\u001b[1;31mRun the following command to install 'ipykernel' into the Python environment. \n",
      "\u001b[1;31mCommand: '\"c:/Users/Anishka Chauhan/AppData/Local/Microsoft/WindowsApps/python3.9.exe\" -m pip install ipykernel -U --user --force-reinstall'"
     ]
    }
   ],
   "source": [
    "# Importing libraries\n",
    "\n",
    "from __future__ import print_function\n",
    "import matplotlib.pyplot as plt\n",
    "import seaborn as sns\n",
    "from sklearn.metrics import classification_report\n",
    "from sklearn import metrics\n",
    "from sklearn import tree\n",
    "import pandas as pd\n",
    "import numpy as np\n",
    "\n"
   ]
  },
  {
   "cell_type": "code",
   "execution_count": 9,
   "metadata": {},
   "outputs": [],
   "source": [
    "import warnings\n",
    "warnings.filterwarnings('ignore')"
   ]
  },
  {
   "cell_type": "code",
   "execution_count": 10,
   "metadata": {
    "execution": {
     "iopub.execute_input": "2022-01-19T05:43:03.277905Z",
     "iopub.status.busy": "2022-01-19T05:43:03.277230Z",
     "iopub.status.idle": "2022-01-19T05:43:03.295749Z",
     "shell.execute_reply": "2022-01-19T05:43:03.296326Z"
    },
    "papermill": {
     "duration": 0.064077,
     "end_time": "2022-01-19T05:43:03.296513",
     "exception": false,
     "start_time": "2022-01-19T05:43:03.232436",
     "status": "completed"
    },
    "tags": []
   },
   "outputs": [],
   "source": [
    "df=pd.read_csv('CSPreco.csv', encoding = \"ISO-8859-1\")\n"
   ]
  },
  {
   "cell_type": "code",
   "execution_count": 11,
   "metadata": {},
   "outputs": [
    {
     "name": "stdout",
     "output_type": "stream",
     "text": [
      "N\n",
      "P\n",
      "K\n",
      "temperature\n",
      "humidity\n",
      "ph\n",
      "rainfall\n",
      "label\n",
      "sowing season\n"
     ]
    }
   ],
   "source": [
    "for col in df.columns:\n",
    "    print(col)"
   ]
  },
  {
   "cell_type": "code",
   "execution_count": 45,
   "metadata": {},
   "outputs": [
    {
     "ename": "TypeError",
     "evalue": "Cannot interpret '<attribute 'dtype' of 'numpy.generic' objects>' as a data type",
     "output_type": "error",
     "traceback": [
      "\u001b[1;31m---------------------------------------------------------------------------\u001b[0m",
      "\u001b[1;31mTypeError\u001b[0m                                 Traceback (most recent call last)",
      "\u001b[1;32m<ipython-input-45-b27a6162216d>\u001b[0m in \u001b[0;36m<module>\u001b[1;34m\u001b[0m\n\u001b[0;32m      1\u001b[0m \u001b[0mgrouped\u001b[0m \u001b[1;33m=\u001b[0m \u001b[0mdf\u001b[0m\u001b[1;33m.\u001b[0m\u001b[0mgroupby\u001b[0m\u001b[1;33m(\u001b[0m\u001b[1;34m\"label\"\u001b[0m\u001b[1;33m)\u001b[0m\u001b[1;33m\u001b[0m\u001b[1;33m\u001b[0m\u001b[0m\n\u001b[1;32m----> 2\u001b[1;33m \u001b[0mgrouped\u001b[0m\u001b[1;33m.\u001b[0m\u001b[0mmean\u001b[0m\u001b[1;33m(\u001b[0m\u001b[1;33m)\u001b[0m\u001b[1;33m[\u001b[0m\u001b[1;34m\"N\"\u001b[0m\u001b[1;33m]\u001b[0m\u001b[1;33m.\u001b[0m\u001b[0mplot\u001b[0m\u001b[1;33m(\u001b[0m\u001b[0mkind\u001b[0m\u001b[1;33m=\u001b[0m\u001b[1;34m\"barh\"\u001b[0m\u001b[1;33m)\u001b[0m\u001b[1;33m\u001b[0m\u001b[1;33m\u001b[0m\u001b[0m\n\u001b[0m",
      "\u001b[1;32m~\\Anaconda3\\lib\\site-packages\\pandas\\plotting\\_core.py\u001b[0m in \u001b[0;36m__call__\u001b[1;34m(self, kind, ax, figsize, use_index, title, grid, legend, style, logx, logy, loglog, xticks, yticks, xlim, ylim, rot, fontsize, colormap, table, yerr, xerr, label, secondary_y, **kwds)\u001b[0m\n\u001b[0;32m   2740\u001b[0m                            \u001b[0mcolormap\u001b[0m\u001b[1;33m=\u001b[0m\u001b[0mcolormap\u001b[0m\u001b[1;33m,\u001b[0m \u001b[0mtable\u001b[0m\u001b[1;33m=\u001b[0m\u001b[0mtable\u001b[0m\u001b[1;33m,\u001b[0m \u001b[0myerr\u001b[0m\u001b[1;33m=\u001b[0m\u001b[0myerr\u001b[0m\u001b[1;33m,\u001b[0m\u001b[1;33m\u001b[0m\u001b[1;33m\u001b[0m\u001b[0m\n\u001b[0;32m   2741\u001b[0m                            \u001b[0mxerr\u001b[0m\u001b[1;33m=\u001b[0m\u001b[0mxerr\u001b[0m\u001b[1;33m,\u001b[0m \u001b[0mlabel\u001b[0m\u001b[1;33m=\u001b[0m\u001b[0mlabel\u001b[0m\u001b[1;33m,\u001b[0m \u001b[0msecondary_y\u001b[0m\u001b[1;33m=\u001b[0m\u001b[0msecondary_y\u001b[0m\u001b[1;33m,\u001b[0m\u001b[1;33m\u001b[0m\u001b[1;33m\u001b[0m\u001b[0m\n\u001b[1;32m-> 2742\u001b[1;33m                            **kwds)\n\u001b[0m\u001b[0;32m   2743\u001b[0m     \u001b[0m__call__\u001b[0m\u001b[1;33m.\u001b[0m\u001b[0m__doc__\u001b[0m \u001b[1;33m=\u001b[0m \u001b[0mplot_series\u001b[0m\u001b[1;33m.\u001b[0m\u001b[0m__doc__\u001b[0m\u001b[1;33m\u001b[0m\u001b[1;33m\u001b[0m\u001b[0m\n\u001b[0;32m   2744\u001b[0m \u001b[1;33m\u001b[0m\u001b[0m\n",
      "\u001b[1;32m~\\Anaconda3\\lib\\site-packages\\pandas\\plotting\\_core.py\u001b[0m in \u001b[0;36mplot_series\u001b[1;34m(data, kind, ax, figsize, use_index, title, grid, legend, style, logx, logy, loglog, xticks, yticks, xlim, ylim, rot, fontsize, colormap, table, yerr, xerr, label, secondary_y, **kwds)\u001b[0m\n\u001b[0;32m   1996\u001b[0m                  \u001b[0myerr\u001b[0m\u001b[1;33m=\u001b[0m\u001b[0myerr\u001b[0m\u001b[1;33m,\u001b[0m \u001b[0mxerr\u001b[0m\u001b[1;33m=\u001b[0m\u001b[0mxerr\u001b[0m\u001b[1;33m,\u001b[0m\u001b[1;33m\u001b[0m\u001b[1;33m\u001b[0m\u001b[0m\n\u001b[0;32m   1997\u001b[0m                  \u001b[0mlabel\u001b[0m\u001b[1;33m=\u001b[0m\u001b[0mlabel\u001b[0m\u001b[1;33m,\u001b[0m \u001b[0msecondary_y\u001b[0m\u001b[1;33m=\u001b[0m\u001b[0msecondary_y\u001b[0m\u001b[1;33m,\u001b[0m\u001b[1;33m\u001b[0m\u001b[1;33m\u001b[0m\u001b[0m\n\u001b[1;32m-> 1998\u001b[1;33m                  **kwds)\n\u001b[0m\u001b[0;32m   1999\u001b[0m \u001b[1;33m\u001b[0m\u001b[0m\n\u001b[0;32m   2000\u001b[0m \u001b[1;33m\u001b[0m\u001b[0m\n",
      "\u001b[1;32m~\\Anaconda3\\lib\\site-packages\\pandas\\plotting\\_core.py\u001b[0m in \u001b[0;36m_plot\u001b[1;34m(data, x, y, subplots, ax, kind, **kwds)\u001b[0m\n\u001b[0;32m   1799\u001b[0m         \u001b[0mplot_obj\u001b[0m \u001b[1;33m=\u001b[0m \u001b[0mklass\u001b[0m\u001b[1;33m(\u001b[0m\u001b[0mdata\u001b[0m\u001b[1;33m,\u001b[0m \u001b[0msubplots\u001b[0m\u001b[1;33m=\u001b[0m\u001b[0msubplots\u001b[0m\u001b[1;33m,\u001b[0m \u001b[0max\u001b[0m\u001b[1;33m=\u001b[0m\u001b[0max\u001b[0m\u001b[1;33m,\u001b[0m \u001b[0mkind\u001b[0m\u001b[1;33m=\u001b[0m\u001b[0mkind\u001b[0m\u001b[1;33m,\u001b[0m \u001b[1;33m**\u001b[0m\u001b[0mkwds\u001b[0m\u001b[1;33m)\u001b[0m\u001b[1;33m\u001b[0m\u001b[1;33m\u001b[0m\u001b[0m\n\u001b[0;32m   1800\u001b[0m \u001b[1;33m\u001b[0m\u001b[0m\n\u001b[1;32m-> 1801\u001b[1;33m     \u001b[0mplot_obj\u001b[0m\u001b[1;33m.\u001b[0m\u001b[0mgenerate\u001b[0m\u001b[1;33m(\u001b[0m\u001b[1;33m)\u001b[0m\u001b[1;33m\u001b[0m\u001b[1;33m\u001b[0m\u001b[0m\n\u001b[0m\u001b[0;32m   1802\u001b[0m     \u001b[0mplot_obj\u001b[0m\u001b[1;33m.\u001b[0m\u001b[0mdraw\u001b[0m\u001b[1;33m(\u001b[0m\u001b[1;33m)\u001b[0m\u001b[1;33m\u001b[0m\u001b[1;33m\u001b[0m\u001b[0m\n\u001b[0;32m   1803\u001b[0m     \u001b[1;32mreturn\u001b[0m \u001b[0mplot_obj\u001b[0m\u001b[1;33m.\u001b[0m\u001b[0mresult\u001b[0m\u001b[1;33m\u001b[0m\u001b[1;33m\u001b[0m\u001b[0m\n",
      "\u001b[1;32m~\\Anaconda3\\lib\\site-packages\\pandas\\plotting\\_core.py\u001b[0m in \u001b[0;36mgenerate\u001b[1;34m(self)\u001b[0m\n\u001b[0;32m    247\u001b[0m     \u001b[1;32mdef\u001b[0m \u001b[0mgenerate\u001b[0m\u001b[1;33m(\u001b[0m\u001b[0mself\u001b[0m\u001b[1;33m)\u001b[0m\u001b[1;33m:\u001b[0m\u001b[1;33m\u001b[0m\u001b[1;33m\u001b[0m\u001b[0m\n\u001b[0;32m    248\u001b[0m         \u001b[0mself\u001b[0m\u001b[1;33m.\u001b[0m\u001b[0m_args_adjust\u001b[0m\u001b[1;33m(\u001b[0m\u001b[1;33m)\u001b[0m\u001b[1;33m\u001b[0m\u001b[1;33m\u001b[0m\u001b[0m\n\u001b[1;32m--> 249\u001b[1;33m         \u001b[0mself\u001b[0m\u001b[1;33m.\u001b[0m\u001b[0m_compute_plot_data\u001b[0m\u001b[1;33m(\u001b[0m\u001b[1;33m)\u001b[0m\u001b[1;33m\u001b[0m\u001b[1;33m\u001b[0m\u001b[0m\n\u001b[0m\u001b[0;32m    250\u001b[0m         \u001b[0mself\u001b[0m\u001b[1;33m.\u001b[0m\u001b[0m_setup_subplots\u001b[0m\u001b[1;33m(\u001b[0m\u001b[1;33m)\u001b[0m\u001b[1;33m\u001b[0m\u001b[1;33m\u001b[0m\u001b[0m\n\u001b[0;32m    251\u001b[0m         \u001b[0mself\u001b[0m\u001b[1;33m.\u001b[0m\u001b[0m_make_plot\u001b[0m\u001b[1;33m(\u001b[0m\u001b[1;33m)\u001b[0m\u001b[1;33m\u001b[0m\u001b[1;33m\u001b[0m\u001b[0m\n",
      "\u001b[1;32m~\\Anaconda3\\lib\\site-packages\\pandas\\plotting\\_core.py\u001b[0m in \u001b[0;36m_compute_plot_data\u001b[1;34m(self)\u001b[0m\n\u001b[0;32m    355\u001b[0m                                                    \u001b[1;34m\"datetime\"\u001b[0m\u001b[1;33m,\u001b[0m\u001b[1;33m\u001b[0m\u001b[1;33m\u001b[0m\u001b[0m\n\u001b[0;32m    356\u001b[0m                                                    \u001b[1;34m\"datetimetz\"\u001b[0m\u001b[1;33m,\u001b[0m\u001b[1;33m\u001b[0m\u001b[1;33m\u001b[0m\u001b[0m\n\u001b[1;32m--> 357\u001b[1;33m                                                    \"timedelta\"])\n\u001b[0m\u001b[0;32m    358\u001b[0m \u001b[1;33m\u001b[0m\u001b[0m\n\u001b[0;32m    359\u001b[0m         \u001b[1;32mtry\u001b[0m\u001b[1;33m:\u001b[0m\u001b[1;33m\u001b[0m\u001b[1;33m\u001b[0m\u001b[0m\n",
      "\u001b[1;32m~\\Anaconda3\\lib\\site-packages\\pandas\\core\\frame.py\u001b[0m in \u001b[0;36mselect_dtypes\u001b[1;34m(self, include, exclude)\u001b[0m\n\u001b[0;32m   3324\u001b[0m         \u001b[1;31m# the \"union\" of the logic of case 1 and case 2:\u001b[0m\u001b[1;33m\u001b[0m\u001b[1;33m\u001b[0m\u001b[1;33m\u001b[0m\u001b[0m\n\u001b[0;32m   3325\u001b[0m         \u001b[1;31m# we get the included and excluded, and return their logical and\u001b[0m\u001b[1;33m\u001b[0m\u001b[1;33m\u001b[0m\u001b[1;33m\u001b[0m\u001b[0m\n\u001b[1;32m-> 3326\u001b[1;33m         \u001b[0minclude_these\u001b[0m \u001b[1;33m=\u001b[0m \u001b[0mSeries\u001b[0m\u001b[1;33m(\u001b[0m\u001b[1;32mnot\u001b[0m \u001b[0mbool\u001b[0m\u001b[1;33m(\u001b[0m\u001b[0minclude\u001b[0m\u001b[1;33m)\u001b[0m\u001b[1;33m,\u001b[0m \u001b[0mindex\u001b[0m\u001b[1;33m=\u001b[0m\u001b[0mself\u001b[0m\u001b[1;33m.\u001b[0m\u001b[0mcolumns\u001b[0m\u001b[1;33m)\u001b[0m\u001b[1;33m\u001b[0m\u001b[1;33m\u001b[0m\u001b[0m\n\u001b[0m\u001b[0;32m   3327\u001b[0m         \u001b[0mexclude_these\u001b[0m \u001b[1;33m=\u001b[0m \u001b[0mSeries\u001b[0m\u001b[1;33m(\u001b[0m\u001b[1;32mnot\u001b[0m \u001b[0mbool\u001b[0m\u001b[1;33m(\u001b[0m\u001b[0mexclude\u001b[0m\u001b[1;33m)\u001b[0m\u001b[1;33m,\u001b[0m \u001b[0mindex\u001b[0m\u001b[1;33m=\u001b[0m\u001b[0mself\u001b[0m\u001b[1;33m.\u001b[0m\u001b[0mcolumns\u001b[0m\u001b[1;33m)\u001b[0m\u001b[1;33m\u001b[0m\u001b[1;33m\u001b[0m\u001b[0m\n\u001b[0;32m   3328\u001b[0m \u001b[1;33m\u001b[0m\u001b[0m\n",
      "\u001b[1;32m~\\Anaconda3\\lib\\site-packages\\pandas\\core\\series.py\u001b[0m in \u001b[0;36m__init__\u001b[1;34m(self, data, index, dtype, name, copy, fastpath)\u001b[0m\n\u001b[0;32m    260\u001b[0m             \u001b[1;32melse\u001b[0m\u001b[1;33m:\u001b[0m\u001b[1;33m\u001b[0m\u001b[1;33m\u001b[0m\u001b[0m\n\u001b[0;32m    261\u001b[0m                 data = sanitize_array(data, index, dtype, copy,\n\u001b[1;32m--> 262\u001b[1;33m                                       raise_cast_failure=True)\n\u001b[0m\u001b[0;32m    263\u001b[0m \u001b[1;33m\u001b[0m\u001b[0m\n\u001b[0;32m    264\u001b[0m                 \u001b[0mdata\u001b[0m \u001b[1;33m=\u001b[0m \u001b[0mSingleBlockManager\u001b[0m\u001b[1;33m(\u001b[0m\u001b[0mdata\u001b[0m\u001b[1;33m,\u001b[0m \u001b[0mindex\u001b[0m\u001b[1;33m,\u001b[0m \u001b[0mfastpath\u001b[0m\u001b[1;33m=\u001b[0m\u001b[1;32mTrue\u001b[0m\u001b[1;33m)\u001b[0m\u001b[1;33m\u001b[0m\u001b[1;33m\u001b[0m\u001b[0m\n",
      "\u001b[1;32m~\\Anaconda3\\lib\\site-packages\\pandas\\core\\internals\\construction.py\u001b[0m in \u001b[0;36msanitize_array\u001b[1;34m(data, index, dtype, copy, raise_cast_failure)\u001b[0m\n\u001b[0;32m    640\u001b[0m \u001b[1;33m\u001b[0m\u001b[0m\n\u001b[0;32m    641\u001b[0m             subarr = construct_1d_arraylike_from_scalar(\n\u001b[1;32m--> 642\u001b[1;33m                 value, len(index), dtype)\n\u001b[0m\u001b[0;32m    643\u001b[0m \u001b[1;33m\u001b[0m\u001b[0m\n\u001b[0;32m    644\u001b[0m         \u001b[1;32melse\u001b[0m\u001b[1;33m:\u001b[0m\u001b[1;33m\u001b[0m\u001b[1;33m\u001b[0m\u001b[0m\n",
      "\u001b[1;32m~\\Anaconda3\\lib\\site-packages\\pandas\\core\\dtypes\\cast.py\u001b[0m in \u001b[0;36mconstruct_1d_arraylike_from_scalar\u001b[1;34m(value, length, dtype)\u001b[0m\n\u001b[0;32m   1185\u001b[0m                 \u001b[0mvalue\u001b[0m \u001b[1;33m=\u001b[0m \u001b[0mto_str\u001b[0m\u001b[1;33m(\u001b[0m\u001b[0mvalue\u001b[0m\u001b[1;33m)\u001b[0m\u001b[1;33m\u001b[0m\u001b[1;33m\u001b[0m\u001b[0m\n\u001b[0;32m   1186\u001b[0m \u001b[1;33m\u001b[0m\u001b[0m\n\u001b[1;32m-> 1187\u001b[1;33m         \u001b[0msubarr\u001b[0m \u001b[1;33m=\u001b[0m \u001b[0mnp\u001b[0m\u001b[1;33m.\u001b[0m\u001b[0mempty\u001b[0m\u001b[1;33m(\u001b[0m\u001b[0mlength\u001b[0m\u001b[1;33m,\u001b[0m \u001b[0mdtype\u001b[0m\u001b[1;33m=\u001b[0m\u001b[0mdtype\u001b[0m\u001b[1;33m)\u001b[0m\u001b[1;33m\u001b[0m\u001b[1;33m\u001b[0m\u001b[0m\n\u001b[0m\u001b[0;32m   1188\u001b[0m         \u001b[0msubarr\u001b[0m\u001b[1;33m.\u001b[0m\u001b[0mfill\u001b[0m\u001b[1;33m(\u001b[0m\u001b[0mvalue\u001b[0m\u001b[1;33m)\u001b[0m\u001b[1;33m\u001b[0m\u001b[1;33m\u001b[0m\u001b[0m\n\u001b[0;32m   1189\u001b[0m \u001b[1;33m\u001b[0m\u001b[0m\n",
      "\u001b[1;31mTypeError\u001b[0m: Cannot interpret '<attribute 'dtype' of 'numpy.generic' objects>' as a data type"
     ]
    }
   ],
   "source": [
    "grouped = df.groupby(\"label\")\n",
    "grouped.mean()[\"N\"].plot(kind=\"barh\")"
   ]
  },
  {
   "cell_type": "code",
   "execution_count": 27,
   "metadata": {},
   "outputs": [],
   "source": [
    "df1=df.drop(['Unnamed: 0','Unnamed: 0.1','Unnamed: 0.1.1'], axis=1)\n",
    "df1.to_csv('CSPreco.csv',index=0)\n"
   ]
  },
  {
   "cell_type": "code",
   "execution_count": 12,
   "metadata": {},
   "outputs": [
    {
     "data": {
      "text/html": [
       "<div>\n",
       "<style scoped>\n",
       "    .dataframe tbody tr th:only-of-type {\n",
       "        vertical-align: middle;\n",
       "    }\n",
       "\n",
       "    .dataframe tbody tr th {\n",
       "        vertical-align: top;\n",
       "    }\n",
       "\n",
       "    .dataframe thead th {\n",
       "        text-align: right;\n",
       "    }\n",
       "</style>\n",
       "<table border=\"1\" class=\"dataframe\">\n",
       "  <thead>\n",
       "    <tr style=\"text-align: right;\">\n",
       "      <th></th>\n",
       "      <th>N</th>\n",
       "      <th>P</th>\n",
       "      <th>K</th>\n",
       "      <th>temperature</th>\n",
       "      <th>humidity</th>\n",
       "      <th>ph</th>\n",
       "      <th>rainfall</th>\n",
       "      <th>label</th>\n",
       "      <th>sowing season</th>\n",
       "    </tr>\n",
       "  </thead>\n",
       "  <tbody>\n",
       "    <tr>\n",
       "      <th>0</th>\n",
       "      <td>90</td>\n",
       "      <td>42</td>\n",
       "      <td>43</td>\n",
       "      <td>20.880</td>\n",
       "      <td>82.003</td>\n",
       "      <td>6.503</td>\n",
       "      <td>202.936</td>\n",
       "      <td>rice</td>\n",
       "      <td>kharif</td>\n",
       "    </tr>\n",
       "    <tr>\n",
       "      <th>1</th>\n",
       "      <td>85</td>\n",
       "      <td>58</td>\n",
       "      <td>41</td>\n",
       "      <td>21.770</td>\n",
       "      <td>80.320</td>\n",
       "      <td>7.038</td>\n",
       "      <td>226.656</td>\n",
       "      <td>rice</td>\n",
       "      <td>kharif</td>\n",
       "    </tr>\n",
       "    <tr>\n",
       "      <th>2</th>\n",
       "      <td>60</td>\n",
       "      <td>55</td>\n",
       "      <td>44</td>\n",
       "      <td>23.004</td>\n",
       "      <td>82.321</td>\n",
       "      <td>7.840</td>\n",
       "      <td>263.964</td>\n",
       "      <td>rice</td>\n",
       "      <td>kharif</td>\n",
       "    </tr>\n",
       "    <tr>\n",
       "      <th>3</th>\n",
       "      <td>74</td>\n",
       "      <td>35</td>\n",
       "      <td>40</td>\n",
       "      <td>26.491</td>\n",
       "      <td>80.158</td>\n",
       "      <td>6.980</td>\n",
       "      <td>242.864</td>\n",
       "      <td>rice</td>\n",
       "      <td>kharif</td>\n",
       "    </tr>\n",
       "    <tr>\n",
       "      <th>4</th>\n",
       "      <td>78</td>\n",
       "      <td>42</td>\n",
       "      <td>42</td>\n",
       "      <td>20.130</td>\n",
       "      <td>81.605</td>\n",
       "      <td>7.628</td>\n",
       "      <td>262.717</td>\n",
       "      <td>rice</td>\n",
       "      <td>kharif</td>\n",
       "    </tr>\n",
       "    <tr>\n",
       "      <th>5</th>\n",
       "      <td>69</td>\n",
       "      <td>37</td>\n",
       "      <td>42</td>\n",
       "      <td>23.058</td>\n",
       "      <td>83.370</td>\n",
       "      <td>7.073</td>\n",
       "      <td>251.055</td>\n",
       "      <td>rice</td>\n",
       "      <td>kharif</td>\n",
       "    </tr>\n",
       "    <tr>\n",
       "      <th>6</th>\n",
       "      <td>69</td>\n",
       "      <td>55</td>\n",
       "      <td>38</td>\n",
       "      <td>22.709</td>\n",
       "      <td>82.639</td>\n",
       "      <td>5.701</td>\n",
       "      <td>271.325</td>\n",
       "      <td>rice</td>\n",
       "      <td>kharif</td>\n",
       "    </tr>\n",
       "    <tr>\n",
       "      <th>7</th>\n",
       "      <td>94</td>\n",
       "      <td>53</td>\n",
       "      <td>40</td>\n",
       "      <td>20.278</td>\n",
       "      <td>82.894</td>\n",
       "      <td>5.719</td>\n",
       "      <td>241.974</td>\n",
       "      <td>rice</td>\n",
       "      <td>kharif</td>\n",
       "    </tr>\n",
       "    <tr>\n",
       "      <th>8</th>\n",
       "      <td>89</td>\n",
       "      <td>54</td>\n",
       "      <td>38</td>\n",
       "      <td>24.516</td>\n",
       "      <td>83.535</td>\n",
       "      <td>6.685</td>\n",
       "      <td>230.446</td>\n",
       "      <td>rice</td>\n",
       "      <td>kharif</td>\n",
       "    </tr>\n",
       "    <tr>\n",
       "      <th>9</th>\n",
       "      <td>68</td>\n",
       "      <td>58</td>\n",
       "      <td>38</td>\n",
       "      <td>23.224</td>\n",
       "      <td>83.033</td>\n",
       "      <td>6.336</td>\n",
       "      <td>221.209</td>\n",
       "      <td>rice</td>\n",
       "      <td>kharif</td>\n",
       "    </tr>\n",
       "  </tbody>\n",
       "</table>\n",
       "</div>"
      ],
      "text/plain": [
       "    N   P   K  temperature  humidity     ph  rainfall label sowing season\n",
       "0  90  42  43       20.880    82.003  6.503   202.936  rice        kharif\n",
       "1  85  58  41       21.770    80.320  7.038   226.656  rice        kharif\n",
       "2  60  55  44       23.004    82.321  7.840   263.964  rice        kharif\n",
       "3  74  35  40       26.491    80.158  6.980   242.864  rice        kharif\n",
       "4  78  42  42       20.130    81.605  7.628   262.717  rice        kharif\n",
       "5  69  37  42       23.058    83.370  7.073   251.055  rice        kharif\n",
       "6  69  55  38       22.709    82.639  5.701   271.325  rice        kharif\n",
       "7  94  53  40       20.278    82.894  5.719   241.974  rice        kharif\n",
       "8  89  54  38       24.516    83.535  6.685   230.446  rice        kharif\n",
       "9  68  58  38       23.224    83.033  6.336   221.209  rice        kharif"
      ]
     },
     "execution_count": 12,
     "metadata": {},
     "output_type": "execute_result"
    }
   ],
   "source": [
    "df.head(10)"
   ]
  },
  {
   "cell_type": "code",
   "execution_count": 170,
   "metadata": {
    "execution": {
     "iopub.execute_input": "2022-01-19T05:43:03.366922Z",
     "iopub.status.busy": "2022-01-19T05:43:03.366259Z",
     "iopub.status.idle": "2022-01-19T05:43:03.389191Z",
     "shell.execute_reply": "2022-01-19T05:43:03.389821Z"
    },
    "papermill": {
     "duration": 0.059447,
     "end_time": "2022-01-19T05:43:03.389961",
     "exception": false,
     "start_time": "2022-01-19T05:43:03.330514",
     "status": "completed"
    },
    "tags": []
   },
   "outputs": [
    {
     "data": {
      "text/plain": [
       "array(['rice', 'maize', 'chickpea', 'kidneybeans', 'blackgram', 'lentil',\n",
       "       'banana', 'mango', 'grapes', 'watermelon', 'muskmelon', 'apple',\n",
       "       'orange', 'coconut', 'cotton', 'jute'], dtype=object)"
      ]
     },
     "execution_count": 170,
     "metadata": {},
     "output_type": "execute_result"
    }
   ],
   "source": [
    "df.label.unique()"
   ]
  },
  {
   "cell_type": "code",
   "execution_count": 171,
   "metadata": {},
   "outputs": [],
   "source": [
    "#rounding to only 3 digit decimal for consistency on different paprameters\n",
    "df1 = pd.DataFrame(df, columns = ['temperature', 'humidity', 'ph', 'rainfall'])\n",
    "\n",
    "df1 = df.round(decimals = 3)\n",
    "\n",
    "df1[\"sowing season\"] = \"kharif\" \n",
    "df1.head(4)\n",
    "#df1.to_csv('Crop_recommendation.csv', mode='w', index=False, header=False)\n",
    "\n",
    "#print(df1)\n",
    "df1.to_csv('CSPreco.csv')"
   ]
  },
  {
   "cell_type": "code",
   "execution_count": null,
   "metadata": {},
   "outputs": [],
   "source": []
  },
  {
   "cell_type": "code",
   "execution_count": 29,
   "metadata": {},
   "outputs": [
    {
     "data": {
      "text/html": [
       "<div>\n",
       "<style scoped>\n",
       "    .dataframe tbody tr th:only-of-type {\n",
       "        vertical-align: middle;\n",
       "    }\n",
       "\n",
       "    .dataframe tbody tr th {\n",
       "        vertical-align: top;\n",
       "    }\n",
       "\n",
       "    .dataframe thead th {\n",
       "        text-align: right;\n",
       "    }\n",
       "</style>\n",
       "<table border=\"1\" class=\"dataframe\">\n",
       "  <thead>\n",
       "    <tr style=\"text-align: right;\">\n",
       "      <th></th>\n",
       "      <th>N</th>\n",
       "      <th>P</th>\n",
       "      <th>K</th>\n",
       "      <th>temperature</th>\n",
       "      <th>humidity</th>\n",
       "      <th>ph</th>\n",
       "      <th>rainfall</th>\n",
       "      <th>label</th>\n",
       "      <th>sowing season</th>\n",
       "    </tr>\n",
       "  </thead>\n",
       "  <tbody>\n",
       "    <tr>\n",
       "      <th>0</th>\n",
       "      <td>90</td>\n",
       "      <td>42</td>\n",
       "      <td>43</td>\n",
       "      <td>20.880</td>\n",
       "      <td>82.003</td>\n",
       "      <td>6.503</td>\n",
       "      <td>202.936</td>\n",
       "      <td>rice</td>\n",
       "      <td>kharif</td>\n",
       "    </tr>\n",
       "    <tr>\n",
       "      <th>1</th>\n",
       "      <td>85</td>\n",
       "      <td>58</td>\n",
       "      <td>41</td>\n",
       "      <td>21.770</td>\n",
       "      <td>80.320</td>\n",
       "      <td>7.038</td>\n",
       "      <td>226.656</td>\n",
       "      <td>rice</td>\n",
       "      <td>kharif</td>\n",
       "    </tr>\n",
       "    <tr>\n",
       "      <th>2</th>\n",
       "      <td>60</td>\n",
       "      <td>55</td>\n",
       "      <td>44</td>\n",
       "      <td>23.004</td>\n",
       "      <td>82.321</td>\n",
       "      <td>7.840</td>\n",
       "      <td>263.964</td>\n",
       "      <td>rice</td>\n",
       "      <td>kharif</td>\n",
       "    </tr>\n",
       "    <tr>\n",
       "      <th>3</th>\n",
       "      <td>74</td>\n",
       "      <td>35</td>\n",
       "      <td>40</td>\n",
       "      <td>26.491</td>\n",
       "      <td>80.158</td>\n",
       "      <td>6.980</td>\n",
       "      <td>242.864</td>\n",
       "      <td>rice</td>\n",
       "      <td>kharif</td>\n",
       "    </tr>\n",
       "  </tbody>\n",
       "</table>\n",
       "</div>"
      ],
      "text/plain": [
       "    N   P   K  temperature  humidity     ph  rainfall label sowing season\n",
       "0  90  42  43       20.880    82.003  6.503   202.936  rice        kharif\n",
       "1  85  58  41       21.770    80.320  7.038   226.656  rice        kharif\n",
       "2  60  55  44       23.004    82.321  7.840   263.964  rice        kharif\n",
       "3  74  35  40       26.491    80.158  6.980   242.864  rice        kharif"
      ]
     },
     "execution_count": 29,
     "metadata": {},
     "output_type": "execute_result"
    }
   ],
   "source": [
    "\n",
    "df1.head(4)\n"
   ]
  },
  {
   "cell_type": "code",
   "execution_count": null,
   "metadata": {},
   "outputs": [],
   "source": []
  },
  {
   "cell_type": "code",
   "execution_count": 175,
   "metadata": {},
   "outputs": [
    {
     "data": {
      "text/plain": [
       "<bound method NDFrame.head of       Unnamed: 0   N   P   K  temperature  humidity     ph  rainfall label  \\\n",
       "0              0  90  42  43       20.880    82.003  6.503   202.936  rice   \n",
       "1              1  85  58  41       21.770    80.320  7.038   226.656  rice   \n",
       "2              2  60  55  44       23.004    82.321  7.840   263.964  rice   \n",
       "3              3  74  35  40       26.491    80.158  6.980   242.864  rice   \n",
       "4              4  78  42  42       20.130    81.605  7.628   262.717  rice   \n",
       "5              5  69  37  42       23.058    83.370  7.073   251.055  rice   \n",
       "6              6  69  55  38       22.709    82.639  5.701   271.325  rice   \n",
       "7              7  94  53  40       20.278    82.894  5.719   241.974  rice   \n",
       "8              8  89  54  38       24.516    83.535  6.685   230.446  rice   \n",
       "9              9  68  58  38       23.224    83.033  6.336   221.209  rice   \n",
       "10            10  91  53  40       26.527    81.418  5.386   264.615  rice   \n",
       "11            11  90  46  42       23.979    81.451  7.503   250.083  rice   \n",
       "12            12  78  58  44       26.801    80.887  5.109   284.436  rice   \n",
       "13            13  93  56  36       24.015    82.057  6.984   185.277  rice   \n",
       "14            14  94  50  37       25.666    80.664  6.948   209.587  rice   \n",
       "15            15  60  48  39       24.282    80.300  7.042   231.086  rice   \n",
       "16            16  85  38  41       21.587    82.788  6.249   276.655  rice   \n",
       "17            17  91  35  39       23.794    80.418  6.971   206.261  rice   \n",
       "18            18  77  38  36       21.865    80.192  5.954   224.555  rice   \n",
       "19            19  88  35  40       23.579    83.588  5.854   291.299  rice   \n",
       "20            20  89  45  36       21.325    80.475  6.442   185.497  rice   \n",
       "21            21  76  40  43       25.157    83.117  5.070   231.384  rice   \n",
       "22            22  67  59  41       21.948    80.974  6.013   213.356  rice   \n",
       "23            23  83  41  43       21.053    82.678  6.254   233.108  rice   \n",
       "24            24  98  47  37       23.484    81.333  7.375   224.058  rice   \n",
       "25            25  66  53  41       25.076    80.524  7.779   257.004  rice   \n",
       "26            26  97  59  43       26.359    84.044  6.287   271.359  rice   \n",
       "27            27  97  50  41       24.529    80.545  7.071   260.263  rice   \n",
       "28            28  60  49  44       20.776    84.498  6.245   240.081  rice   \n",
       "29            29  84  51  35       22.302    80.644  6.043   197.979  rice   \n",
       "...          ...  ..  ..  ..          ...       ...    ...       ...   ...   \n",
       "1570        1570  61  41  35       24.972    79.476  6.843   195.757  jute   \n",
       "1571        1571  99  57  38       24.806    82.093  6.356   156.362  jute   \n",
       "1572        1572  70  42  43       23.168    76.667  6.508   157.122  jute   \n",
       "1573        1573  90  59  35       24.251    89.865  7.098   175.174  jute   \n",
       "1574        1574  73  43  42       26.584    78.008  6.311   154.824  jute   \n",
       "1575        1575  67  46  44       26.825    78.204  7.093   153.920  jute   \n",
       "1576        1576  84  37  42       25.497    81.134  6.691   169.929  jute   \n",
       "1577        1577  72  41  36       24.099    80.572  6.188   176.860  jute   \n",
       "1578        1578  71  56  37       23.189    86.209  6.492   176.104  jute   \n",
       "1579        1579  64  53  38       26.243    78.511  6.855   183.407  jute   \n",
       "1580        1580  65  54  39       23.751    71.148  7.125   160.089  jute   \n",
       "1581        1581  60  58  37       26.139    79.119  6.067   171.489  jute   \n",
       "1582        1582  86  39  43       26.146    71.237  6.432   193.101  jute   \n",
       "1583        1583  90  50  44       26.916    73.487  6.253   171.472  jute   \n",
       "1584        1584  91  38  36       26.523    77.173  7.287   157.855  jute   \n",
       "1585        1585  87  48  38       23.816    80.940  7.162   190.312  jute   \n",
       "1586        1586  72  41  36       26.508    86.843  6.066   152.980  jute   \n",
       "1587        1587  71  54  35       26.640    70.957  7.311   199.336  jute   \n",
       "1588        1588  82  46  41       23.325    79.796  6.582   187.310  jute   \n",
       "1589        1589  71  52  43       26.475    73.962  6.733   180.251  jute   \n",
       "1590        1590  80  43  43       23.788    74.368  6.015   172.644  jute   \n",
       "1591        1591  77  55  43       25.499    76.000  6.664   193.714  jute   \n",
       "1592        1592  95  57  41       23.249    73.653  6.435   184.767  jute   \n",
       "1593        1593  63  47  35       26.986    89.056  7.433   193.878  jute   \n",
       "1594        1594  93  43  38       23.615    86.143  6.987   150.236  jute   \n",
       "1595        1595  87  44  43       23.875    86.793  6.719   177.515  jute   \n",
       "1596        1596  88  52  39       23.929    88.071  6.880   154.661  jute   \n",
       "1597        1597  90  39  37       24.814    81.687  6.861   190.789  jute   \n",
       "1598        1598  90  39  43       24.447    82.286  6.769   190.968  jute   \n",
       "1599        1599  84  38  43       26.574    73.820  7.262   159.322  jute   \n",
       "\n",
       "     sowing season  \n",
       "0           kharif  \n",
       "1           kharif  \n",
       "2           kharif  \n",
       "3           kharif  \n",
       "4           kharif  \n",
       "5           kharif  \n",
       "6           kharif  \n",
       "7           kharif  \n",
       "8           kharif  \n",
       "9           kharif  \n",
       "10          kharif  \n",
       "11          kharif  \n",
       "12          kharif  \n",
       "13          kharif  \n",
       "14          kharif  \n",
       "15          kharif  \n",
       "16          kharif  \n",
       "17          kharif  \n",
       "18          kharif  \n",
       "19          kharif  \n",
       "20          kharif  \n",
       "21          kharif  \n",
       "22          kharif  \n",
       "23          kharif  \n",
       "24          kharif  \n",
       "25          kharif  \n",
       "26          kharif  \n",
       "27          kharif  \n",
       "28          kharif  \n",
       "29          kharif  \n",
       "...            ...  \n",
       "1570          zaid  \n",
       "1571          zaid  \n",
       "1572          zaid  \n",
       "1573          zaid  \n",
       "1574          zaid  \n",
       "1575          zaid  \n",
       "1576          zaid  \n",
       "1577          zaid  \n",
       "1578          zaid  \n",
       "1579          zaid  \n",
       "1580          zaid  \n",
       "1581          zaid  \n",
       "1582          zaid  \n",
       "1583          zaid  \n",
       "1584          zaid  \n",
       "1585          zaid  \n",
       "1586          zaid  \n",
       "1587          zaid  \n",
       "1588          zaid  \n",
       "1589          zaid  \n",
       "1590          zaid  \n",
       "1591          zaid  \n",
       "1592          zaid  \n",
       "1593          zaid  \n",
       "1594          zaid  \n",
       "1595          zaid  \n",
       "1596          zaid  \n",
       "1597          zaid  \n",
       "1598          zaid  \n",
       "1599          zaid  \n",
       "\n",
       "[1600 rows x 10 columns]>"
      ]
     },
     "execution_count": 175,
     "metadata": {},
     "output_type": "execute_result"
    }
   ],
   "source": [
    "##conditions = [\n",
    "   # (df['label'] == 'jute'), (df['label'] == 'lentil'), (df['label'] == 'blackgram'),(df['label'] == 'watermelon'),\n",
    "    #(df['label'] == 'mango'), (df['label'] == 'chickpea'), (df['label'] == 'kidneybean'), (df['label'] == 'grapes'), (df['label'] == 'orange'),\n",
    "    #(df['label'] == 'papaya'), (df['label'] == 'coconut'), (df['label'] == 'cotton'), (df['label'] == 'banana'), (df['label'] == 'muskmelon'), (df['label'] == 'maize'), (df['label'] == 'rice'),\n",
    "    \n",
    "]\n",
    "\n",
    "#values = ['zaid','zaid','zaid','zaid', 'rabi','rabi','rabi','rabi','rabi','kharif','kharif','kharif','kharif','kharif','kharif','kharif']\n",
    "\n",
    "#df1['sowing season'] = np.select(conditions, values)\n",
    "\n",
    "\n",
    "\n",
    "#df1.to_csv('CSPreco.csv')\n",
    "#df1.head"
   ]
  },
  {
   "cell_type": "code",
   "execution_count": 174,
   "metadata": {},
   "outputs": [
    {
     "name": "stdout",
     "output_type": "stream",
     "text": [
      "    Unnamed: 0   N   P   K  temperature  humidity     ph  rainfall label  \\\n",
      "0            0  90  42  43       20.880    82.003  6.503   202.936  rice   \n",
      "1            1  85  58  41       21.770    80.320  7.038   226.656  rice   \n",
      "2            2  60  55  44       23.004    82.321  7.840   263.964  rice   \n",
      "3            3  74  35  40       26.491    80.158  6.980   242.864  rice   \n",
      "4            4  78  42  42       20.130    81.605  7.628   262.717  rice   \n",
      "5            5  69  37  42       23.058    83.370  7.073   251.055  rice   \n",
      "6            6  69  55  38       22.709    82.639  5.701   271.325  rice   \n",
      "7            7  94  53  40       20.278    82.894  5.719   241.974  rice   \n",
      "8            8  89  54  38       24.516    83.535  6.685   230.446  rice   \n",
      "9            9  68  58  38       23.224    83.033  6.336   221.209  rice   \n",
      "10          10  91  53  40       26.527    81.418  5.386   264.615  rice   \n",
      "11          11  90  46  42       23.979    81.451  7.503   250.083  rice   \n",
      "12          12  78  58  44       26.801    80.887  5.109   284.436  rice   \n",
      "13          13  93  56  36       24.015    82.057  6.984   185.277  rice   \n",
      "14          14  94  50  37       25.666    80.664  6.948   209.587  rice   \n",
      "15          15  60  48  39       24.282    80.300  7.042   231.086  rice   \n",
      "16          16  85  38  41       21.587    82.788  6.249   276.655  rice   \n",
      "17          17  91  35  39       23.794    80.418  6.971   206.261  rice   \n",
      "18          18  77  38  36       21.865    80.192  5.954   224.555  rice   \n",
      "19          19  88  35  40       23.579    83.588  5.854   291.299  rice   \n",
      "20          20  89  45  36       21.325    80.475  6.442   185.497  rice   \n",
      "21          21  76  40  43       25.157    83.117  5.070   231.384  rice   \n",
      "22          22  67  59  41       21.948    80.974  6.013   213.356  rice   \n",
      "23          23  83  41  43       21.053    82.678  6.254   233.108  rice   \n",
      "24          24  98  47  37       23.484    81.333  7.375   224.058  rice   \n",
      "25          25  66  53  41       25.076    80.524  7.779   257.004  rice   \n",
      "26          26  97  59  43       26.359    84.044  6.287   271.359  rice   \n",
      "27          27  97  50  41       24.529    80.545  7.071   260.263  rice   \n",
      "28          28  60  49  44       20.776    84.498  6.245   240.081  rice   \n",
      "29          29  84  51  35       22.302    80.644  6.043   197.979  rice   \n",
      "..         ...  ..  ..  ..          ...       ...    ...       ...   ...   \n",
      "70          70  61  52  41       24.977    83.892  6.880   204.800  rice   \n",
      "71          71  67  45  38       22.728    82.171  7.300   260.888  rice   \n",
      "72          72  79  42  37       24.873    82.840  6.588   295.609  rice   \n",
      "73          73  78  43  42       21.324    83.003  7.284   192.320  rice   \n",
      "74          74  75  54  36       26.295    84.569  7.024   257.491  rice   \n",
      "75          75  97  36  45       22.229    81.859  6.939   278.079  rice   \n",
      "76          76  67  47  44       26.731    81.786  7.868   280.404  rice   \n",
      "77          77  73  35  38       24.889    81.979  5.005   185.946  rice   \n",
      "78          78  77  36  37       26.884    81.460  6.136   194.577  rice   \n",
      "79          79  81  41  38       22.678    83.729  7.524   200.913  rice   \n",
      "80          80  68  57  43       26.089    80.380  5.707   182.904  rice   \n",
      "81          81  72  45  35       25.430    82.947  5.759   195.357  rice   \n",
      "82          82  61  53  43       26.403    81.056  6.350   223.367  rice   \n",
      "83          83  67  43  39       26.044    84.969  6.000   186.754  rice   \n",
      "84          84  67  58  39       25.283    80.544  5.454   220.116  rice   \n",
      "85          85  66  60  38       22.086    83.470  6.373   231.736  rice   \n",
      "86          86  82  43  38       23.286    81.433  5.106   242.317  rice   \n",
      "87          87  84  50  44       25.486    81.406  5.935   182.655  rice   \n",
      "88          88  81  53  42       23.676    81.036  5.178   233.703  rice   \n",
      "89          89  91  50  40       20.825    84.134  6.462   230.224  rice   \n",
      "90          90  93  53  38       26.930    81.914  7.069   290.679  rice   \n",
      "91          91  90  44  38       23.835    83.884  7.473   241.201  rice   \n",
      "92          92  81  45  35       26.529    80.123  6.158   218.916  rice   \n",
      "93          93  78  40  38       26.464    83.856  7.550   248.226  rice   \n",
      "94          94  60  51  36       22.697    82.811  6.028   256.996  rice   \n",
      "95          95  88  46  42       22.683    83.464  6.605   194.265  rice   \n",
      "96          96  93  47  37       21.533    82.140  6.500   295.925  rice   \n",
      "97          97  60  55  45       21.409    83.329  5.936   287.577  rice   \n",
      "98          98  78  35  44       26.543    84.674  7.073   183.622  rice   \n",
      "99          99  65  37  40       23.359    83.595  5.333   188.414  rice   \n",
      "\n",
      "   sowing season  \n",
      "0         kharif  \n",
      "1         kharif  \n",
      "2         kharif  \n",
      "3         kharif  \n",
      "4         kharif  \n",
      "5         kharif  \n",
      "6         kharif  \n",
      "7         kharif  \n",
      "8         kharif  \n",
      "9         kharif  \n",
      "10        kharif  \n",
      "11        kharif  \n",
      "12        kharif  \n",
      "13        kharif  \n",
      "14        kharif  \n",
      "15        kharif  \n",
      "16        kharif  \n",
      "17        kharif  \n",
      "18        kharif  \n",
      "19        kharif  \n",
      "20        kharif  \n",
      "21        kharif  \n",
      "22        kharif  \n",
      "23        kharif  \n",
      "24        kharif  \n",
      "25        kharif  \n",
      "26        kharif  \n",
      "27        kharif  \n",
      "28        kharif  \n",
      "29        kharif  \n",
      "..           ...  \n",
      "70        kharif  \n",
      "71        kharif  \n",
      "72        kharif  \n",
      "73        kharif  \n",
      "74        kharif  \n",
      "75        kharif  \n",
      "76        kharif  \n",
      "77        kharif  \n",
      "78        kharif  \n",
      "79        kharif  \n",
      "80        kharif  \n",
      "81        kharif  \n",
      "82        kharif  \n",
      "83        kharif  \n",
      "84        kharif  \n",
      "85        kharif  \n",
      "86        kharif  \n",
      "87        kharif  \n",
      "88        kharif  \n",
      "89        kharif  \n",
      "90        kharif  \n",
      "91        kharif  \n",
      "92        kharif  \n",
      "93        kharif  \n",
      "94        kharif  \n",
      "95        kharif  \n",
      "96        kharif  \n",
      "97        kharif  \n",
      "98        kharif  \n",
      "99        kharif  \n",
      "\n",
      "[100 rows x 10 columns]\n"
     ]
    }
   ],
   "source": [
    "r= df1['label']=='rice'\n",
    "new_rdf= pd.DataFrame(df1[r])\n",
    "print (new_rdf)\n"
   ]
  },
  {
   "cell_type": "code",
   "execution_count": 132,
   "metadata": {},
   "outputs": [
    {
     "name": "stdout",
     "output_type": "stream",
     "text": [
      "N                    99\n",
      "P                    60\n",
      "K                    45\n",
      "temperature       26.93\n",
      "humidity         84.969\n",
      "ph                7.868\n",
      "rainfall         298.56\n",
      "label              rice\n",
      "sowing season    kharif\n",
      "dtype: object\n"
     ]
    }
   ],
   "source": [
    "maxx= (new_rdf.max())\n",
    "print(maxx)"
   ]
  },
  {
   "cell_type": "code",
   "execution_count": 133,
   "metadata": {},
   "outputs": [
    {
     "name": "stdout",
     "output_type": "stream",
     "text": [
      "N                     60\n",
      "P                     35\n",
      "K                     35\n",
      "temperature       20.045\n",
      "humidity          80.123\n",
      "ph                 5.005\n",
      "rainfall         182.562\n",
      "label               rice\n",
      "sowing season     kharif\n",
      "dtype: object\n"
     ]
    }
   ],
   "source": [
    "minn= (new_rdf.min())\n",
    "print(minn)\n"
   ]
  },
  {
   "cell_type": "code",
   "execution_count": 134,
   "metadata": {},
   "outputs": [
    {
     "name": "stdout",
     "output_type": "stream",
     "text": [
      "                     0       1\n",
      "N                   60      99\n",
      "P                   35      60\n",
      "K                   35      45\n",
      "temperature     20.045   26.93\n",
      "humidity        80.123  84.969\n",
      "ph               5.005   7.868\n",
      "rainfall       182.562  298.56\n",
      "label             rice    rice\n",
      "sowing season   kharif  kharif\n"
     ]
    }
   ],
   "source": [
    "dfs= [minn,maxx]\n",
    "rangg = pd.concat(dfs, axis=1, join='inner')\n",
    "print(rangg)\n"
   ]
  },
  {
   "cell_type": "code",
   "execution_count": 135,
   "metadata": {
    "execution": {
     "iopub.execute_input": "2022-01-19T05:43:03.462532Z",
     "iopub.status.busy": "2022-01-19T05:43:03.461867Z",
     "iopub.status.idle": "2022-01-19T05:43:03.473829Z",
     "shell.execute_reply": "2022-01-19T05:43:03.474455Z"
    },
    "papermill": {
     "duration": 0.049557,
     "end_time": "2022-01-19T05:43:03.474596",
     "exception": false,
     "start_time": "2022-01-19T05:43:03.425039",
     "status": "completed"
    },
    "tags": []
   },
   "outputs": [
    {
     "data": {
      "text/html": [
       "<div>\n",
       "<style scoped>\n",
       "    .dataframe tbody tr th:only-of-type {\n",
       "        vertical-align: middle;\n",
       "    }\n",
       "\n",
       "    .dataframe tbody tr th {\n",
       "        vertical-align: top;\n",
       "    }\n",
       "\n",
       "    .dataframe thead th {\n",
       "        text-align: right;\n",
       "    }\n",
       "</style>\n",
       "<table border=\"1\" class=\"dataframe\">\n",
       "  <thead>\n",
       "    <tr style=\"text-align: right;\">\n",
       "      <th></th>\n",
       "      <th>N</th>\n",
       "      <th>P</th>\n",
       "      <th>K</th>\n",
       "      <th>temperature</th>\n",
       "      <th>humidity</th>\n",
       "      <th>ph</th>\n",
       "      <th>rainfall</th>\n",
       "      <th>label</th>\n",
       "      <th>sowing season</th>\n",
       "    </tr>\n",
       "  </thead>\n",
       "  <tbody>\n",
       "    <tr>\n",
       "      <th>1595</th>\n",
       "      <td>87</td>\n",
       "      <td>44</td>\n",
       "      <td>43</td>\n",
       "      <td>23.875</td>\n",
       "      <td>86.793</td>\n",
       "      <td>6.719</td>\n",
       "      <td>177.515</td>\n",
       "      <td>jute</td>\n",
       "      <td>zaid</td>\n",
       "    </tr>\n",
       "    <tr>\n",
       "      <th>1596</th>\n",
       "      <td>88</td>\n",
       "      <td>52</td>\n",
       "      <td>39</td>\n",
       "      <td>23.929</td>\n",
       "      <td>88.071</td>\n",
       "      <td>6.880</td>\n",
       "      <td>154.661</td>\n",
       "      <td>jute</td>\n",
       "      <td>zaid</td>\n",
       "    </tr>\n",
       "    <tr>\n",
       "      <th>1597</th>\n",
       "      <td>90</td>\n",
       "      <td>39</td>\n",
       "      <td>37</td>\n",
       "      <td>24.814</td>\n",
       "      <td>81.687</td>\n",
       "      <td>6.861</td>\n",
       "      <td>190.789</td>\n",
       "      <td>jute</td>\n",
       "      <td>zaid</td>\n",
       "    </tr>\n",
       "    <tr>\n",
       "      <th>1598</th>\n",
       "      <td>90</td>\n",
       "      <td>39</td>\n",
       "      <td>43</td>\n",
       "      <td>24.447</td>\n",
       "      <td>82.286</td>\n",
       "      <td>6.769</td>\n",
       "      <td>190.968</td>\n",
       "      <td>jute</td>\n",
       "      <td>zaid</td>\n",
       "    </tr>\n",
       "    <tr>\n",
       "      <th>1599</th>\n",
       "      <td>84</td>\n",
       "      <td>38</td>\n",
       "      <td>43</td>\n",
       "      <td>26.574</td>\n",
       "      <td>73.820</td>\n",
       "      <td>7.262</td>\n",
       "      <td>159.322</td>\n",
       "      <td>jute</td>\n",
       "      <td>zaid</td>\n",
       "    </tr>\n",
       "  </tbody>\n",
       "</table>\n",
       "</div>"
      ],
      "text/plain": [
       "       N   P   K  temperature  humidity     ph  rainfall label sowing season\n",
       "1595  87  44  43       23.875    86.793  6.719   177.515  jute          zaid\n",
       "1596  88  52  39       23.929    88.071  6.880   154.661  jute          zaid\n",
       "1597  90  39  37       24.814    81.687  6.861   190.789  jute          zaid\n",
       "1598  90  39  43       24.447    82.286  6.769   190.968  jute          zaid\n",
       "1599  84  38  43       26.574    73.820  7.262   159.322  jute          zaid"
      ]
     },
     "execution_count": 135,
     "metadata": {},
     "output_type": "execute_result"
    }
   ],
   "source": [
    "df1.tail()"
   ]
  },
  {
   "cell_type": "code",
   "execution_count": 136,
   "metadata": {
    "execution": {
     "iopub.execute_input": "2022-01-19T05:43:03.549223Z",
     "iopub.status.busy": "2022-01-19T05:43:03.548570Z",
     "iopub.status.idle": "2022-01-19T05:43:03.551254Z",
     "shell.execute_reply": "2022-01-19T05:43:03.551808Z"
    },
    "papermill": {
     "duration": 0.042772,
     "end_time": "2022-01-19T05:43:03.551959",
     "exception": false,
     "start_time": "2022-01-19T05:43:03.509187",
     "status": "completed"
    },
    "tags": []
   },
   "outputs": [
    {
     "data": {
      "text/plain": [
       "14400"
      ]
     },
     "execution_count": 136,
     "metadata": {},
     "output_type": "execute_result"
    }
   ],
   "source": [
    "df1.size"
   ]
  },
  {
   "cell_type": "code",
   "execution_count": 137,
   "metadata": {
    "execution": {
     "iopub.execute_input": "2022-01-19T05:43:03.625424Z",
     "iopub.status.busy": "2022-01-19T05:43:03.624773Z",
     "iopub.status.idle": "2022-01-19T05:43:03.629241Z",
     "shell.execute_reply": "2022-01-19T05:43:03.629747Z"
    },
    "papermill": {
     "duration": 0.042647,
     "end_time": "2022-01-19T05:43:03.629889",
     "exception": false,
     "start_time": "2022-01-19T05:43:03.587242",
     "status": "completed"
    },
    "tags": []
   },
   "outputs": [
    {
     "data": {
      "text/plain": [
       "(1600, 9)"
      ]
     },
     "execution_count": 137,
     "metadata": {},
     "output_type": "execute_result"
    }
   ],
   "source": [
    "df1.shape"
   ]
  },
  {
   "cell_type": "code",
   "execution_count": 138,
   "metadata": {
    "execution": {
     "iopub.execute_input": "2022-01-19T05:43:03.706951Z",
     "iopub.status.busy": "2022-01-19T05:43:03.706277Z",
     "iopub.status.idle": "2022-01-19T05:43:03.710946Z",
     "shell.execute_reply": "2022-01-19T05:43:03.711421Z"
    },
    "papermill": {
     "duration": 0.045695,
     "end_time": "2022-01-19T05:43:03.711566",
     "exception": false,
     "start_time": "2022-01-19T05:43:03.665871",
     "status": "completed"
    },
    "tags": []
   },
   "outputs": [
    {
     "data": {
      "text/plain": [
       "Index(['N', 'P', 'K', 'temperature', 'humidity', 'ph', 'rainfall', 'label',\n",
       "       'sowing season'],\n",
       "      dtype='object')"
      ]
     },
     "execution_count": 138,
     "metadata": {},
     "output_type": "execute_result"
    }
   ],
   "source": [
    "df1.columns"
   ]
  },
  {
   "cell_type": "code",
   "execution_count": 139,
   "metadata": {
    "execution": {
     "iopub.execute_input": "2022-01-19T05:43:03.790748Z",
     "iopub.status.busy": "2022-01-19T05:43:03.789984Z",
     "iopub.status.idle": "2022-01-19T05:43:03.793022Z",
     "shell.execute_reply": "2022-01-19T05:43:03.793556Z"
    },
    "papermill": {
     "duration": 0.045836,
     "end_time": "2022-01-19T05:43:03.793698",
     "exception": false,
     "start_time": "2022-01-19T05:43:03.747862",
     "status": "completed"
    },
    "tags": []
   },
   "outputs": [
    {
     "data": {
      "text/plain": [
       "array(['rice', 'maize', 'chickpea', 'kidneybeans', 'blackgram', 'lentil',\n",
       "       'banana', 'mango', 'grapes', 'watermelon', 'muskmelon', 'apple',\n",
       "       'orange', 'coconut', 'cotton', 'jute'], dtype=object)"
      ]
     },
     "execution_count": 139,
     "metadata": {},
     "output_type": "execute_result"
    }
   ],
   "source": [
    "df1['label'].unique()"
   ]
  },
  {
   "cell_type": "code",
   "execution_count": 30,
   "metadata": {
    "execution": {
     "iopub.execute_input": "2022-01-19T05:43:03.885417Z",
     "iopub.status.busy": "2022-01-19T05:43:03.884415Z",
     "iopub.status.idle": "2022-01-19T05:43:03.889950Z",
     "shell.execute_reply": "2022-01-19T05:43:03.891023Z"
    },
    "papermill": {
     "duration": 0.058842,
     "end_time": "2022-01-19T05:43:03.891178",
     "exception": false,
     "start_time": "2022-01-19T05:43:03.832336",
     "status": "completed"
    },
    "tags": []
   },
   "outputs": [
    {
     "data": {
      "text/plain": [
       "N                  int64\n",
       "P                  int64\n",
       "K                  int64\n",
       "temperature      float64\n",
       "humidity         float64\n",
       "ph               float64\n",
       "rainfall         float64\n",
       "label             object\n",
       "sowing season     object\n",
       "dtype: object"
      ]
     },
     "execution_count": 30,
     "metadata": {},
     "output_type": "execute_result"
    }
   ],
   "source": [
    "df1.dtypes"
   ]
  },
  {
   "cell_type": "code",
   "execution_count": 44,
   "metadata": {},
   "outputs": [
    {
     "ename": "TypeError",
     "evalue": "Cannot interpret '<attribute 'dtype' of 'numpy.generic' objects>' as a data type",
     "output_type": "error",
     "traceback": [
      "\u001b[1;31m---------------------------------------------------------------------------\u001b[0m",
      "\u001b[1;31mTypeError\u001b[0m                                 Traceback (most recent call last)",
      "\u001b[1;32m<ipython-input-44-b27a6162216d>\u001b[0m in \u001b[0;36m<module>\u001b[1;34m\u001b[0m\n\u001b[0;32m      1\u001b[0m \u001b[0mgrouped\u001b[0m \u001b[1;33m=\u001b[0m \u001b[0mdf\u001b[0m\u001b[1;33m.\u001b[0m\u001b[0mgroupby\u001b[0m\u001b[1;33m(\u001b[0m\u001b[1;34m\"label\"\u001b[0m\u001b[1;33m)\u001b[0m\u001b[1;33m\u001b[0m\u001b[1;33m\u001b[0m\u001b[0m\n\u001b[1;32m----> 2\u001b[1;33m \u001b[0mgrouped\u001b[0m\u001b[1;33m.\u001b[0m\u001b[0mmean\u001b[0m\u001b[1;33m(\u001b[0m\u001b[1;33m)\u001b[0m\u001b[1;33m[\u001b[0m\u001b[1;34m\"N\"\u001b[0m\u001b[1;33m]\u001b[0m\u001b[1;33m.\u001b[0m\u001b[0mplot\u001b[0m\u001b[1;33m(\u001b[0m\u001b[0mkind\u001b[0m\u001b[1;33m=\u001b[0m\u001b[1;34m\"barh\"\u001b[0m\u001b[1;33m)\u001b[0m\u001b[1;33m\u001b[0m\u001b[1;33m\u001b[0m\u001b[0m\n\u001b[0m",
      "\u001b[1;32m~\\Anaconda3\\lib\\site-packages\\pandas\\plotting\\_core.py\u001b[0m in \u001b[0;36m__call__\u001b[1;34m(self, kind, ax, figsize, use_index, title, grid, legend, style, logx, logy, loglog, xticks, yticks, xlim, ylim, rot, fontsize, colormap, table, yerr, xerr, label, secondary_y, **kwds)\u001b[0m\n\u001b[0;32m   2740\u001b[0m                            \u001b[0mcolormap\u001b[0m\u001b[1;33m=\u001b[0m\u001b[0mcolormap\u001b[0m\u001b[1;33m,\u001b[0m \u001b[0mtable\u001b[0m\u001b[1;33m=\u001b[0m\u001b[0mtable\u001b[0m\u001b[1;33m,\u001b[0m \u001b[0myerr\u001b[0m\u001b[1;33m=\u001b[0m\u001b[0myerr\u001b[0m\u001b[1;33m,\u001b[0m\u001b[1;33m\u001b[0m\u001b[1;33m\u001b[0m\u001b[0m\n\u001b[0;32m   2741\u001b[0m                            \u001b[0mxerr\u001b[0m\u001b[1;33m=\u001b[0m\u001b[0mxerr\u001b[0m\u001b[1;33m,\u001b[0m \u001b[0mlabel\u001b[0m\u001b[1;33m=\u001b[0m\u001b[0mlabel\u001b[0m\u001b[1;33m,\u001b[0m \u001b[0msecondary_y\u001b[0m\u001b[1;33m=\u001b[0m\u001b[0msecondary_y\u001b[0m\u001b[1;33m,\u001b[0m\u001b[1;33m\u001b[0m\u001b[1;33m\u001b[0m\u001b[0m\n\u001b[1;32m-> 2742\u001b[1;33m                            **kwds)\n\u001b[0m\u001b[0;32m   2743\u001b[0m     \u001b[0m__call__\u001b[0m\u001b[1;33m.\u001b[0m\u001b[0m__doc__\u001b[0m \u001b[1;33m=\u001b[0m \u001b[0mplot_series\u001b[0m\u001b[1;33m.\u001b[0m\u001b[0m__doc__\u001b[0m\u001b[1;33m\u001b[0m\u001b[1;33m\u001b[0m\u001b[0m\n\u001b[0;32m   2744\u001b[0m \u001b[1;33m\u001b[0m\u001b[0m\n",
      "\u001b[1;32m~\\Anaconda3\\lib\\site-packages\\pandas\\plotting\\_core.py\u001b[0m in \u001b[0;36mplot_series\u001b[1;34m(data, kind, ax, figsize, use_index, title, grid, legend, style, logx, logy, loglog, xticks, yticks, xlim, ylim, rot, fontsize, colormap, table, yerr, xerr, label, secondary_y, **kwds)\u001b[0m\n\u001b[0;32m   1996\u001b[0m                  \u001b[0myerr\u001b[0m\u001b[1;33m=\u001b[0m\u001b[0myerr\u001b[0m\u001b[1;33m,\u001b[0m \u001b[0mxerr\u001b[0m\u001b[1;33m=\u001b[0m\u001b[0mxerr\u001b[0m\u001b[1;33m,\u001b[0m\u001b[1;33m\u001b[0m\u001b[1;33m\u001b[0m\u001b[0m\n\u001b[0;32m   1997\u001b[0m                  \u001b[0mlabel\u001b[0m\u001b[1;33m=\u001b[0m\u001b[0mlabel\u001b[0m\u001b[1;33m,\u001b[0m \u001b[0msecondary_y\u001b[0m\u001b[1;33m=\u001b[0m\u001b[0msecondary_y\u001b[0m\u001b[1;33m,\u001b[0m\u001b[1;33m\u001b[0m\u001b[1;33m\u001b[0m\u001b[0m\n\u001b[1;32m-> 1998\u001b[1;33m                  **kwds)\n\u001b[0m\u001b[0;32m   1999\u001b[0m \u001b[1;33m\u001b[0m\u001b[0m\n\u001b[0;32m   2000\u001b[0m \u001b[1;33m\u001b[0m\u001b[0m\n",
      "\u001b[1;32m~\\Anaconda3\\lib\\site-packages\\pandas\\plotting\\_core.py\u001b[0m in \u001b[0;36m_plot\u001b[1;34m(data, x, y, subplots, ax, kind, **kwds)\u001b[0m\n\u001b[0;32m   1799\u001b[0m         \u001b[0mplot_obj\u001b[0m \u001b[1;33m=\u001b[0m \u001b[0mklass\u001b[0m\u001b[1;33m(\u001b[0m\u001b[0mdata\u001b[0m\u001b[1;33m,\u001b[0m \u001b[0msubplots\u001b[0m\u001b[1;33m=\u001b[0m\u001b[0msubplots\u001b[0m\u001b[1;33m,\u001b[0m \u001b[0max\u001b[0m\u001b[1;33m=\u001b[0m\u001b[0max\u001b[0m\u001b[1;33m,\u001b[0m \u001b[0mkind\u001b[0m\u001b[1;33m=\u001b[0m\u001b[0mkind\u001b[0m\u001b[1;33m,\u001b[0m \u001b[1;33m**\u001b[0m\u001b[0mkwds\u001b[0m\u001b[1;33m)\u001b[0m\u001b[1;33m\u001b[0m\u001b[1;33m\u001b[0m\u001b[0m\n\u001b[0;32m   1800\u001b[0m \u001b[1;33m\u001b[0m\u001b[0m\n\u001b[1;32m-> 1801\u001b[1;33m     \u001b[0mplot_obj\u001b[0m\u001b[1;33m.\u001b[0m\u001b[0mgenerate\u001b[0m\u001b[1;33m(\u001b[0m\u001b[1;33m)\u001b[0m\u001b[1;33m\u001b[0m\u001b[1;33m\u001b[0m\u001b[0m\n\u001b[0m\u001b[0;32m   1802\u001b[0m     \u001b[0mplot_obj\u001b[0m\u001b[1;33m.\u001b[0m\u001b[0mdraw\u001b[0m\u001b[1;33m(\u001b[0m\u001b[1;33m)\u001b[0m\u001b[1;33m\u001b[0m\u001b[1;33m\u001b[0m\u001b[0m\n\u001b[0;32m   1803\u001b[0m     \u001b[1;32mreturn\u001b[0m \u001b[0mplot_obj\u001b[0m\u001b[1;33m.\u001b[0m\u001b[0mresult\u001b[0m\u001b[1;33m\u001b[0m\u001b[1;33m\u001b[0m\u001b[0m\n",
      "\u001b[1;32m~\\Anaconda3\\lib\\site-packages\\pandas\\plotting\\_core.py\u001b[0m in \u001b[0;36mgenerate\u001b[1;34m(self)\u001b[0m\n\u001b[0;32m    247\u001b[0m     \u001b[1;32mdef\u001b[0m \u001b[0mgenerate\u001b[0m\u001b[1;33m(\u001b[0m\u001b[0mself\u001b[0m\u001b[1;33m)\u001b[0m\u001b[1;33m:\u001b[0m\u001b[1;33m\u001b[0m\u001b[1;33m\u001b[0m\u001b[0m\n\u001b[0;32m    248\u001b[0m         \u001b[0mself\u001b[0m\u001b[1;33m.\u001b[0m\u001b[0m_args_adjust\u001b[0m\u001b[1;33m(\u001b[0m\u001b[1;33m)\u001b[0m\u001b[1;33m\u001b[0m\u001b[1;33m\u001b[0m\u001b[0m\n\u001b[1;32m--> 249\u001b[1;33m         \u001b[0mself\u001b[0m\u001b[1;33m.\u001b[0m\u001b[0m_compute_plot_data\u001b[0m\u001b[1;33m(\u001b[0m\u001b[1;33m)\u001b[0m\u001b[1;33m\u001b[0m\u001b[1;33m\u001b[0m\u001b[0m\n\u001b[0m\u001b[0;32m    250\u001b[0m         \u001b[0mself\u001b[0m\u001b[1;33m.\u001b[0m\u001b[0m_setup_subplots\u001b[0m\u001b[1;33m(\u001b[0m\u001b[1;33m)\u001b[0m\u001b[1;33m\u001b[0m\u001b[1;33m\u001b[0m\u001b[0m\n\u001b[0;32m    251\u001b[0m         \u001b[0mself\u001b[0m\u001b[1;33m.\u001b[0m\u001b[0m_make_plot\u001b[0m\u001b[1;33m(\u001b[0m\u001b[1;33m)\u001b[0m\u001b[1;33m\u001b[0m\u001b[1;33m\u001b[0m\u001b[0m\n",
      "\u001b[1;32m~\\Anaconda3\\lib\\site-packages\\pandas\\plotting\\_core.py\u001b[0m in \u001b[0;36m_compute_plot_data\u001b[1;34m(self)\u001b[0m\n\u001b[0;32m    355\u001b[0m                                                    \u001b[1;34m\"datetime\"\u001b[0m\u001b[1;33m,\u001b[0m\u001b[1;33m\u001b[0m\u001b[1;33m\u001b[0m\u001b[0m\n\u001b[0;32m    356\u001b[0m                                                    \u001b[1;34m\"datetimetz\"\u001b[0m\u001b[1;33m,\u001b[0m\u001b[1;33m\u001b[0m\u001b[1;33m\u001b[0m\u001b[0m\n\u001b[1;32m--> 357\u001b[1;33m                                                    \"timedelta\"])\n\u001b[0m\u001b[0;32m    358\u001b[0m \u001b[1;33m\u001b[0m\u001b[0m\n\u001b[0;32m    359\u001b[0m         \u001b[1;32mtry\u001b[0m\u001b[1;33m:\u001b[0m\u001b[1;33m\u001b[0m\u001b[1;33m\u001b[0m\u001b[0m\n",
      "\u001b[1;32m~\\Anaconda3\\lib\\site-packages\\pandas\\core\\frame.py\u001b[0m in \u001b[0;36mselect_dtypes\u001b[1;34m(self, include, exclude)\u001b[0m\n\u001b[0;32m   3324\u001b[0m         \u001b[1;31m# the \"union\" of the logic of case 1 and case 2:\u001b[0m\u001b[1;33m\u001b[0m\u001b[1;33m\u001b[0m\u001b[1;33m\u001b[0m\u001b[0m\n\u001b[0;32m   3325\u001b[0m         \u001b[1;31m# we get the included and excluded, and return their logical and\u001b[0m\u001b[1;33m\u001b[0m\u001b[1;33m\u001b[0m\u001b[1;33m\u001b[0m\u001b[0m\n\u001b[1;32m-> 3326\u001b[1;33m         \u001b[0minclude_these\u001b[0m \u001b[1;33m=\u001b[0m \u001b[0mSeries\u001b[0m\u001b[1;33m(\u001b[0m\u001b[1;32mnot\u001b[0m \u001b[0mbool\u001b[0m\u001b[1;33m(\u001b[0m\u001b[0minclude\u001b[0m\u001b[1;33m)\u001b[0m\u001b[1;33m,\u001b[0m \u001b[0mindex\u001b[0m\u001b[1;33m=\u001b[0m\u001b[0mself\u001b[0m\u001b[1;33m.\u001b[0m\u001b[0mcolumns\u001b[0m\u001b[1;33m)\u001b[0m\u001b[1;33m\u001b[0m\u001b[1;33m\u001b[0m\u001b[0m\n\u001b[0m\u001b[0;32m   3327\u001b[0m         \u001b[0mexclude_these\u001b[0m \u001b[1;33m=\u001b[0m \u001b[0mSeries\u001b[0m\u001b[1;33m(\u001b[0m\u001b[1;32mnot\u001b[0m \u001b[0mbool\u001b[0m\u001b[1;33m(\u001b[0m\u001b[0mexclude\u001b[0m\u001b[1;33m)\u001b[0m\u001b[1;33m,\u001b[0m \u001b[0mindex\u001b[0m\u001b[1;33m=\u001b[0m\u001b[0mself\u001b[0m\u001b[1;33m.\u001b[0m\u001b[0mcolumns\u001b[0m\u001b[1;33m)\u001b[0m\u001b[1;33m\u001b[0m\u001b[1;33m\u001b[0m\u001b[0m\n\u001b[0;32m   3328\u001b[0m \u001b[1;33m\u001b[0m\u001b[0m\n",
      "\u001b[1;32m~\\Anaconda3\\lib\\site-packages\\pandas\\core\\series.py\u001b[0m in \u001b[0;36m__init__\u001b[1;34m(self, data, index, dtype, name, copy, fastpath)\u001b[0m\n\u001b[0;32m    260\u001b[0m             \u001b[1;32melse\u001b[0m\u001b[1;33m:\u001b[0m\u001b[1;33m\u001b[0m\u001b[1;33m\u001b[0m\u001b[0m\n\u001b[0;32m    261\u001b[0m                 data = sanitize_array(data, index, dtype, copy,\n\u001b[1;32m--> 262\u001b[1;33m                                       raise_cast_failure=True)\n\u001b[0m\u001b[0;32m    263\u001b[0m \u001b[1;33m\u001b[0m\u001b[0m\n\u001b[0;32m    264\u001b[0m                 \u001b[0mdata\u001b[0m \u001b[1;33m=\u001b[0m \u001b[0mSingleBlockManager\u001b[0m\u001b[1;33m(\u001b[0m\u001b[0mdata\u001b[0m\u001b[1;33m,\u001b[0m \u001b[0mindex\u001b[0m\u001b[1;33m,\u001b[0m \u001b[0mfastpath\u001b[0m\u001b[1;33m=\u001b[0m\u001b[1;32mTrue\u001b[0m\u001b[1;33m)\u001b[0m\u001b[1;33m\u001b[0m\u001b[1;33m\u001b[0m\u001b[0m\n",
      "\u001b[1;32m~\\Anaconda3\\lib\\site-packages\\pandas\\core\\internals\\construction.py\u001b[0m in \u001b[0;36msanitize_array\u001b[1;34m(data, index, dtype, copy, raise_cast_failure)\u001b[0m\n\u001b[0;32m    640\u001b[0m \u001b[1;33m\u001b[0m\u001b[0m\n\u001b[0;32m    641\u001b[0m             subarr = construct_1d_arraylike_from_scalar(\n\u001b[1;32m--> 642\u001b[1;33m                 value, len(index), dtype)\n\u001b[0m\u001b[0;32m    643\u001b[0m \u001b[1;33m\u001b[0m\u001b[0m\n\u001b[0;32m    644\u001b[0m         \u001b[1;32melse\u001b[0m\u001b[1;33m:\u001b[0m\u001b[1;33m\u001b[0m\u001b[1;33m\u001b[0m\u001b[0m\n",
      "\u001b[1;32m~\\Anaconda3\\lib\\site-packages\\pandas\\core\\dtypes\\cast.py\u001b[0m in \u001b[0;36mconstruct_1d_arraylike_from_scalar\u001b[1;34m(value, length, dtype)\u001b[0m\n\u001b[0;32m   1185\u001b[0m                 \u001b[0mvalue\u001b[0m \u001b[1;33m=\u001b[0m \u001b[0mto_str\u001b[0m\u001b[1;33m(\u001b[0m\u001b[0mvalue\u001b[0m\u001b[1;33m)\u001b[0m\u001b[1;33m\u001b[0m\u001b[1;33m\u001b[0m\u001b[0m\n\u001b[0;32m   1186\u001b[0m \u001b[1;33m\u001b[0m\u001b[0m\n\u001b[1;32m-> 1187\u001b[1;33m         \u001b[0msubarr\u001b[0m \u001b[1;33m=\u001b[0m \u001b[0mnp\u001b[0m\u001b[1;33m.\u001b[0m\u001b[0mempty\u001b[0m\u001b[1;33m(\u001b[0m\u001b[0mlength\u001b[0m\u001b[1;33m,\u001b[0m \u001b[0mdtype\u001b[0m\u001b[1;33m=\u001b[0m\u001b[0mdtype\u001b[0m\u001b[1;33m)\u001b[0m\u001b[1;33m\u001b[0m\u001b[1;33m\u001b[0m\u001b[0m\n\u001b[0m\u001b[0;32m   1188\u001b[0m         \u001b[0msubarr\u001b[0m\u001b[1;33m.\u001b[0m\u001b[0mfill\u001b[0m\u001b[1;33m(\u001b[0m\u001b[0mvalue\u001b[0m\u001b[1;33m)\u001b[0m\u001b[1;33m\u001b[0m\u001b[1;33m\u001b[0m\u001b[0m\n\u001b[0;32m   1189\u001b[0m \u001b[1;33m\u001b[0m\u001b[0m\n",
      "\u001b[1;31mTypeError\u001b[0m: Cannot interpret '<attribute 'dtype' of 'numpy.generic' objects>' as a data type"
     ]
    }
   ],
   "source": [
    "grouped = df.groupby(\"label\")\n",
    "grouped.mean()[\"N\"].plot(kind=\"barh\")"
   ]
  },
  {
   "cell_type": "code",
   "execution_count": 33,
   "metadata": {
    "execution": {
     "iopub.execute_input": "2022-01-19T05:43:03.975256Z",
     "iopub.status.busy": "2022-01-19T05:43:03.974231Z",
     "iopub.status.idle": "2022-01-19T05:43:03.980696Z",
     "shell.execute_reply": "2022-01-19T05:43:03.981294Z"
    },
    "papermill": {
     "duration": 0.050705,
     "end_time": "2022-01-19T05:43:03.981448",
     "exception": false,
     "start_time": "2022-01-19T05:43:03.930743",
     "status": "completed"
    },
    "tags": []
   },
   "outputs": [
    {
     "data": {
      "text/plain": [
       "blackgram      100\n",
       "lentil         100\n",
       "jute           100\n",
       "chickpea       100\n",
       "orange         100\n",
       "apple          100\n",
       "cotton         100\n",
       "kidneybeans    100\n",
       "maize          100\n",
       "banana         100\n",
       "grapes         100\n",
       "muskmelon      100\n",
       "coconut        100\n",
       "rice           100\n",
       "watermelon     100\n",
       "mango          100\n",
       "Name: label, dtype: int64"
      ]
     },
     "execution_count": 33,
     "metadata": {},
     "output_type": "execute_result"
    }
   ],
   "source": [
    "df1['label'].value_counts()"
   ]
  },
  {
   "cell_type": "code",
   "execution_count": 63,
   "metadata": {},
   "outputs": [],
   "source": [
    "#df3['sowing season'] = df2['sowing season'].where(df['label']=='rice', df['sowing season']=='Kharif')"
   ]
  },
  {
   "cell_type": "code",
   "execution_count": 142,
   "metadata": {},
   "outputs": [
    {
     "data": {
      "text/plain": [
       "<bound method NDFrame.head of        N   P   K  temperature  humidity     ph  rainfall label sowing season\n",
       "0     90  42  43       20.880    82.003  6.503   202.936  rice        kharif\n",
       "1     85  58  41       21.770    80.320  7.038   226.656  rice        kharif\n",
       "2     60  55  44       23.004    82.321  7.840   263.964  rice        kharif\n",
       "3     74  35  40       26.491    80.158  6.980   242.864  rice        kharif\n",
       "4     78  42  42       20.130    81.605  7.628   262.717  rice        kharif\n",
       "5     69  37  42       23.058    83.370  7.073   251.055  rice        kharif\n",
       "6     69  55  38       22.709    82.639  5.701   271.325  rice        kharif\n",
       "7     94  53  40       20.278    82.894  5.719   241.974  rice        kharif\n",
       "8     89  54  38       24.516    83.535  6.685   230.446  rice        kharif\n",
       "9     68  58  38       23.224    83.033  6.336   221.209  rice        kharif\n",
       "10    91  53  40       26.527    81.418  5.386   264.615  rice        kharif\n",
       "11    90  46  42       23.979    81.451  7.503   250.083  rice        kharif\n",
       "12    78  58  44       26.801    80.887  5.109   284.436  rice        kharif\n",
       "13    93  56  36       24.015    82.057  6.984   185.277  rice        kharif\n",
       "14    94  50  37       25.666    80.664  6.948   209.587  rice        kharif\n",
       "15    60  48  39       24.282    80.300  7.042   231.086  rice        kharif\n",
       "16    85  38  41       21.587    82.788  6.249   276.655  rice        kharif\n",
       "17    91  35  39       23.794    80.418  6.971   206.261  rice        kharif\n",
       "18    77  38  36       21.865    80.192  5.954   224.555  rice        kharif\n",
       "19    88  35  40       23.579    83.588  5.854   291.299  rice        kharif\n",
       "20    89  45  36       21.325    80.475  6.442   185.497  rice        kharif\n",
       "21    76  40  43       25.157    83.117  5.070   231.384  rice        kharif\n",
       "22    67  59  41       21.948    80.974  6.013   213.356  rice        kharif\n",
       "23    83  41  43       21.053    82.678  6.254   233.108  rice        kharif\n",
       "24    98  47  37       23.484    81.333  7.375   224.058  rice        kharif\n",
       "25    66  53  41       25.076    80.524  7.779   257.004  rice        kharif\n",
       "26    97  59  43       26.359    84.044  6.287   271.359  rice        kharif\n",
       "27    97  50  41       24.529    80.545  7.071   260.263  rice        kharif\n",
       "28    60  49  44       20.776    84.498  6.245   240.081  rice        kharif\n",
       "29    84  51  35       22.302    80.644  6.043   197.979  rice        kharif\n",
       "...   ..  ..  ..          ...       ...    ...       ...   ...           ...\n",
       "1570  61  41  35       24.972    79.476  6.843   195.757  jute          zaid\n",
       "1571  99  57  38       24.806    82.093  6.356   156.362  jute          zaid\n",
       "1572  70  42  43       23.168    76.667  6.508   157.122  jute          zaid\n",
       "1573  90  59  35       24.251    89.865  7.098   175.174  jute          zaid\n",
       "1574  73  43  42       26.584    78.008  6.311   154.824  jute          zaid\n",
       "1575  67  46  44       26.825    78.204  7.093   153.920  jute          zaid\n",
       "1576  84  37  42       25.497    81.134  6.691   169.929  jute          zaid\n",
       "1577  72  41  36       24.099    80.572  6.188   176.860  jute          zaid\n",
       "1578  71  56  37       23.189    86.209  6.492   176.104  jute          zaid\n",
       "1579  64  53  38       26.243    78.511  6.855   183.407  jute          zaid\n",
       "1580  65  54  39       23.751    71.148  7.125   160.089  jute          zaid\n",
       "1581  60  58  37       26.139    79.119  6.067   171.489  jute          zaid\n",
       "1582  86  39  43       26.146    71.237  6.432   193.101  jute          zaid\n",
       "1583  90  50  44       26.916    73.487  6.253   171.472  jute          zaid\n",
       "1584  91  38  36       26.523    77.173  7.287   157.855  jute          zaid\n",
       "1585  87  48  38       23.816    80.940  7.162   190.312  jute          zaid\n",
       "1586  72  41  36       26.508    86.843  6.066   152.980  jute          zaid\n",
       "1587  71  54  35       26.640    70.957  7.311   199.336  jute          zaid\n",
       "1588  82  46  41       23.325    79.796  6.582   187.310  jute          zaid\n",
       "1589  71  52  43       26.475    73.962  6.733   180.251  jute          zaid\n",
       "1590  80  43  43       23.788    74.368  6.015   172.644  jute          zaid\n",
       "1591  77  55  43       25.499    76.000  6.664   193.714  jute          zaid\n",
       "1592  95  57  41       23.249    73.653  6.435   184.767  jute          zaid\n",
       "1593  63  47  35       26.986    89.056  7.433   193.878  jute          zaid\n",
       "1594  93  43  38       23.615    86.143  6.987   150.236  jute          zaid\n",
       "1595  87  44  43       23.875    86.793  6.719   177.515  jute          zaid\n",
       "1596  88  52  39       23.929    88.071  6.880   154.661  jute          zaid\n",
       "1597  90  39  37       24.814    81.687  6.861   190.789  jute          zaid\n",
       "1598  90  39  43       24.447    82.286  6.769   190.968  jute          zaid\n",
       "1599  84  38  43       26.574    73.820  7.262   159.322  jute          zaid\n",
       "\n",
       "[1600 rows x 9 columns]>"
      ]
     },
     "execution_count": 142,
     "metadata": {},
     "output_type": "execute_result"
    }
   ],
   "source": [
    "df1.head"
   ]
  },
  {
   "cell_type": "code",
   "execution_count": 32,
   "metadata": {
    "execution": {
     "iopub.execute_input": "2022-01-19T05:43:04.072215Z",
     "iopub.status.busy": "2022-01-19T05:43:04.071533Z",
     "iopub.status.idle": "2022-01-19T05:43:04.546770Z",
     "shell.execute_reply": "2022-01-19T05:43:04.547313Z"
    },
    "papermill": {
     "duration": 0.52399,
     "end_time": "2022-01-19T05:43:04.547478",
     "exception": false,
     "start_time": "2022-01-19T05:43:04.023488",
     "status": "completed"
    },
    "tags": []
   },
   "outputs": [
    {
     "data": {
      "text/plain": [
       "<matplotlib.axes._subplots.AxesSubplot at 0x19ec57df278>"
      ]
     },
     "execution_count": 32,
     "metadata": {},
     "output_type": "execute_result"
    },
    {
     "data": {
      "image/png": "[encoded data removed]",
      "text/plain": [
       "<Figure size 432x288 with 2 Axes>"
      ]
     },
     "metadata": {
      "needs_background": "light"
     },
     "output_type": "display_data"
    }
   ],
   "source": [
    "sns.heatmap(df.corr(),annot=True,cmap='YlOrRd') #for correlation"
   ]
  },
  {
   "attachments": {},
   "cell_type": "markdown",
   "metadata": {
    "papermill": {
     "duration": 0.039153,
     "end_time": "2022-01-19T05:43:04.626871",
     "exception": false,
     "start_time": "2022-01-19T05:43:04.587718",
     "status": "completed"
    },
    "tags": []
   },
   "source": [
    "### Seperating features and target label"
   ]
  },
  {
   "cell_type": "code",
   "execution_count": 13,
   "metadata": {
    "execution": {
     "iopub.execute_input": "2022-01-19T05:43:04.711476Z",
     "iopub.status.busy": "2022-01-19T05:43:04.710837Z",
     "iopub.status.idle": "2022-01-19T05:43:04.716667Z",
     "shell.execute_reply": "2022-01-19T05:43:04.717198Z"
    },
    "papermill": {
     "duration": 0.049985,
     "end_time": "2022-01-19T05:43:04.717341",
     "exception": false,
     "start_time": "2022-01-19T05:43:04.667356",
     "status": "completed"
    },
    "tags": []
   },
   "outputs": [],
   "source": [
    "features = df[['N', 'P','K','temperature', 'humidity', 'ph', 'rainfall']]\n",
    "target = df['label']\n",
    "labels = df['label']"
   ]
  },
  {
   "cell_type": "code",
   "execution_count": 14,
   "metadata": {
    "execution": {
     "iopub.execute_input": "2022-01-19T05:43:04.800353Z",
     "iopub.status.busy": "2022-01-19T05:43:04.799714Z",
     "iopub.status.idle": "2022-01-19T05:43:04.803063Z",
     "shell.execute_reply": "2022-01-19T05:43:04.803702Z"
    },
    "papermill": {
     "duration": 0.046447,
     "end_time": "2022-01-19T05:43:04.803839",
     "exception": false,
     "start_time": "2022-01-19T05:43:04.757392",
     "status": "completed"
    },
    "tags": []
   },
   "outputs": [],
   "source": [
    "# Initializing empty lists to append all model's name and corresponding name\n",
    "acc = []\n",
    "model = [] "
   ]
  },
  {
   "cell_type": "code",
   "execution_count": 15,
   "metadata": {
    "execution": {
     "iopub.execute_input": "2022-01-19T05:43:04.887640Z",
     "iopub.status.busy": "2022-01-19T05:43:04.887024Z",
     "iopub.status.idle": "2022-01-19T05:43:04.895733Z",
     "shell.execute_reply": "2022-01-19T05:43:04.896261Z"
    },
    "papermill": {
     "duration": 0.0525,
     "end_time": "2022-01-19T05:43:04.896431",
     "exception": false,
     "start_time": "2022-01-19T05:43:04.843931",
     "status": "completed"
    },
    "tags": []
   },
   "outputs": [],
   "source": [
    "# Splitting into train and test data\n",
    "\n",
    "from sklearn.model_selection import train_test_split\n",
    "Xtrain, Xtest, Ytrain, Ytest = train_test_split(features,target,test_size = 0.3,random_state =1)"
   ]
  },
  {
   "attachments": {},
   "cell_type": "markdown",
   "metadata": {
    "papermill": {
     "duration": 0.039474,
     "end_time": "2022-01-19T05:43:04.975940",
     "exception": false,
     "start_time": "2022-01-19T05:43:04.936466",
     "status": "completed"
    },
    "tags": []
   },
   "source": [
    "# Decision Tree"
   ]
  },
  {
   "cell_type": "code",
   "execution_count": 16,
   "metadata": {
    "execution": {
     "iopub.execute_input": "2022-01-19T05:43:05.068239Z",
     "iopub.status.busy": "2022-01-19T05:43:05.067596Z",
     "iopub.status.idle": "2022-01-19T05:43:05.124928Z",
     "shell.execute_reply": "2022-01-19T05:43:05.124305Z"
    },
    "papermill": {
     "duration": 0.107583,
     "end_time": "2022-01-19T05:43:05.125047",
     "exception": false,
     "start_time": "2022-01-19T05:43:05.017464",
     "status": "completed"
    },
    "tags": []
   },
   "outputs": [
    {
     "name": "stdout",
     "output_type": "stream",
     "text": [
      "DecisionTrees's Accuracy is:  97.77777777777777\n",
      "              precision    recall  f1-score   support\n",
      "\n",
      "      banana       0.97      1.00      0.99        33\n",
      "   blackgram       1.00      1.00      1.00        32\n",
      "    chickpea       1.00      0.97      0.98        29\n",
      "     coconut       1.00      1.00      1.00        37\n",
      "      cotton       1.00      1.00      1.00        24\n",
      "      grapes       1.00      1.00      1.00        34\n",
      "        jute       0.82      0.88      0.85        26\n",
      " kidneybeans       1.00      1.00      1.00        29\n",
      "      lentil       1.00      1.00      1.00        36\n",
      "       maize       1.00      1.00      1.00        29\n",
      "       mango       1.00      1.00      1.00        25\n",
      "   muskmelon       0.97      1.00      0.98        31\n",
      "      orange       1.00      1.00      1.00        30\n",
      "        rice       0.89      0.83      0.86        30\n",
      "  watermelon       1.00      0.96      0.98        25\n",
      "\n",
      "    accuracy                           0.98       450\n",
      "   macro avg       0.98      0.98      0.98       450\n",
      "weighted avg       0.98      0.98      0.98       450\n",
      "\n"
     ]
    }
   ],
   "source": [
    "from sklearn.tree import DecisionTreeClassifier\n",
    "\n",
    "DecisionTree = DecisionTreeClassifier(criterion=\"entropy\",random_state=2,max_depth=5)\n",
    "\n",
    "DecisionTree.fit(Xtrain,Ytrain)\n",
    "\n",
    "predicted_values = DecisionTree.predict(Xtest)\n",
    "x = metrics.accuracy_score(Ytest, predicted_values)\n",
    "acc.append(x)\n",
    "model.append('Decision Tree')\n",
    "print(\"DecisionTrees's Accuracy is: \", x*100)\n",
    "\n",
    "print(classification_report(Ytest,predicted_values))"
   ]
  },
  {
   "cell_type": "code",
   "execution_count": 17,
   "metadata": {
    "execution": {
     "iopub.execute_input": "2022-01-19T05:43:05.210871Z",
     "iopub.status.busy": "2022-01-19T05:43:05.210173Z",
     "iopub.status.idle": "2022-01-19T05:43:05.213210Z",
     "shell.execute_reply": "2022-01-19T05:43:05.212618Z"
    },
    "papermill": {
     "duration": 0.047814,
     "end_time": "2022-01-19T05:43:05.213339",
     "exception": false,
     "start_time": "2022-01-19T05:43:05.165525",
     "status": "completed"
    },
    "tags": []
   },
   "outputs": [],
   "source": [
    "from sklearn.model_selection import cross_val_score"
   ]
  },
  {
   "cell_type": "code",
   "execution_count": 18,
   "metadata": {
    "execution": {
     "iopub.execute_input": "2022-01-19T05:43:05.298456Z",
     "iopub.status.busy": "2022-01-19T05:43:05.297795Z",
     "iopub.status.idle": "2022-01-19T05:43:05.456864Z",
     "shell.execute_reply": "2022-01-19T05:43:05.456278Z"
    },
    "papermill": {
     "duration": 0.202782,
     "end_time": "2022-01-19T05:43:05.456995",
     "exception": false,
     "start_time": "2022-01-19T05:43:05.254213",
     "status": "completed"
    },
    "tags": []
   },
   "outputs": [],
   "source": [
    "# Cross validation score (Decision Tree)\n",
    "score = cross_val_score(DecisionTree, features, target,cv=5)"
   ]
  },
  {
   "cell_type": "code",
   "execution_count": 19,
   "metadata": {
    "execution": {
     "iopub.execute_input": "2022-01-19T05:43:05.545867Z",
     "iopub.status.busy": "2022-01-19T05:43:05.545124Z",
     "iopub.status.idle": "2022-01-19T05:43:05.549090Z",
     "shell.execute_reply": "2022-01-19T05:43:05.548565Z"
    },
    "papermill": {
     "duration": 0.049706,
     "end_time": "2022-01-19T05:43:05.549201",
     "exception": false,
     "start_time": "2022-01-19T05:43:05.499495",
     "status": "completed"
    },
    "tags": []
   },
   "outputs": [
    {
     "data": {
      "text/plain": [
       "array([0.98666667, 0.98      , 0.97666667, 0.98666667, 0.96333333])"
      ]
     },
     "execution_count": 19,
     "metadata": {},
     "output_type": "execute_result"
    }
   ],
   "source": [
    "score"
   ]
  },
  {
   "attachments": {},
   "cell_type": "markdown",
   "metadata": {
    "papermill": {
     "duration": 0.041656,
     "end_time": "2022-01-19T05:43:05.633034",
     "exception": false,
     "start_time": "2022-01-19T05:43:05.591378",
     "status": "completed"
    },
    "tags": []
   },
   "source": [
    "### Saving trained Decision Tree model"
   ]
  },
  {
   "cell_type": "code",
   "execution_count": 17,
   "metadata": {
    "execution": {
     "iopub.execute_input": "2022-01-19T05:43:05.719833Z",
     "iopub.status.busy": "2022-01-19T05:43:05.719107Z",
     "iopub.status.idle": "2022-01-19T05:43:05.724082Z",
     "shell.execute_reply": "2022-01-19T05:43:05.724645Z"
    },
    "papermill": {
     "duration": 0.050537,
     "end_time": "2022-01-19T05:43:05.724796",
     "exception": false,
     "start_time": "2022-01-19T05:43:05.674259",
     "status": "completed"
    },
    "tags": []
   },
   "outputs": [],
   "source": [
    "import pickle\n",
    "# Dump the trained Naive Bayes classifier with Pickle\n",
    "DT_pkl_filename = 'DecisionTree.pkl'\n",
    "# Open the file to save as pkl file\n",
    "DT_Model_pkl = open(DT_pkl_filename, 'wb')\n",
    "pickle.dump(DecisionTree, DT_Model_pkl)\n",
    "# Close the pickle instances\n",
    "DT_Model_pkl.close()"
   ]
  },
  {
   "cell_type": "code",
   "execution_count": 22,
   "metadata": {
    "execution": {
     "iopub.execute_input": "2022-01-19T05:43:06.502058Z",
     "iopub.status.busy": "2022-01-19T05:43:06.501316Z",
     "iopub.status.idle": "2022-01-19T05:43:06.908550Z",
     "shell.execute_reply": "2022-01-19T05:43:06.907970Z"
    },
    "papermill": {
     "duration": 0.458083,
     "end_time": "2022-01-19T05:43:06.908677",
     "exception": false,
     "start_time": "2022-01-19T05:43:06.450594",
     "status": "completed"
    },
    "tags": []
   },
   "outputs": [
    {
     "name": "stdout",
     "output_type": "stream",
     "text": [
      "SVM's Accuracy is:  0.1622222222222222\n",
      "              precision    recall  f1-score   support\n",
      "\n",
      "      banana       1.00      0.09      0.17        33\n",
      "   blackgram       1.00      0.03      0.06        32\n",
      "    chickpea       1.00      0.14      0.24        29\n",
      "     coconut       1.00      0.05      0.10        37\n",
      "      cotton       0.06      1.00      0.11        24\n",
      "      grapes       0.00      0.00      0.00        34\n",
      "        jute       1.00      0.08      0.14        26\n",
      " kidneybeans       1.00      0.03      0.07        29\n",
      "      lentil       0.00      0.00      0.00        36\n",
      "       maize       1.00      0.03      0.07        29\n",
      "       mango       1.00      0.40      0.57        25\n",
      "   muskmelon       1.00      0.32      0.49        31\n",
      "      orange       0.00      0.00      0.00        30\n",
      "        rice       1.00      0.07      0.12        30\n",
      "  watermelon       1.00      0.52      0.68        25\n",
      "\n",
      "    accuracy                           0.16       450\n",
      "   macro avg       0.74      0.18      0.19       450\n",
      "weighted avg       0.73      0.16      0.18       450\n",
      "\n"
     ]
    }
   ],
   "source": [
    "from sklearn.svm import SVC\n",
    "\n",
    "SVM = SVC(gamma='auto')\n",
    "\n",
    "SVM.fit(Xtrain,Ytrain)\n",
    "\n",
    "predicted_values = SVM.predict(Xtest)\n",
    "\n",
    "x = metrics.accuracy_score(Ytest, predicted_values)\n",
    "acc.append(x)\n",
    "model.append('SVM')\n",
    "print(\"SVM's Accuracy is: \", x)\n",
    "\n",
    "print(classification_report(Ytest,predicted_values))"
   ]
  },
  {
   "attachments": {},
   "cell_type": "markdown",
   "metadata": {
    "papermill": {
     "duration": 0.04115,
     "end_time": "2022-01-19T05:43:05.807761",
     "exception": false,
     "start_time": "2022-01-19T05:43:05.766611",
     "status": "completed"
    },
    "tags": []
   },
   "source": [
    "# Guassian Naive Bayes"
   ]
  },
  {
   "cell_type": "code",
   "execution_count": 23,
   "metadata": {
    "execution": {
     "iopub.execute_input": "2022-01-19T05:43:05.917742Z",
     "iopub.status.busy": "2022-01-19T05:43:05.916712Z",
     "iopub.status.idle": "2022-01-19T05:43:05.965350Z",
     "shell.execute_reply": "2022-01-19T05:43:05.966018Z"
    },
    "papermill": {
     "duration": 0.107743,
     "end_time": "2022-01-19T05:43:05.966167",
     "exception": false,
     "start_time": "2022-01-19T05:43:05.858424",
     "status": "completed"
    },
    "tags": []
   },
   "outputs": [
    {
     "name": "stdout",
     "output_type": "stream",
     "text": [
      "Naive Bayes's Accuracy is:  0.9888888888888889\n",
      "              precision    recall  f1-score   support\n",
      "\n",
      "      banana       1.00      1.00      1.00        33\n",
      "   blackgram       1.00      1.00      1.00        32\n",
      "    chickpea       1.00      1.00      1.00        29\n",
      "     coconut       1.00      1.00      1.00        37\n",
      "      cotton       0.96      1.00      0.98        24\n",
      "      grapes       1.00      1.00      1.00        34\n",
      "        jute       0.87      1.00      0.93        26\n",
      " kidneybeans       1.00      1.00      1.00        29\n",
      "      lentil       1.00      1.00      1.00        36\n",
      "       maize       1.00      0.97      0.98        29\n",
      "       mango       1.00      1.00      1.00        25\n",
      "   muskmelon       1.00      1.00      1.00        31\n",
      "      orange       1.00      1.00      1.00        30\n",
      "        rice       1.00      0.87      0.93        30\n",
      "  watermelon       1.00      1.00      1.00        25\n",
      "\n",
      "    accuracy                           0.99       450\n",
      "   macro avg       0.99      0.99      0.99       450\n",
      "weighted avg       0.99      0.99      0.99       450\n",
      "\n"
     ]
    }
   ],
   "source": [
    "from sklearn.naive_bayes import GaussianNB\n",
    "\n",
    "NaiveBayes = GaussianNB()\n",
    "\n",
    "NaiveBayes.fit(Xtrain,Ytrain)\n",
    "\n",
    "predicted_values = NaiveBayes.predict(Xtest)\n",
    "x = metrics.accuracy_score(Ytest, predicted_values)\n",
    "acc.append(x)\n",
    "model.append('Naive Bayes')\n",
    "print(\"Naive Bayes's Accuracy is: \", x)\n",
    "\n",
    "print(classification_report(Ytest,predicted_values))"
   ]
  },
  {
   "cell_type": "code",
   "execution_count": 21,
   "metadata": {
    "execution": {
     "iopub.execute_input": "2022-01-19T05:43:06.057149Z",
     "iopub.status.busy": "2022-01-19T05:43:06.056101Z",
     "iopub.status.idle": "2022-01-19T05:43:06.139853Z",
     "shell.execute_reply": "2022-01-19T05:43:06.140342Z"
    },
    "papermill": {
     "duration": 0.130813,
     "end_time": "2022-01-19T05:43:06.140516",
     "exception": false,
     "start_time": "2022-01-19T05:43:06.009703",
     "status": "completed"
    },
    "tags": []
   },
   "outputs": [
    {
     "data": {
      "text/plain": [
       "array([0.99666667, 0.99333333, 0.99333333, 0.99333333, 0.98333333])"
      ]
     },
     "execution_count": 21,
     "metadata": {},
     "output_type": "execute_result"
    }
   ],
   "source": [
    "# Cross validation score (NaiveBayes)\n",
    "score = cross_val_score(NaiveBayes,features,target,cv=5)\n",
    "score"
   ]
  },
  {
   "attachments": {},
   "cell_type": "markdown",
   "metadata": {
    "papermill": {
     "duration": 0.044216,
     "end_time": "2022-01-19T05:43:06.228561",
     "exception": false,
     "start_time": "2022-01-19T05:43:06.184345",
     "status": "completed"
    },
    "tags": []
   },
   "source": [
    "### Saving trained Guassian Naive Bayes model"
   ]
  },
  {
   "cell_type": "code",
   "execution_count": 20,
   "metadata": {
    "execution": {
     "iopub.execute_input": "2022-01-19T05:43:06.317717Z",
     "iopub.status.busy": "2022-01-19T05:43:06.316731Z",
     "iopub.status.idle": "2022-01-19T05:43:06.322155Z",
     "shell.execute_reply": "2022-01-19T05:43:06.322709Z"
    },
    "papermill": {
     "duration": 0.051779,
     "end_time": "2022-01-19T05:43:06.322857",
     "exception": false,
     "start_time": "2022-01-19T05:43:06.271078",
     "status": "completed"
    },
    "tags": []
   },
   "outputs": [],
   "source": [
    "import pickle\n",
    "# Dump the trained Naive Bayes classifier with Pickle\n",
    "NB_pkl_filename = 'NBClassifier.pkl'\n",
    "# Open the file to save as pkl file\n",
    "NB_Model_pkl = open(NB_pkl_filename, 'wb')\n",
    "pickle.dump(NaiveBayes, NB_Model_pkl)\n",
    "# Close the pickle instances\n",
    "NB_Model_pkl.close()"
   ]
  },
  {
   "attachments": {},
   "cell_type": "markdown",
   "metadata": {
    "papermill": {
     "duration": 0.042554,
     "end_time": "2022-01-19T05:43:06.408062",
     "exception": false,
     "start_time": "2022-01-19T05:43:06.365508",
     "status": "completed"
    },
    "tags": []
   },
   "source": [
    "# Support Vector Machine (SVM)"
   ]
  },
  {
   "cell_type": "code",
   "execution_count": 15,
   "metadata": {
    "execution": {
     "iopub.execute_input": "2022-01-19T05:43:07.004875Z",
     "iopub.status.busy": "2022-01-19T05:43:07.004229Z",
     "iopub.status.idle": "2022-01-19T05:43:08.802385Z",
     "shell.execute_reply": "2022-01-19T05:43:08.802860Z"
    },
    "papermill": {
     "duration": 1.849917,
     "end_time": "2022-01-19T05:43:08.803004",
     "exception": false,
     "start_time": "2022-01-19T05:43:06.953087",
     "status": "completed"
    },
    "tags": []
   },
   "outputs": [
    {
     "data": {
      "text/plain": [
       "array([0.25333333, 0.32      , 0.33666667, 0.28      , 0.34      ])"
      ]
     },
     "execution_count": 15,
     "metadata": {},
     "output_type": "execute_result"
    }
   ],
   "source": [
    "# Cross validation score (SVM)\n",
    "score = cross_val_score(SVM,features,target,cv=5)\n",
    "score"
   ]
  },
  {
   "cell_type": "code",
   "execution_count": 24,
   "metadata": {
    "execution": {
     "iopub.execute_input": "2022-01-19T05:43:09.005272Z",
     "iopub.status.busy": "2022-01-19T05:43:09.004280Z",
     "iopub.status.idle": "2022-01-19T05:43:09.440693Z",
     "shell.execute_reply": "2022-01-19T05:43:09.441336Z"
    },
    "papermill": {
     "duration": 0.484795,
     "end_time": "2022-01-19T05:43:09.441513",
     "exception": false,
     "start_time": "2022-01-19T05:43:08.956718",
     "status": "completed"
    },
    "tags": []
   },
   "outputs": [
    {
     "name": "stdout",
     "output_type": "stream",
     "text": [
      "Logistic Regression's Accuracy is:  0.9622222222222222\n",
      "              precision    recall  f1-score   support\n",
      "\n",
      "      banana       0.97      1.00      0.99        33\n",
      "   blackgram       0.91      0.91      0.91        32\n",
      "    chickpea       1.00      1.00      1.00        29\n",
      "     coconut       1.00      1.00      1.00        37\n",
      "      cotton       0.96      1.00      0.98        24\n",
      "      grapes       1.00      1.00      1.00        34\n",
      "        jute       0.76      0.85      0.80        26\n",
      " kidneybeans       1.00      1.00      1.00        29\n",
      "      lentil       0.97      0.92      0.94        36\n",
      "       maize       1.00      0.93      0.96        29\n",
      "       mango       1.00      1.00      1.00        25\n",
      "   muskmelon       1.00      1.00      1.00        31\n",
      "      orange       1.00      1.00      1.00        30\n",
      "        rice       0.86      0.83      0.85        30\n",
      "  watermelon       1.00      1.00      1.00        25\n",
      "\n",
      "    accuracy                           0.96       450\n",
      "   macro avg       0.96      0.96      0.96       450\n",
      "weighted avg       0.96      0.96      0.96       450\n",
      "\n"
     ]
    }
   ],
   "source": [
    "from sklearn.linear_model import LogisticRegression\n",
    "\n",
    "LogReg = LogisticRegression(random_state=3)\n",
    "\n",
    "LogReg.fit(Xtrain,Ytrain)\n",
    "\n",
    "predicted_values = LogReg.predict(Xtest)\n",
    "\n",
    "x = metrics.accuracy_score(Ytest, predicted_values)\n",
    "acc.append(x)\n",
    "model.append('Logistic Regression')\n",
    "print(\"Logistic Regression's Accuracy is: \", x)\n",
    "\n",
    "print(classification_report(Ytest,predicted_values))"
   ]
  },
  {
   "attachments": {},
   "cell_type": "markdown",
   "metadata": {
    "papermill": {
     "duration": 0.044005,
     "end_time": "2022-01-19T05:43:08.902449",
     "exception": false,
     "start_time": "2022-01-19T05:43:08.858444",
     "status": "completed"
    },
    "tags": []
   },
   "source": [
    "# Logistic Regression"
   ]
  },
  {
   "cell_type": "code",
   "execution_count": 25,
   "metadata": {},
   "outputs": [
    {
     "ename": "TypeError",
     "evalue": "Cannot interpret '<attribute 'dtype' of 'numpy.generic' objects>' as a data type",
     "output_type": "error",
     "traceback": [
      "\u001b[1;31m---------------------------------------------------------------------------\u001b[0m",
      "\u001b[1;31mTypeError\u001b[0m                                 Traceback (most recent call last)",
      "\u001b[1;32m<ipython-input-25-5aa66e3edb9f>\u001b[0m in \u001b[0;36m<module>\u001b[1;34m\u001b[0m\n\u001b[0;32m      1\u001b[0m \u001b[1;32mimport\u001b[0m \u001b[0mlightgbm\u001b[0m \u001b[1;32mas\u001b[0m \u001b[0mlgb\u001b[0m\u001b[1;33m\u001b[0m\u001b[1;33m\u001b[0m\u001b[0m\n\u001b[0;32m      2\u001b[0m \u001b[0mlgbm\u001b[0m\u001b[1;33m=\u001b[0m\u001b[0mlgb\u001b[0m\u001b[1;33m.\u001b[0m\u001b[0mLGBMClassifier\u001b[0m\u001b[1;33m(\u001b[0m\u001b[0mmax_depth\u001b[0m\u001b[1;33m=\u001b[0m\u001b[1;36m6\u001b[0m\u001b[1;33m)\u001b[0m\u001b[1;33m\u001b[0m\u001b[1;33m\u001b[0m\u001b[0m\n\u001b[1;32m----> 3\u001b[1;33m \u001b[0mlgbm\u001b[0m\u001b[1;33m.\u001b[0m\u001b[0mfit\u001b[0m\u001b[1;33m(\u001b[0m\u001b[0mXtrain\u001b[0m\u001b[1;33m,\u001b[0m\u001b[0mYtrain\u001b[0m\u001b[1;33m)\u001b[0m\u001b[1;33m\u001b[0m\u001b[1;33m\u001b[0m\u001b[0m\n\u001b[0m\u001b[0;32m      4\u001b[0m \u001b[1;33m\u001b[0m\u001b[0m\n\u001b[0;32m      5\u001b[0m \u001b[0mpredicted_values\u001b[0m \u001b[1;33m=\u001b[0m \u001b[0mlgbm\u001b[0m\u001b[1;33m.\u001b[0m\u001b[0mpredict\u001b[0m\u001b[1;33m(\u001b[0m\u001b[0mXtest\u001b[0m\u001b[1;33m)\u001b[0m\u001b[1;33m\u001b[0m\u001b[1;33m\u001b[0m\u001b[0m\n",
      "\u001b[1;32m~\\Anaconda3\\lib\\site-packages\\lightgbm\\sklearn.py\u001b[0m in \u001b[0;36mfit\u001b[1;34m(self, X, y, sample_weight, init_score, eval_set, eval_names, eval_sample_weight, eval_class_weight, eval_init_score, eval_metric, early_stopping_rounds, verbose, feature_name, categorical_feature, callbacks, init_model)\u001b[0m\n\u001b[0;32m    970\u001b[0m                     \u001b[0meval_metric\u001b[0m\u001b[1;33m=\u001b[0m\u001b[0meval_metric\u001b[0m\u001b[1;33m,\u001b[0m \u001b[0mearly_stopping_rounds\u001b[0m\u001b[1;33m=\u001b[0m\u001b[0mearly_stopping_rounds\u001b[0m\u001b[1;33m,\u001b[0m\u001b[1;33m\u001b[0m\u001b[1;33m\u001b[0m\u001b[0m\n\u001b[0;32m    971\u001b[0m                     \u001b[0mverbose\u001b[0m\u001b[1;33m=\u001b[0m\u001b[0mverbose\u001b[0m\u001b[1;33m,\u001b[0m \u001b[0mfeature_name\u001b[0m\u001b[1;33m=\u001b[0m\u001b[0mfeature_name\u001b[0m\u001b[1;33m,\u001b[0m \u001b[0mcategorical_feature\u001b[0m\u001b[1;33m=\u001b[0m\u001b[0mcategorical_feature\u001b[0m\u001b[1;33m,\u001b[0m\u001b[1;33m\u001b[0m\u001b[1;33m\u001b[0m\u001b[0m\n\u001b[1;32m--> 972\u001b[1;33m                     callbacks=callbacks, init_model=init_model)\n\u001b[0m\u001b[0;32m    973\u001b[0m         \u001b[1;32mreturn\u001b[0m \u001b[0mself\u001b[0m\u001b[1;33m\u001b[0m\u001b[1;33m\u001b[0m\u001b[0m\n\u001b[0;32m    974\u001b[0m \u001b[1;33m\u001b[0m\u001b[0m\n",
      "\u001b[1;32m~\\Anaconda3\\lib\\site-packages\\lightgbm\\sklearn.py\u001b[0m in \u001b[0;36mfit\u001b[1;34m(self, X, y, sample_weight, init_score, group, eval_set, eval_names, eval_sample_weight, eval_class_weight, eval_init_score, eval_group, eval_metric, early_stopping_rounds, verbose, feature_name, categorical_feature, callbacks, init_model)\u001b[0m\n\u001b[0;32m    756\u001b[0m             \u001b[0minit_model\u001b[0m\u001b[1;33m=\u001b[0m\u001b[0minit_model\u001b[0m\u001b[1;33m,\u001b[0m\u001b[1;33m\u001b[0m\u001b[1;33m\u001b[0m\u001b[0m\n\u001b[0;32m    757\u001b[0m             \u001b[0mfeature_name\u001b[0m\u001b[1;33m=\u001b[0m\u001b[0mfeature_name\u001b[0m\u001b[1;33m,\u001b[0m\u001b[1;33m\u001b[0m\u001b[1;33m\u001b[0m\u001b[0m\n\u001b[1;32m--> 758\u001b[1;33m             \u001b[0mcallbacks\u001b[0m\u001b[1;33m=\u001b[0m\u001b[0mcallbacks\u001b[0m\u001b[1;33m\u001b[0m\u001b[1;33m\u001b[0m\u001b[0m\n\u001b[0m\u001b[0;32m    759\u001b[0m         )\n\u001b[0;32m    760\u001b[0m \u001b[1;33m\u001b[0m\u001b[0m\n",
      "\u001b[1;32m~\\Anaconda3\\lib\\site-packages\\lightgbm\\engine.py\u001b[0m in \u001b[0;36mtrain\u001b[1;34m(params, train_set, num_boost_round, valid_sets, valid_names, fobj, feval, init_model, feature_name, categorical_feature, early_stopping_rounds, evals_result, verbose_eval, learning_rates, keep_training_booster, callbacks)\u001b[0m\n\u001b[0;32m    269\u001b[0m     \u001b[1;31m# construct booster\u001b[0m\u001b[1;33m\u001b[0m\u001b[1;33m\u001b[0m\u001b[1;33m\u001b[0m\u001b[0m\n\u001b[0;32m    270\u001b[0m     \u001b[1;32mtry\u001b[0m\u001b[1;33m:\u001b[0m\u001b[1;33m\u001b[0m\u001b[1;33m\u001b[0m\u001b[0m\n\u001b[1;32m--> 271\u001b[1;33m         \u001b[0mbooster\u001b[0m \u001b[1;33m=\u001b[0m \u001b[0mBooster\u001b[0m\u001b[1;33m(\u001b[0m\u001b[0mparams\u001b[0m\u001b[1;33m=\u001b[0m\u001b[0mparams\u001b[0m\u001b[1;33m,\u001b[0m \u001b[0mtrain_set\u001b[0m\u001b[1;33m=\u001b[0m\u001b[0mtrain_set\u001b[0m\u001b[1;33m)\u001b[0m\u001b[1;33m\u001b[0m\u001b[1;33m\u001b[0m\u001b[0m\n\u001b[0m\u001b[0;32m    272\u001b[0m         \u001b[1;32mif\u001b[0m \u001b[0mis_valid_contain_train\u001b[0m\u001b[1;33m:\u001b[0m\u001b[1;33m\u001b[0m\u001b[1;33m\u001b[0m\u001b[0m\n\u001b[0;32m    273\u001b[0m             \u001b[0mbooster\u001b[0m\u001b[1;33m.\u001b[0m\u001b[0mset_train_data_name\u001b[0m\u001b[1;33m(\u001b[0m\u001b[0mtrain_data_name\u001b[0m\u001b[1;33m)\u001b[0m\u001b[1;33m\u001b[0m\u001b[1;33m\u001b[0m\u001b[0m\n",
      "\u001b[1;32m~\\Anaconda3\\lib\\site-packages\\lightgbm\\basic.py\u001b[0m in \u001b[0;36m__init__\u001b[1;34m(self, params, train_set, model_file, model_str, silent)\u001b[0m\n\u001b[0;32m   2603\u001b[0m                 )\n\u001b[0;32m   2604\u001b[0m             \u001b[1;31m# construct booster object\u001b[0m\u001b[1;33m\u001b[0m\u001b[1;33m\u001b[0m\u001b[1;33m\u001b[0m\u001b[0m\n\u001b[1;32m-> 2605\u001b[1;33m             \u001b[0mtrain_set\u001b[0m\u001b[1;33m.\u001b[0m\u001b[0mconstruct\u001b[0m\u001b[1;33m(\u001b[0m\u001b[1;33m)\u001b[0m\u001b[1;33m\u001b[0m\u001b[1;33m\u001b[0m\u001b[0m\n\u001b[0m\u001b[0;32m   2606\u001b[0m             \u001b[1;31m# copy the parameters from train_set\u001b[0m\u001b[1;33m\u001b[0m\u001b[1;33m\u001b[0m\u001b[1;33m\u001b[0m\u001b[0m\n\u001b[0;32m   2607\u001b[0m             \u001b[0mparams\u001b[0m\u001b[1;33m.\u001b[0m\u001b[0mupdate\u001b[0m\u001b[1;33m(\u001b[0m\u001b[0mtrain_set\u001b[0m\u001b[1;33m.\u001b[0m\u001b[0mget_params\u001b[0m\u001b[1;33m(\u001b[0m\u001b[1;33m)\u001b[0m\u001b[1;33m)\u001b[0m\u001b[1;33m\u001b[0m\u001b[1;33m\u001b[0m\u001b[0m\n",
      "\u001b[1;32m~\\Anaconda3\\lib\\site-packages\\lightgbm\\basic.py\u001b[0m in \u001b[0;36mconstruct\u001b[1;34m(self)\u001b[0m\n\u001b[0;32m   1817\u001b[0m                                 \u001b[0minit_score\u001b[0m\u001b[1;33m=\u001b[0m\u001b[0mself\u001b[0m\u001b[1;33m.\u001b[0m\u001b[0minit_score\u001b[0m\u001b[1;33m,\u001b[0m \u001b[0mpredictor\u001b[0m\u001b[1;33m=\u001b[0m\u001b[0mself\u001b[0m\u001b[1;33m.\u001b[0m\u001b[0m_predictor\u001b[0m\u001b[1;33m,\u001b[0m\u001b[1;33m\u001b[0m\u001b[1;33m\u001b[0m\u001b[0m\n\u001b[0;32m   1818\u001b[0m                                 \u001b[0msilent\u001b[0m\u001b[1;33m=\u001b[0m\u001b[0mself\u001b[0m\u001b[1;33m.\u001b[0m\u001b[0msilent\u001b[0m\u001b[1;33m,\u001b[0m \u001b[0mfeature_name\u001b[0m\u001b[1;33m=\u001b[0m\u001b[0mself\u001b[0m\u001b[1;33m.\u001b[0m\u001b[0mfeature_name\u001b[0m\u001b[1;33m,\u001b[0m\u001b[1;33m\u001b[0m\u001b[1;33m\u001b[0m\u001b[0m\n\u001b[1;32m-> 1819\u001b[1;33m                                 categorical_feature=self.categorical_feature, params=self.params)\n\u001b[0m\u001b[0;32m   1820\u001b[0m             \u001b[1;32mif\u001b[0m \u001b[0mself\u001b[0m\u001b[1;33m.\u001b[0m\u001b[0mfree_raw_data\u001b[0m\u001b[1;33m:\u001b[0m\u001b[1;33m\u001b[0m\u001b[1;33m\u001b[0m\u001b[0m\n\u001b[0;32m   1821\u001b[0m                 \u001b[0mself\u001b[0m\u001b[1;33m.\u001b[0m\u001b[0mdata\u001b[0m \u001b[1;33m=\u001b[0m \u001b[1;32mNone\u001b[0m\u001b[1;33m\u001b[0m\u001b[1;33m\u001b[0m\u001b[0m\n",
      "\u001b[1;32m~\\Anaconda3\\lib\\site-packages\\lightgbm\\basic.py\u001b[0m in \u001b[0;36m_lazy_init\u001b[1;34m(self, data, label, reference, weight, group, init_score, predictor, silent, feature_name, categorical_feature, params)\u001b[0m\n\u001b[0;32m   1475\u001b[0m                                                                                              \u001b[0mfeature_name\u001b[0m\u001b[1;33m,\u001b[0m\u001b[1;33m\u001b[0m\u001b[1;33m\u001b[0m\u001b[0m\n\u001b[0;32m   1476\u001b[0m                                                                                              \u001b[0mcategorical_feature\u001b[0m\u001b[1;33m,\u001b[0m\u001b[1;33m\u001b[0m\u001b[1;33m\u001b[0m\u001b[0m\n\u001b[1;32m-> 1477\u001b[1;33m                                                                                              self.pandas_categorical)\n\u001b[0m\u001b[0;32m   1478\u001b[0m         \u001b[0mlabel\u001b[0m \u001b[1;33m=\u001b[0m \u001b[0m_label_from_pandas\u001b[0m\u001b[1;33m(\u001b[0m\u001b[0mlabel\u001b[0m\u001b[1;33m)\u001b[0m\u001b[1;33m\u001b[0m\u001b[1;33m\u001b[0m\u001b[0m\n\u001b[0;32m   1479\u001b[0m \u001b[1;33m\u001b[0m\u001b[0m\n",
      "\u001b[1;32m~\\Anaconda3\\lib\\site-packages\\lightgbm\\basic.py\u001b[0m in \u001b[0;36m_data_from_pandas\u001b[1;34m(data, feature_name, categorical_feature, pandas_categorical)\u001b[0m\n\u001b[0;32m    567\u001b[0m         \u001b[1;32mif\u001b[0m \u001b[0mfeature_name\u001b[0m \u001b[1;33m==\u001b[0m \u001b[1;34m'auto'\u001b[0m \u001b[1;32mor\u001b[0m \u001b[0mfeature_name\u001b[0m \u001b[1;32mis\u001b[0m \u001b[1;32mNone\u001b[0m\u001b[1;33m:\u001b[0m\u001b[1;33m\u001b[0m\u001b[1;33m\u001b[0m\u001b[0m\n\u001b[0;32m    568\u001b[0m             \u001b[0mdata\u001b[0m \u001b[1;33m=\u001b[0m \u001b[0mdata\u001b[0m\u001b[1;33m.\u001b[0m\u001b[0mrename\u001b[0m\u001b[1;33m(\u001b[0m\u001b[0mcolumns\u001b[0m\u001b[1;33m=\u001b[0m\u001b[0mstr\u001b[0m\u001b[1;33m)\u001b[0m\u001b[1;33m\u001b[0m\u001b[1;33m\u001b[0m\u001b[0m\n\u001b[1;32m--> 569\u001b[1;33m         \u001b[0mcat_cols\u001b[0m \u001b[1;33m=\u001b[0m \u001b[0mlist\u001b[0m\u001b[1;33m(\u001b[0m\u001b[0mdata\u001b[0m\u001b[1;33m.\u001b[0m\u001b[0mselect_dtypes\u001b[0m\u001b[1;33m(\u001b[0m\u001b[0minclude\u001b[0m\u001b[1;33m=\u001b[0m\u001b[1;33m[\u001b[0m\u001b[1;34m'category'\u001b[0m\u001b[1;33m]\u001b[0m\u001b[1;33m)\u001b[0m\u001b[1;33m.\u001b[0m\u001b[0mcolumns\u001b[0m\u001b[1;33m)\u001b[0m\u001b[1;33m\u001b[0m\u001b[1;33m\u001b[0m\u001b[0m\n\u001b[0m\u001b[0;32m    570\u001b[0m         \u001b[0mcat_cols_not_ordered\u001b[0m \u001b[1;33m=\u001b[0m \u001b[1;33m[\u001b[0m\u001b[0mcol\u001b[0m \u001b[1;32mfor\u001b[0m \u001b[0mcol\u001b[0m \u001b[1;32min\u001b[0m \u001b[0mcat_cols\u001b[0m \u001b[1;32mif\u001b[0m \u001b[1;32mnot\u001b[0m \u001b[0mdata\u001b[0m\u001b[1;33m[\u001b[0m\u001b[0mcol\u001b[0m\u001b[1;33m]\u001b[0m\u001b[1;33m.\u001b[0m\u001b[0mcat\u001b[0m\u001b[1;33m.\u001b[0m\u001b[0mordered\u001b[0m\u001b[1;33m]\u001b[0m\u001b[1;33m\u001b[0m\u001b[1;33m\u001b[0m\u001b[0m\n\u001b[0;32m    571\u001b[0m         \u001b[1;32mif\u001b[0m \u001b[0mpandas_categorical\u001b[0m \u001b[1;32mis\u001b[0m \u001b[1;32mNone\u001b[0m\u001b[1;33m:\u001b[0m  \u001b[1;31m# train dataset\u001b[0m\u001b[1;33m\u001b[0m\u001b[1;33m\u001b[0m\u001b[0m\n",
      "\u001b[1;32m~\\Anaconda3\\lib\\site-packages\\pandas\\core\\frame.py\u001b[0m in \u001b[0;36mselect_dtypes\u001b[1;34m(self, include, exclude)\u001b[0m\n\u001b[0;32m   3324\u001b[0m         \u001b[1;31m# the \"union\" of the logic of case 1 and case 2:\u001b[0m\u001b[1;33m\u001b[0m\u001b[1;33m\u001b[0m\u001b[1;33m\u001b[0m\u001b[0m\n\u001b[0;32m   3325\u001b[0m         \u001b[1;31m# we get the included and excluded, and return their logical and\u001b[0m\u001b[1;33m\u001b[0m\u001b[1;33m\u001b[0m\u001b[1;33m\u001b[0m\u001b[0m\n\u001b[1;32m-> 3326\u001b[1;33m         \u001b[0minclude_these\u001b[0m \u001b[1;33m=\u001b[0m \u001b[0mSeries\u001b[0m\u001b[1;33m(\u001b[0m\u001b[1;32mnot\u001b[0m \u001b[0mbool\u001b[0m\u001b[1;33m(\u001b[0m\u001b[0minclude\u001b[0m\u001b[1;33m)\u001b[0m\u001b[1;33m,\u001b[0m \u001b[0mindex\u001b[0m\u001b[1;33m=\u001b[0m\u001b[0mself\u001b[0m\u001b[1;33m.\u001b[0m\u001b[0mcolumns\u001b[0m\u001b[1;33m)\u001b[0m\u001b[1;33m\u001b[0m\u001b[1;33m\u001b[0m\u001b[0m\n\u001b[0m\u001b[0;32m   3327\u001b[0m         \u001b[0mexclude_these\u001b[0m \u001b[1;33m=\u001b[0m \u001b[0mSeries\u001b[0m\u001b[1;33m(\u001b[0m\u001b[1;32mnot\u001b[0m \u001b[0mbool\u001b[0m\u001b[1;33m(\u001b[0m\u001b[0mexclude\u001b[0m\u001b[1;33m)\u001b[0m\u001b[1;33m,\u001b[0m \u001b[0mindex\u001b[0m\u001b[1;33m=\u001b[0m\u001b[0mself\u001b[0m\u001b[1;33m.\u001b[0m\u001b[0mcolumns\u001b[0m\u001b[1;33m)\u001b[0m\u001b[1;33m\u001b[0m\u001b[1;33m\u001b[0m\u001b[0m\n\u001b[0;32m   3328\u001b[0m \u001b[1;33m\u001b[0m\u001b[0m\n",
      "\u001b[1;32m~\\Anaconda3\\lib\\site-packages\\pandas\\core\\series.py\u001b[0m in \u001b[0;36m__init__\u001b[1;34m(self, data, index, dtype, name, copy, fastpath)\u001b[0m\n\u001b[0;32m    260\u001b[0m             \u001b[1;32melse\u001b[0m\u001b[1;33m:\u001b[0m\u001b[1;33m\u001b[0m\u001b[1;33m\u001b[0m\u001b[0m\n\u001b[0;32m    261\u001b[0m                 data = sanitize_array(data, index, dtype, copy,\n\u001b[1;32m--> 262\u001b[1;33m                                       raise_cast_failure=True)\n\u001b[0m\u001b[0;32m    263\u001b[0m \u001b[1;33m\u001b[0m\u001b[0m\n\u001b[0;32m    264\u001b[0m                 \u001b[0mdata\u001b[0m \u001b[1;33m=\u001b[0m \u001b[0mSingleBlockManager\u001b[0m\u001b[1;33m(\u001b[0m\u001b[0mdata\u001b[0m\u001b[1;33m,\u001b[0m \u001b[0mindex\u001b[0m\u001b[1;33m,\u001b[0m \u001b[0mfastpath\u001b[0m\u001b[1;33m=\u001b[0m\u001b[1;32mTrue\u001b[0m\u001b[1;33m)\u001b[0m\u001b[1;33m\u001b[0m\u001b[1;33m\u001b[0m\u001b[0m\n",
      "\u001b[1;32m~\\Anaconda3\\lib\\site-packages\\pandas\\core\\internals\\construction.py\u001b[0m in \u001b[0;36msanitize_array\u001b[1;34m(data, index, dtype, copy, raise_cast_failure)\u001b[0m\n\u001b[0;32m    640\u001b[0m \u001b[1;33m\u001b[0m\u001b[0m\n\u001b[0;32m    641\u001b[0m             subarr = construct_1d_arraylike_from_scalar(\n\u001b[1;32m--> 642\u001b[1;33m                 value, len(index), dtype)\n\u001b[0m\u001b[0;32m    643\u001b[0m \u001b[1;33m\u001b[0m\u001b[0m\n\u001b[0;32m    644\u001b[0m         \u001b[1;32melse\u001b[0m\u001b[1;33m:\u001b[0m\u001b[1;33m\u001b[0m\u001b[1;33m\u001b[0m\u001b[0m\n",
      "\u001b[1;32m~\\Anaconda3\\lib\\site-packages\\pandas\\core\\dtypes\\cast.py\u001b[0m in \u001b[0;36mconstruct_1d_arraylike_from_scalar\u001b[1;34m(value, length, dtype)\u001b[0m\n\u001b[0;32m   1185\u001b[0m                 \u001b[0mvalue\u001b[0m \u001b[1;33m=\u001b[0m \u001b[0mto_str\u001b[0m\u001b[1;33m(\u001b[0m\u001b[0mvalue\u001b[0m\u001b[1;33m)\u001b[0m\u001b[1;33m\u001b[0m\u001b[1;33m\u001b[0m\u001b[0m\n\u001b[0;32m   1186\u001b[0m \u001b[1;33m\u001b[0m\u001b[0m\n\u001b[1;32m-> 1187\u001b[1;33m         \u001b[0msubarr\u001b[0m \u001b[1;33m=\u001b[0m \u001b[0mnp\u001b[0m\u001b[1;33m.\u001b[0m\u001b[0mempty\u001b[0m\u001b[1;33m(\u001b[0m\u001b[0mlength\u001b[0m\u001b[1;33m,\u001b[0m \u001b[0mdtype\u001b[0m\u001b[1;33m=\u001b[0m\u001b[0mdtype\u001b[0m\u001b[1;33m)\u001b[0m\u001b[1;33m\u001b[0m\u001b[1;33m\u001b[0m\u001b[0m\n\u001b[0m\u001b[0;32m   1188\u001b[0m         \u001b[0msubarr\u001b[0m\u001b[1;33m.\u001b[0m\u001b[0mfill\u001b[0m\u001b[1;33m(\u001b[0m\u001b[0mvalue\u001b[0m\u001b[1;33m)\u001b[0m\u001b[1;33m\u001b[0m\u001b[1;33m\u001b[0m\u001b[0m\n\u001b[0;32m   1189\u001b[0m \u001b[1;33m\u001b[0m\u001b[0m\n",
      "\u001b[1;31mTypeError\u001b[0m: Cannot interpret '<attribute 'dtype' of 'numpy.generic' objects>' as a data type"
     ]
    }
   ],
   "source": [
    "import lightgbm as lgb\n",
    "lgbm=lgb.LGBMClassifier(max_depth=6)\n",
    "lgbm.fit(Xtrain,Ytrain)\n",
    "\n",
    "predicted_values = lgbm.predict(Xtest)\n",
    "\n",
    "x = metrics.accuracy_score(Ytest, predicted_values)\n",
    "acc.append(x)\n",
    "model.append('LightGBM')\n",
    "print(\"LightGBM's Accuracy is: \", x)\n",
    "\n",
    "print(classification_report(Ytest,predicted_values))"
   ]
  },
  {
   "cell_type": "code",
   "execution_count": 17,
   "metadata": {
    "execution": {
     "iopub.execute_input": "2022-01-19T05:43:09.537194Z",
     "iopub.status.busy": "2022-01-19T05:43:09.536171Z",
     "iopub.status.idle": "2022-01-19T05:43:11.070990Z",
     "shell.execute_reply": "2022-01-19T05:43:11.070473Z"
    },
    "papermill": {
     "duration": 1.584202,
     "end_time": "2022-01-19T05:43:11.071109",
     "exception": false,
     "start_time": "2022-01-19T05:43:09.486907",
     "status": "completed"
    },
    "tags": []
   },
   "outputs": [
    {
     "data": {
      "text/plain": [
       "array([0.97333333, 0.96333333, 0.98      , 0.96666667, 0.93333333])"
      ]
     },
     "execution_count": 17,
     "metadata": {},
     "output_type": "execute_result"
    }
   ],
   "source": [
    "# Cross validation score (Logistic Regression)\n",
    "score = cross_val_score(LogReg,features,target,cv=5)\n",
    "score"
   ]
  },
  {
   "attachments": {},
   "cell_type": "markdown",
   "metadata": {
    "papermill": {
     "duration": 0.044379,
     "end_time": "2022-01-19T05:43:11.160283",
     "exception": false,
     "start_time": "2022-01-19T05:43:11.115904",
     "status": "completed"
    },
    "tags": []
   },
   "source": [
    "### Saving trained Logistic Regression model"
   ]
  },
  {
   "cell_type": "code",
   "execution_count": 25,
   "metadata": {
    "execution": {
     "iopub.execute_input": "2022-01-19T05:43:11.253520Z",
     "iopub.status.busy": "2022-01-19T05:43:11.252519Z",
     "iopub.status.idle": "2022-01-19T05:43:11.258068Z",
     "shell.execute_reply": "2022-01-19T05:43:11.258711Z"
    },
    "papermill": {
     "duration": 0.054002,
     "end_time": "2022-01-19T05:43:11.258869",
     "exception": false,
     "start_time": "2022-01-19T05:43:11.204867",
     "status": "completed"
    },
    "tags": []
   },
   "outputs": [],
   "source": [
    "import pickle\n",
    "# Dump the trained Naive Bayes classifier with Pickle\n",
    "LR_pkl_filename = 'LogisticRegression.pkl'\n",
    "# Open the file to save as pkl file\n",
    "LR_Model_pkl = open(DT_pkl_filename, 'wb')\n",
    "pickle.dump(LogReg, LR_Model_pkl)\n",
    "# Close the pickle instances\n",
    "LR_Model_pkl.close()"
   ]
  },
  {
   "attachments": {},
   "cell_type": "markdown",
   "metadata": {
    "papermill": {
     "duration": 0.044439,
     "end_time": "2022-01-19T05:43:11.347958",
     "exception": false,
     "start_time": "2022-01-19T05:43:11.303519",
     "status": "completed"
    },
    "tags": []
   },
   "source": [
    "# Random Forest"
   ]
  },
  {
   "cell_type": "code",
   "execution_count": 26,
   "metadata": {
    "execution": {
     "iopub.execute_input": "2022-01-19T05:43:11.444242Z",
     "iopub.status.busy": "2022-01-19T05:43:11.439880Z",
     "iopub.status.idle": "2022-01-19T05:43:11.590925Z",
     "shell.execute_reply": "2022-01-19T05:43:11.590151Z"
    },
    "papermill": {
     "duration": 0.198284,
     "end_time": "2022-01-19T05:43:11.591096",
     "exception": false,
     "start_time": "2022-01-19T05:43:11.392812",
     "status": "completed"
    },
    "tags": []
   },
   "outputs": [
    {
     "name": "stdout",
     "output_type": "stream",
     "text": [
      "RF's Accuracy is:  0.9933333333333333\n",
      "              precision    recall  f1-score   support\n",
      "\n",
      "      banana       1.00      1.00      1.00        33\n",
      "   blackgram       1.00      1.00      1.00        32\n",
      "    chickpea       1.00      1.00      1.00        29\n",
      "     coconut       1.00      1.00      1.00        37\n",
      "      cotton       1.00      1.00      1.00        24\n",
      "      grapes       1.00      1.00      1.00        34\n",
      "        jute       0.90      1.00      0.95        26\n",
      " kidneybeans       1.00      1.00      1.00        29\n",
      "      lentil       1.00      1.00      1.00        36\n",
      "       maize       1.00      1.00      1.00        29\n",
      "       mango       1.00      1.00      1.00        25\n",
      "   muskmelon       1.00      1.00      1.00        31\n",
      "      orange       1.00      1.00      1.00        30\n",
      "        rice       1.00      0.90      0.95        30\n",
      "  watermelon       1.00      1.00      1.00        25\n",
      "\n",
      "    accuracy                           0.99       450\n",
      "   macro avg       0.99      0.99      0.99       450\n",
      "weighted avg       0.99      0.99      0.99       450\n",
      "\n"
     ]
    }
   ],
   "source": [
    "from sklearn.ensemble import RandomForestClassifier\n",
    "\n",
    "RF = RandomForestClassifier(n_estimators=30, random_state=0)\n",
    "RF.fit(Xtrain,Ytrain)\n",
    "\n",
    "predicted_values = RF.predict(Xtest)\n",
    "\n",
    "x = metrics.accuracy_score(Ytest, predicted_values)\n",
    "acc.append(x)\n",
    "model.append('RF')\n",
    "print(\"RF's Accuracy is: \", x)\n",
    "\n",
    "print(classification_report(Ytest,predicted_values))"
   ]
  },
  {
   "cell_type": "code",
   "execution_count": 19,
   "metadata": {
    "execution": {
     "iopub.execute_input": "2022-01-19T05:43:11.690705Z",
     "iopub.status.busy": "2022-01-19T05:43:11.689929Z",
     "iopub.status.idle": "2022-01-19T05:43:12.181176Z",
     "shell.execute_reply": "2022-01-19T05:43:12.180538Z"
    },
    "papermill": {
     "duration": 0.541347,
     "end_time": "2022-01-19T05:43:12.181295",
     "exception": false,
     "start_time": "2022-01-19T05:43:11.639948",
     "status": "completed"
    },
    "tags": []
   },
   "outputs": [
    {
     "data": {
      "text/plain": [
       "array([0.99      , 0.99666667, 0.99666667, 0.99333333, 0.98      ])"
      ]
     },
     "execution_count": 19,
     "metadata": {},
     "output_type": "execute_result"
    }
   ],
   "source": [
    "# Cross validation score (Random Forest)\n",
    "score = cross_val_score(RF,features,target,cv=5)\n",
    "score"
   ]
  },
  {
   "attachments": {},
   "cell_type": "markdown",
   "metadata": {
    "papermill": {
     "duration": 0.04668,
     "end_time": "2022-01-19T05:43:12.273949",
     "exception": false,
     "start_time": "2022-01-19T05:43:12.227269",
     "status": "completed"
    },
    "tags": []
   },
   "source": [
    "### Saving trained Random Forest model"
   ]
  },
  {
   "cell_type": "code",
   "execution_count": 28,
   "metadata": {
    "execution": {
     "iopub.execute_input": "2022-01-19T05:43:12.375241Z",
     "iopub.status.busy": "2022-01-19T05:43:12.374576Z",
     "iopub.status.idle": "2022-01-19T05:43:12.378494Z",
     "shell.execute_reply": "2022-01-19T05:43:12.377941Z"
    },
    "papermill": {
     "duration": 0.057739,
     "end_time": "2022-01-19T05:43:12.378609",
     "exception": false,
     "start_time": "2022-01-19T05:43:12.320870",
     "status": "completed"
    },
    "tags": []
   },
   "outputs": [],
   "source": [
    "import pickle\n",
    "# Dump the trained Naive Bayes classifier with Pickle\n",
    "RF_pkl_filename = 'RandomForest.pkl'\n",
    "# Open the file to save as pkl file\n",
    "RF_Model_pkl = open(RF_pkl_filename, 'wb')\n",
    "pickle.dump(RF, RF_Model_pkl)\n",
    "# Close the pickle instances\n",
    "RF_Model_pkl.close()"
   ]
  },
  {
   "attachments": {},
   "cell_type": "markdown",
   "metadata": {
    "papermill": {
     "duration": 0.046181,
     "end_time": "2022-01-19T05:43:12.470853",
     "exception": false,
     "start_time": "2022-01-19T05:43:12.424672",
     "status": "completed"
    },
    "tags": []
   },
   "source": [
    "# KNN"
   ]
  },
  {
   "cell_type": "code",
   "execution_count": 27,
   "metadata": {},
   "outputs": [],
   "source": [
    "from sklearn.model_selection import train_test_split\n",
    "x_train, x_test, y_train, y_test = train_test_split(features,target,test_size = 0.3,random_state =0)\n"
   ]
  },
  {
   "cell_type": "code",
   "execution_count": 28,
   "metadata": {
    "execution": {
     "iopub.execute_input": "2022-01-19T05:43:12.569952Z",
     "iopub.status.busy": "2022-01-19T05:43:12.568949Z",
     "iopub.status.idle": "2022-01-19T05:43:14.054441Z",
     "shell.execute_reply": "2022-01-19T05:43:14.056219Z"
    },
    "papermill": {
     "duration": 1.539877,
     "end_time": "2022-01-19T05:43:14.056679",
     "exception": false,
     "start_time": "2022-01-19T05:43:12.516802",
     "status": "completed"
    },
    "scrolled": true,
    "tags": []
   },
   "outputs": [
    {
     "name": "stdout",
     "output_type": "stream",
     "text": [
      "KNN Accuracy is:  0.9844444444444445\n",
      "              precision    recall  f1-score   support\n",
      "\n",
      "      banana       1.00      1.00      1.00        32\n",
      "   blackgram       1.00      1.00      1.00        38\n",
      "    chickpea       1.00      1.00      1.00        27\n",
      "     coconut       1.00      1.00      1.00        25\n",
      "      cotton       1.00      1.00      1.00        37\n",
      "      grapes       1.00      1.00      1.00        25\n",
      "        jute       0.88      0.91      0.89        32\n",
      " kidneybeans       1.00      1.00      1.00        25\n",
      "      lentil       1.00      1.00      1.00        34\n",
      "       maize       1.00      1.00      1.00        23\n",
      "       mango       1.00      1.00      1.00        23\n",
      "   muskmelon       1.00      1.00      1.00        28\n",
      "      orange       1.00      1.00      1.00        35\n",
      "        rice       0.91      0.88      0.89        33\n",
      "  watermelon       1.00      1.00      1.00        33\n",
      "\n",
      "    accuracy                           0.98       450\n",
      "   macro avg       0.99      0.99      0.99       450\n",
      "weighted avg       0.98      0.98      0.98       450\n",
      "\n"
     ]
    }
   ],
   "source": [
    "from sklearn.neighbors import KNeighborsClassifier\n",
    "knn = KNeighborsClassifier()\n",
    "\n",
    "knn.fit(x_train,y_train)\n",
    "\n",
    "predicted_values = knn.predict(x_test)\n",
    "\n",
    "x = metrics.accuracy_score(y_test, predicted_values)\n",
    "acc.append(x)\n",
    "model.append('K Nearest Neighbours')\n",
    "print(\"KNN Accuracy is: \", x)\n",
    "\n",
    "print(classification_report(y_test,predicted_values))"
   ]
  },
  {
   "cell_type": "code",
   "execution_count": 22,
   "metadata": {
    "execution": {
     "iopub.execute_input": "2022-01-19T05:43:14.190819Z",
     "iopub.status.busy": "2022-01-19T05:43:14.189997Z",
     "iopub.status.idle": "2022-01-19T05:43:16.681042Z",
     "shell.execute_reply": "2022-01-19T05:43:16.682229Z"
    },
    "papermill": {
     "duration": 2.564589,
     "end_time": "2022-01-19T05:43:16.682446",
     "exception": false,
     "start_time": "2022-01-19T05:43:14.117857",
     "status": "completed"
    },
    "tags": []
   },
   "outputs": [
    {
     "name": "stdout",
     "output_type": "stream",
     "text": [
      "Cross validation score:  [0.98       0.98333333 0.97666667 0.97666667 0.97333333]\n"
     ]
    }
   ],
   "source": [
    "score = cross_val_score(knn,features,target,cv=5)\n",
    "print('Cross validation score: ',score)"
   ]
  },
  {
   "attachments": {},
   "cell_type": "markdown",
   "metadata": {
    "papermill": {
     "duration": 0.060724,
     "end_time": "2022-01-19T05:43:16.806367",
     "exception": false,
     "start_time": "2022-01-19T05:43:16.745643",
     "status": "completed"
    },
    "tags": []
   },
   "source": []
  },
  {
   "cell_type": "code",
   "execution_count": 26,
   "metadata": {},
   "outputs": [
    {
     "name": "stdout",
     "output_type": "stream",
     "text": [
      "Requirement already satisfied: xgboost in c:\\users\\anishka chauhan\\anaconda3\\lib\\site-packages (1.6.2)\n",
      "Requirement already satisfied: scipy in c:\\users\\anishka chauhan\\anaconda3\\lib\\site-packages (from xgboost) (1.2.1)\n",
      "Requirement already satisfied: numpy in c:\\users\\anishka chauhan\\anaconda3\\lib\\site-packages (from xgboost) (1.16.4)\n"
     ]
    }
   ],
   "source": [
    "! pip install xgboost"
   ]
  },
  {
   "cell_type": "code",
   "execution_count": 30,
   "metadata": {},
   "outputs": [
    {
     "data": {
      "text/html": [
       "<div>\n",
       "<style scoped>\n",
       "    .dataframe tbody tr th:only-of-type {\n",
       "        vertical-align: middle;\n",
       "    }\n",
       "\n",
       "    .dataframe tbody tr th {\n",
       "        vertical-align: top;\n",
       "    }\n",
       "\n",
       "    .dataframe thead th {\n",
       "        text-align: right;\n",
       "    }\n",
       "</style>\n",
       "<table border=\"1\" class=\"dataframe\">\n",
       "  <thead>\n",
       "    <tr style=\"text-align: right;\">\n",
       "      <th></th>\n",
       "      <th>N</th>\n",
       "      <th>P</th>\n",
       "      <th>K</th>\n",
       "      <th>temperature</th>\n",
       "      <th>humidity</th>\n",
       "      <th>ph</th>\n",
       "      <th>rainfall</th>\n",
       "      <th>label</th>\n",
       "      <th>sowing season</th>\n",
       "    </tr>\n",
       "  </thead>\n",
       "  <tbody>\n",
       "    <tr>\n",
       "      <th>0</th>\n",
       "      <td>90</td>\n",
       "      <td>42</td>\n",
       "      <td>43</td>\n",
       "      <td>20.880</td>\n",
       "      <td>82.003</td>\n",
       "      <td>6.503</td>\n",
       "      <td>202.936</td>\n",
       "      <td>rice</td>\n",
       "      <td>kharif</td>\n",
       "    </tr>\n",
       "    <tr>\n",
       "      <th>1</th>\n",
       "      <td>85</td>\n",
       "      <td>58</td>\n",
       "      <td>41</td>\n",
       "      <td>21.770</td>\n",
       "      <td>80.320</td>\n",
       "      <td>7.038</td>\n",
       "      <td>226.656</td>\n",
       "      <td>rice</td>\n",
       "      <td>kharif</td>\n",
       "    </tr>\n",
       "    <tr>\n",
       "      <th>2</th>\n",
       "      <td>60</td>\n",
       "      <td>55</td>\n",
       "      <td>44</td>\n",
       "      <td>23.004</td>\n",
       "      <td>82.321</td>\n",
       "      <td>7.840</td>\n",
       "      <td>263.964</td>\n",
       "      <td>rice</td>\n",
       "      <td>kharif</td>\n",
       "    </tr>\n",
       "    <tr>\n",
       "      <th>3</th>\n",
       "      <td>74</td>\n",
       "      <td>35</td>\n",
       "      <td>40</td>\n",
       "      <td>26.491</td>\n",
       "      <td>80.158</td>\n",
       "      <td>6.980</td>\n",
       "      <td>242.864</td>\n",
       "      <td>rice</td>\n",
       "      <td>kharif</td>\n",
       "    </tr>\n",
       "    <tr>\n",
       "      <th>4</th>\n",
       "      <td>78</td>\n",
       "      <td>42</td>\n",
       "      <td>42</td>\n",
       "      <td>20.130</td>\n",
       "      <td>81.605</td>\n",
       "      <td>7.628</td>\n",
       "      <td>262.717</td>\n",
       "      <td>rice</td>\n",
       "      <td>kharif</td>\n",
       "    </tr>\n",
       "  </tbody>\n",
       "</table>\n",
       "</div>"
      ],
      "text/plain": [
       "    N   P   K  temperature  humidity     ph  rainfall label sowing season\n",
       "0  90  42  43       20.880    82.003  6.503   202.936  rice        kharif\n",
       "1  85  58  41       21.770    80.320  7.038   226.656  rice        kharif\n",
       "2  60  55  44       23.004    82.321  7.840   263.964  rice        kharif\n",
       "3  74  35  40       26.491    80.158  6.980   242.864  rice        kharif\n",
       "4  78  42  42       20.130    81.605  7.628   262.717  rice        kharif"
      ]
     },
     "execution_count": 30,
     "metadata": {},
     "output_type": "execute_result"
    }
   ],
   "source": [
    "df.head()"
   ]
  },
  {
   "cell_type": "code",
   "execution_count": 37,
   "metadata": {},
   "outputs": [
    {
     "name": "stdout",
     "output_type": "stream",
     "text": [
      "Collecting catboost\n",
      "  Downloading https://files.pythonhosted.org/packages/72/93/2c17afd293e3e6e1a2c150253e0775d10205a12c1be52d2599d6b6d75717/catboost-1.2-cp37-cp37m-win_amd64.whl (101.0MB)\n",
      "Collecting graphviz (from catboost)\n",
      "  Downloading https://files.pythonhosted.org/packages/de/5e/fcbb22c68208d39edff467809d06c9d81d7d27426460ebc598e55130c1aa/graphviz-0.20.1-py3-none-any.whl (47kB)\n",
      "Requirement already satisfied: scipy in c:\\users\\anishka chauhan\\anaconda3\\lib\\site-packages (from catboost) (1.2.1)\n",
      "Requirement already satisfied: matplotlib in c:\\users\\anishka chauhan\\anaconda3\\lib\\site-packages (from catboost) (3.1.0)\n",
      "Collecting plotly (from catboost)\n",
      "  Downloading https://files.pythonhosted.org/packages/15/5c/786e4572cf3217ba1707eeb99fe4bdb8fb138237690fa21641e341b1970c/plotly-5.14.1-py2.py3-none-any.whl (15.3MB)\n",
      "Requirement already satisfied: six in c:\\users\\anishka chauhan\\anaconda3\\lib\\site-packages (from catboost) (1.12.0)\n",
      "Requirement already satisfied: numpy>=1.16.0 in c:\\users\\anishka chauhan\\anaconda3\\lib\\site-packages (from catboost) (1.16.4)\n",
      "Requirement already satisfied: pandas>=0.24 in c:\\users\\anishka chauhan\\anaconda3\\lib\\site-packages (from catboost) (0.24.2)\n",
      "Requirement already satisfied: cycler>=0.10 in c:\\users\\anishka chauhan\\anaconda3\\lib\\site-packages (from matplotlib->catboost) (0.10.0)\n",
      "Requirement already satisfied: kiwisolver>=1.0.1 in c:\\users\\anishka chauhan\\anaconda3\\lib\\site-packages (from matplotlib->catboost) (1.1.0)\n",
      "Requirement already satisfied: pyparsing!=2.0.4,!=2.1.2,!=2.1.6,>=2.0.1 in c:\\users\\anishka chauhan\\anaconda3\\lib\\site-packages (from matplotlib->catboost) (2.4.0)\n",
      "Requirement already satisfied: python-dateutil>=2.1 in c:\\users\\anishka chauhan\\anaconda3\\lib\\site-packages (from matplotlib->catboost) (2.8.0)\n",
      "Collecting tenacity>=6.2.0 (from plotly->catboost)\n",
      "  Downloading https://files.pythonhosted.org/packages/e7/b0/c23bd61e1b32c9b96fbca996c87784e196a812da8d621d8d04851f6c8181/tenacity-8.2.2-py3-none-any.whl\n",
      "Requirement already satisfied: packaging in c:\\users\\anishka chauhan\\anaconda3\\lib\\site-packages (from plotly->catboost) (19.0)\n",
      "Requirement already satisfied: pytz>=2011k in c:\\users\\anishka chauhan\\anaconda3\\lib\\site-packages (from pandas>=0.24->catboost) (2019.1)\n",
      "Requirement already satisfied: setuptools in c:\\users\\anishka chauhan\\anaconda3\\lib\\site-packages (from kiwisolver>=1.0.1->matplotlib->catboost) (41.0.1)\n",
      "Installing collected packages: graphviz, tenacity, plotly, catboost\n",
      "Successfully installed catboost-1.2 graphviz-0.20.1 plotly-5.14.1 tenacity-8.2.2\n"
     ]
    }
   ],
   "source": [
    "!pip install catboost"
   ]
  },
  {
   "cell_type": "code",
   "execution_count": 39,
   "metadata": {
    "execution": {
     "iopub.execute_input": "2022-01-19T05:43:16.947032Z",
     "iopub.status.busy": "2022-01-19T05:43:16.945974Z",
     "iopub.status.idle": "2022-01-19T05:43:16.950278Z",
     "shell.execute_reply": "2022-01-19T05:43:16.950835Z"
    },
    "papermill": {
     "duration": 0.072817,
     "end_time": "2022-01-19T05:43:16.950999",
     "exception": false,
     "start_time": "2022-01-19T05:43:16.878182",
     "status": "completed"
    },
    "tags": []
   },
   "outputs": [
    {
     "name": "stdout",
     "output_type": "stream",
     "text": [
      "CatBoost's Accuracy is:  0.9888888888888889\n",
      "              precision    recall  f1-score   support\n",
      "\n",
      "      banana       1.00      1.00      1.00        33\n",
      "   blackgram       1.00      1.00      1.00        32\n",
      "    chickpea       1.00      1.00      1.00        29\n",
      "     coconut       1.00      1.00      1.00        37\n",
      "      cotton       1.00      1.00      1.00        24\n",
      "      grapes       1.00      1.00      1.00        34\n",
      "        jute       0.84      1.00      0.91        26\n",
      " kidneybeans       1.00      1.00      1.00        29\n",
      "      lentil       1.00      1.00      1.00        36\n",
      "       maize       1.00      1.00      1.00        29\n",
      "       mango       1.00      1.00      1.00        25\n",
      "   muskmelon       1.00      1.00      1.00        31\n",
      "      orange       1.00      1.00      1.00        30\n",
      "        rice       1.00      0.83      0.91        30\n",
      "  watermelon       1.00      1.00      1.00        25\n",
      "\n",
      "    accuracy                           0.99       450\n",
      "   macro avg       0.99      0.99      0.99       450\n",
      "weighted avg       0.99      0.99      0.99       450\n",
      "\n"
     ]
    }
   ],
   "source": [
    "from catboost import CatBoostClassifier \n",
    "catB=CatBoostClassifier(verbose=False)\n",
    "\n",
    "catB.fit(Xtrain,Ytrain)\n",
    "\n",
    "\n",
    "predicted_values = catB.predict(Xtest)\n",
    "\n",
    "x = metrics.accuracy_score(Ytest, predicted_values)\n",
    "acc.append(x)\n",
    "model.append('Catboost')\n",
    "print(\"CatBoost's Accuracy is: \", x)\n",
    "\n",
    "print(classification_report(Ytest,predicted_values))"
   ]
  },
  {
   "cell_type": "code",
   "execution_count": 41,
   "metadata": {},
   "outputs": [
    {
     "ename": "SyntaxError",
     "evalue": "invalid syntax (<ipython-input-41-3eb19d8a33c7>, line 1)",
     "output_type": "error",
     "traceback": [
      "\u001b[1;36m  File \u001b[1;32m\"<ipython-input-41-3eb19d8a33c7>\"\u001b[1;36m, line \u001b[1;32m1\u001b[0m\n\u001b[1;33m    //** LINEAR SVC**//\u001b[0m\n\u001b[1;37m     ^\u001b[0m\n\u001b[1;31mSyntaxError\u001b[0m\u001b[1;31m:\u001b[0m invalid syntax\n"
     ]
    }
   ],
   "source": [
    "//** LINEAR SVC**//"
   ]
  },
  {
   "cell_type": "code",
   "execution_count": 29,
   "metadata": {},
   "outputs": [
    {
     "name": "stdout",
     "output_type": "stream",
     "text": [
      "LinearSVC's Accuracy is:  0.7333333333333333\n",
      "              precision    recall  f1-score   support\n",
      "\n",
      "      banana       0.97      0.97      0.97        33\n",
      "   blackgram       1.00      0.72      0.84        32\n",
      "    chickpea       1.00      1.00      1.00        29\n",
      "     coconut       1.00      0.49      0.65        37\n",
      "      cotton       0.77      0.96      0.85        24\n",
      "      grapes       1.00      0.97      0.99        34\n",
      "        jute       0.00      0.00      0.00        26\n",
      " kidneybeans       1.00      1.00      1.00        29\n",
      "      lentil       0.86      1.00      0.92        36\n",
      "       maize       0.00      0.00      0.00        29\n",
      "       mango       1.00      1.00      1.00        25\n",
      "   muskmelon       1.00      0.58      0.73        31\n",
      "      orange       1.00      1.00      1.00        30\n",
      "        rice       1.00      0.30      0.46        30\n",
      "  watermelon       0.20      1.00      0.34        25\n",
      "\n",
      "    accuracy                           0.73       450\n",
      "   macro avg       0.79      0.73      0.72       450\n",
      "weighted avg       0.81      0.73      0.73       450\n",
      "\n"
     ]
    }
   ],
   "source": [
    "from sklearn.svm import LinearSVC\n",
    "\n",
    "Linearsvc=LinearSVC(C=2)\n",
    "Linearsvc.fit(Xtrain,Ytrain)\n",
    "\n",
    "predicted_values = Linearsvc.predict(Xtest)\n",
    "\n",
    "x = metrics.accuracy_score(Ytest, predicted_values)\n",
    "acc.append(x)\n",
    "model.append('LinearSVC')\n",
    "print(\"LinearSVC's Accuracy is: \", x)\n",
    "\n",
    "print(classification_report(Ytest,predicted_values))"
   ]
  },
  {
   "cell_type": "code",
   "execution_count": 45,
   "metadata": {},
   "outputs": [
    {
     "name": "stdout",
     "output_type": "stream",
     "text": [
      "Collecting lightgbm\n",
      "  Downloading https://files.pythonhosted.org/packages/6a/31/13f80e5abac627c53375c1dc49404d622d929272a231c05b2f4f7bb98b9e/lightgbm-3.3.5-py3-none-win_amd64.whl (1.0MB)\n",
      "Requirement already satisfied: scikit-learn!=0.22.0 in c:\\users\\anishka chauhan\\anaconda3\\lib\\site-packages (from lightgbm) (0.21.2)\n",
      "Requirement already satisfied: scipy in c:\\users\\anishka chauhan\\anaconda3\\lib\\site-packages (from lightgbm) (1.2.1)\n",
      "Requirement already satisfied: numpy in c:\\users\\anishka chauhan\\anaconda3\\lib\\site-packages (from lightgbm) (1.16.4)\n",
      "Requirement already satisfied: wheel in c:\\users\\anishka chauhan\\anaconda3\\lib\\site-packages (from lightgbm) (0.33.4)\n",
      "Requirement already satisfied: joblib>=0.11 in c:\\users\\anishka chauhan\\anaconda3\\lib\\site-packages (from scikit-learn!=0.22.0->lightgbm) (0.13.2)\n",
      "Installing collected packages: lightgbm\n",
      "Successfully installed lightgbm-3.3.5\n"
     ]
    }
   ],
   "source": [
    "!pip install lightgbm"
   ]
  },
  {
   "cell_type": "code",
   "execution_count": 2,
   "metadata": {},
   "outputs": [
    {
     "name": "stdout",
     "output_type": "stream",
     "text": [
      "Collecting keras\n",
      "  Downloading https://files.pythonhosted.org/packages/de/44/bf1b0eef5b13e6201aef076ff34b91bc40aace8591cd273c1c2a94a9cc00/keras-2.11.0-py2.py3-none-any.whl (1.7MB)\n",
      "Installing collected packages: keras\n",
      "Successfully installed keras-2.11.0\n"
     ]
    }
   ],
   "source": [
    "!pip install keras"
   ]
  },
  {
   "cell_type": "code",
   "execution_count": 5,
   "metadata": {},
   "outputs": [
    {
     "name": "stdout",
     "output_type": "stream",
     "text": [
      "Collecting tensorflow\n",
      "  Downloading https://files.pythonhosted.org/packages/55/d1/a3631a36859ee324e1767fa7554fdf7af17965571d8537b20b311b76bcfe/tensorflow-2.11.0-cp37-cp37m-win_amd64.whl\n",
      "Collecting tensorflow-intel==2.11.0; platform_system == \"Windows\" (from tensorflow)\n",
      "  Downloading https://files.pythonhosted.org/packages/f7/8c/18288ac12dc0e1997c73f1b86dbd6f7fa3674ae5341769387e1f13b07c9e/tensorflow_intel-2.11.0-cp37-cp37m-win_amd64.whl (266.3MB)\n",
      "Requirement already satisfied: h5py>=2.9.0 in c:\\users\\anishka chauhan\\anaconda3\\lib\\site-packages (from tensorflow-intel==2.11.0; platform_system == \"Windows\"->tensorflow) (2.9.0)\n",
      "Requirement already satisfied: six>=1.12.0 in c:\\users\\anishka chauhan\\anaconda3\\lib\\site-packages (from tensorflow-intel==2.11.0; platform_system == \"Windows\"->tensorflow) (1.12.0)\n",
      "Collecting libclang>=13.0.0 (from tensorflow-intel==2.11.0; platform_system == \"Windows\"->tensorflow)\n",
      "  Downloading https://files.pythonhosted.org/packages/49/c5/265da99011dbe91cb18cba88e14397bddf8a286512866b8ffe83bc17e58b/libclang-16.0.0-py2.py3-none-win_amd64.whl (24.4MB)\n",
      "Collecting gast<=0.4.0,>=0.2.1 (from tensorflow-intel==2.11.0; platform_system == \"Windows\"->tensorflow)\n",
      "  Downloading https://files.pythonhosted.org/packages/b6/48/583c032b79ae5b3daa02225a675aeb673e58d2cb698e78510feceb11958c/gast-0.4.0-py3-none-any.whl\n",
      "Collecting astunparse>=1.6.0 (from tensorflow-intel==2.11.0; platform_system == \"Windows\"->tensorflow)\n",
      "  Downloading https://files.pythonhosted.org/packages/2b/03/13dde6512ad7b4557eb792fbcf0c653af6076b81e5941d36ec61f7ce6028/astunparse-1.6.3-py2.py3-none-any.whl\n",
      "Requirement already satisfied: keras<2.12,>=2.11.0 in c:\\users\\anishka chauhan\\anaconda3\\lib\\site-packages (from tensorflow-intel==2.11.0; platform_system == \"Windows\"->tensorflow) (2.11.0)\n",
      "Collecting typing-extensions>=3.6.6 (from tensorflow-intel==2.11.0; platform_system == \"Windows\"->tensorflow)\n",
      "  Downloading https://files.pythonhosted.org/packages/31/25/5abcd82372d3d4a3932e1fa8c3dbf9efac10cc7c0d16e78467460571b404/typing_extensions-4.5.0-py3-none-any.whl\n",
      "Collecting tensorboard<2.12,>=2.11 (from tensorflow-intel==2.11.0; platform_system == \"Windows\"->tensorflow)\n",
      "  Downloading https://files.pythonhosted.org/packages/6f/77/e624b4916531721e674aa105151ffa5223fb224d3ca4bd5c10574664f944/tensorboard-2.11.2-py3-none-any.whl (6.0MB)\n",
      "Collecting grpcio<2.0,>=1.24.3 (from tensorflow-intel==2.11.0; platform_system == \"Windows\"->tensorflow)\n",
      "  Downloading https://files.pythonhosted.org/packages/37/6e/ec5403b26c178c7e8e87d7b32c1ebc0bdb7a5c4c70e0ec1ece81d4cfe194/grpcio-1.54.0-cp37-cp37m-win_amd64.whl (4.1MB)\n",
      "Collecting google-pasta>=0.1.1 (from tensorflow-intel==2.11.0; platform_system == \"Windows\"->tensorflow)\n",
      "  Downloading https://files.pythonhosted.org/packages/a3/de/c648ef6835192e6e2cc03f40b19eeda4382c49b5bafb43d88b931c4c74ac/google_pasta-0.2.0-py3-none-any.whl (57kB)\n",
      "Collecting protobuf<3.20,>=3.9.2 (from tensorflow-intel==2.11.0; platform_system == \"Windows\"->tensorflow)\n",
      "  Downloading https://files.pythonhosted.org/packages/70/ee/e3562fd4e692afc6ed396b60ce3a177bc4ce6506ac8ac2413886198880e3/protobuf-3.19.6-cp37-cp37m-win_amd64.whl (896kB)\n",
      "Collecting termcolor>=1.1.0 (from tensorflow-intel==2.11.0; platform_system == \"Windows\"->tensorflow)\n",
      "  Downloading https://files.pythonhosted.org/packages/67/e1/434566ffce04448192369c1a282931cf4ae593e91907558eaecd2e9f2801/termcolor-2.3.0-py3-none-any.whl\n",
      "Requirement already satisfied: setuptools in c:\\users\\anishka chauhan\\anaconda3\\lib\\site-packages (from tensorflow-intel==2.11.0; platform_system == \"Windows\"->tensorflow) (41.0.1)\n",
      "Collecting numpy>=1.20 (from tensorflow-intel==2.11.0; platform_system == \"Windows\"->tensorflow)\n",
      "  Downloading https://files.pythonhosted.org/packages/97/9f/da37cc4a188a1d5d203d65ab28d6504e17594b5342e0c1dc5610ee6f4535/numpy-1.21.6-cp37-cp37m-win_amd64.whl (14.0MB)\n",
      "Collecting tensorflow-io-gcs-filesystem>=0.23.1; platform_machine != \"arm64\" or platform_system != \"Darwin\" (from tensorflow-intel==2.11.0; platform_system == \"Windows\"->tensorflow)\n",
      "  Downloading https://files.pythonhosted.org/packages/3f/b1/1702140b92543318ecca7ed502fcb18085a9d5760058cf9ea2310bb8dbd6/tensorflow_io_gcs_filesystem-0.31.0-cp37-cp37m-win_amd64.whl (1.5MB)\n",
      "Requirement already satisfied: wrapt>=1.11.0 in c:\\users\\anishka chauhan\\anaconda3\\lib\\site-packages (from tensorflow-intel==2.11.0; platform_system == \"Windows\"->tensorflow) (1.11.2)\n",
      "Collecting absl-py>=1.0.0 (from tensorflow-intel==2.11.0; platform_system == \"Windows\"->tensorflow)\n",
      "  Downloading https://files.pythonhosted.org/packages/dd/87/de5c32fa1b1c6c3305d576e299801d8655c175ca9557019906247b994331/absl_py-1.4.0-py3-none-any.whl (126kB)\n",
      "Collecting tensorflow-estimator<2.12,>=2.11.0 (from tensorflow-intel==2.11.0; platform_system == \"Windows\"->tensorflow)\n",
      "  Downloading https://files.pythonhosted.org/packages/bb/e2/8bf618c7c30a525054230ee6d40b036d3e5abc2c4ff67cf7c7420a519204/tensorflow_estimator-2.11.0-py2.py3-none-any.whl (439kB)\n",
      "Requirement already satisfied: packaging in c:\\users\\anishka chauhan\\anaconda3\\lib\\site-packages (from tensorflow-intel==2.11.0; platform_system == \"Windows\"->tensorflow) (19.0)\n",
      "Collecting flatbuffers>=2.0 (from tensorflow-intel==2.11.0; platform_system == \"Windows\"->tensorflow)\n",
      "  Downloading https://files.pythonhosted.org/packages/60/a5/9fce65f81639a71a0239d78a4721afb5eb3f0c49c104ae892deeae614b95/flatbuffers-23.3.3-py2.py3-none-any.whl\n",
      "Collecting opt-einsum>=2.3.2 (from tensorflow-intel==2.11.0; platform_system == \"Windows\"->tensorflow)\n",
      "  Downloading https://files.pythonhosted.org/packages/bc/19/404708a7e54ad2798907210462fd950c3442ea51acc8790f3da48d2bee8b/opt_einsum-3.3.0-py3-none-any.whl (65kB)\n",
      "Requirement already satisfied: wheel<1.0,>=0.23.0 in c:\\users\\anishka chauhan\\anaconda3\\lib\\site-packages (from astunparse>=1.6.0->tensorflow-intel==2.11.0; platform_system == \"Windows\"->tensorflow) (0.33.4)\n",
      "Collecting google-auth-oauthlib<0.5,>=0.4.1 (from tensorboard<2.12,>=2.11->tensorflow-intel==2.11.0; platform_system == \"Windows\"->tensorflow)\n",
      "  Downloading https://files.pythonhosted.org/packages/b1/0e/0636cc1448a7abc444fb1b3a63655e294e0d2d49092dc3de05241be6d43c/google_auth_oauthlib-0.4.6-py2.py3-none-any.whl\n",
      "Collecting tensorboard-plugin-wit>=1.6.0 (from tensorboard<2.12,>=2.11->tensorflow-intel==2.11.0; platform_system == \"Windows\"->tensorflow)\n",
      "  Downloading https://files.pythonhosted.org/packages/e0/68/e8ecfac5dd594b676c23a7f07ea34c197d7d69b3313afdf8ac1b0a9905a2/tensorboard_plugin_wit-1.8.1-py3-none-any.whl (781kB)\n",
      "Collecting werkzeug>=1.0.1 (from tensorboard<2.12,>=2.11->tensorflow-intel==2.11.0; platform_system == \"Windows\"->tensorflow)\n",
      "  Downloading https://files.pythonhosted.org/packages/f6/f8/9da63c1617ae2a1dec2fbf6412f3a0cfe9d4ce029eccbda6e1e4258ca45f/Werkzeug-2.2.3-py3-none-any.whl (233kB)\n",
      "Collecting tensorboard-data-server<0.7.0,>=0.6.0 (from tensorboard<2.12,>=2.11->tensorflow-intel==2.11.0; platform_system == \"Windows\"->tensorflow)\n",
      "  Downloading https://files.pythonhosted.org/packages/74/69/5747a957f95e2e1d252ca41476ae40ce79d70d38151d2e494feb7722860c/tensorboard_data_server-0.6.1-py3-none-any.whl\n",
      "Requirement already satisfied: requests<3,>=2.21.0 in c:\\users\\anishka chauhan\\anaconda3\\lib\\site-packages (from tensorboard<2.12,>=2.11->tensorflow-intel==2.11.0; platform_system == \"Windows\"->tensorflow) (2.22.0)\n",
      "Collecting markdown>=2.6.8 (from tensorboard<2.12,>=2.11->tensorflow-intel==2.11.0; platform_system == \"Windows\"->tensorflow)\n",
      "  Downloading https://files.pythonhosted.org/packages/9a/a1/1352b0e5a3c71a79fa9265726e2217f69df9fd4de0bcb5725cc61f62a5df/Markdown-3.4.3-py3-none-any.whl (93kB)\n",
      "Collecting google-auth<3,>=1.6.3 (from tensorboard<2.12,>=2.11->tensorflow-intel==2.11.0; platform_system == \"Windows\"->tensorflow)\n",
      "  Downloading https://files.pythonhosted.org/packages/da/cc/13eb3d0b151252e1d2bafc52f412be05c3789b0f655caf5eed298cf8056c/google_auth-2.17.3-py2.py3-none-any.whl (178kB)\n",
      "Requirement already satisfied: pyparsing>=2.0.2 in c:\\users\\anishka chauhan\\anaconda3\\lib\\site-packages (from packaging->tensorflow-intel==2.11.0; platform_system == \"Windows\"->tensorflow) (2.4.0)\n",
      "Collecting requests-oauthlib>=0.7.0 (from google-auth-oauthlib<0.5,>=0.4.1->tensorboard<2.12,>=2.11->tensorflow-intel==2.11.0; platform_system == \"Windows\"->tensorflow)\n",
      "  Downloading https://files.pythonhosted.org/packages/6f/bb/5deac77a9af870143c684ab46a7934038a53eb4aa975bc0687ed6ca2c610/requests_oauthlib-1.3.1-py2.py3-none-any.whl\n",
      "Collecting MarkupSafe>=2.1.1 (from werkzeug>=1.0.1->tensorboard<2.12,>=2.11->tensorflow-intel==2.11.0; platform_system == \"Windows\"->tensorflow)\n",
      "  Downloading https://files.pythonhosted.org/packages/39/8d/5c5ce72deb8567ab48a18fbd99dc0af3dd651b6691b8570947e54a28e0f3/MarkupSafe-2.1.2-cp37-cp37m-win_amd64.whl\n",
      "Requirement already satisfied: certifi>=2017.4.17 in c:\\users\\anishka chauhan\\anaconda3\\lib\\site-packages (from requests<3,>=2.21.0->tensorboard<2.12,>=2.11->tensorflow-intel==2.11.0; platform_system == \"Windows\"->tensorflow) (2019.6.16)\n",
      "Requirement already satisfied: idna<2.9,>=2.5 in c:\\users\\anishka chauhan\\anaconda3\\lib\\site-packages (from requests<3,>=2.21.0->tensorboard<2.12,>=2.11->tensorflow-intel==2.11.0; platform_system == \"Windows\"->tensorflow) (2.8)\n",
      "Requirement already satisfied: chardet<3.1.0,>=3.0.2 in c:\\users\\anishka chauhan\\anaconda3\\lib\\site-packages (from requests<3,>=2.21.0->tensorboard<2.12,>=2.11->tensorflow-intel==2.11.0; platform_system == \"Windows\"->tensorflow) (3.0.4)\n",
      "Requirement already satisfied: urllib3!=1.25.0,!=1.25.1,<1.26,>=1.21.1 in c:\\users\\anishka chauhan\\anaconda3\\lib\\site-packages (from requests<3,>=2.21.0->tensorboard<2.12,>=2.11->tensorflow-intel==2.11.0; platform_system == \"Windows\"->tensorflow) (1.24.2)\n",
      "Collecting importlib-metadata>=4.4; python_version < \"3.10\" (from markdown>=2.6.8->tensorboard<2.12,>=2.11->tensorflow-intel==2.11.0; platform_system == \"Windows\"->tensorflow)\n",
      "  Downloading https://files.pythonhosted.org/packages/30/bb/bf2944b8b88c65b797acc2c6a2cb0fb817f7364debf0675792e034013858/importlib_metadata-6.6.0-py3-none-any.whl\n",
      "Collecting cachetools<6.0,>=2.0.0 (from google-auth<3,>=1.6.3->tensorboard<2.12,>=2.11->tensorflow-intel==2.11.0; platform_system == \"Windows\"->tensorflow)\n",
      "  Downloading https://files.pythonhosted.org/packages/db/14/2b48a834d349eee94677e8702ea2ef98b7c674b090153ea8d3f6a788584e/cachetools-5.3.0-py3-none-any.whl\n",
      "Collecting pyasn1-modules>=0.2.1 (from google-auth<3,>=1.6.3->tensorboard<2.12,>=2.11->tensorflow-intel==2.11.0; platform_system == \"Windows\"->tensorflow)\n",
      "  Downloading https://files.pythonhosted.org/packages/cd/8e/bea464350e1b8c6ed0da3a312659cb648804a08af6cacc6435867f74f8bd/pyasn1_modules-0.3.0-py2.py3-none-any.whl (181kB)\n",
      "Collecting rsa<5,>=3.1.4; python_version >= \"3.6\" (from google-auth<3,>=1.6.3->tensorboard<2.12,>=2.11->tensorflow-intel==2.11.0; platform_system == \"Windows\"->tensorflow)\n",
      "  Downloading https://files.pythonhosted.org/packages/49/97/fa78e3d2f65c02c8e1268b9aba606569fe97f6c8f7c2d74394553347c145/rsa-4.9-py3-none-any.whl\n",
      "Collecting oauthlib>=3.0.0 (from requests-oauthlib>=0.7.0->google-auth-oauthlib<0.5,>=0.4.1->tensorboard<2.12,>=2.11->tensorflow-intel==2.11.0; platform_system == \"Windows\"->tensorflow)\n",
      "  Downloading https://files.pythonhosted.org/packages/7e/80/cab10959dc1faead58dc8384a781dfbf93cb4d33d50988f7a69f1b7c9bbe/oauthlib-3.2.2-py3-none-any.whl (151kB)\n",
      "Requirement already satisfied: zipp>=0.5 in c:\\users\\anishka chauhan\\anaconda3\\lib\\site-packages (from importlib-metadata>=4.4; python_version < \"3.10\"->markdown>=2.6.8->tensorboard<2.12,>=2.11->tensorflow-intel==2.11.0; platform_system == \"Windows\"->tensorflow) (0.5.1)\n",
      "Collecting pyasn1<0.6.0,>=0.4.6 (from pyasn1-modules>=0.2.1->google-auth<3,>=1.6.3->tensorboard<2.12,>=2.11->tensorflow-intel==2.11.0; platform_system == \"Windows\"->tensorflow)\n",
      "  Downloading https://files.pythonhosted.org/packages/14/e5/b56a725cbde139aa960c26a1a3ca4d4af437282e20b5314ee6a3501e7dfc/pyasn1-0.5.0-py2.py3-none-any.whl (83kB)\n",
      "Installing collected packages: libclang, gast, astunparse, typing-extensions, cachetools, pyasn1, pyasn1-modules, rsa, google-auth, oauthlib, requests-oauthlib, google-auth-oauthlib, tensorboard-plugin-wit, MarkupSafe, werkzeug, tensorboard-data-server, absl-py, grpcio, protobuf, importlib-metadata, markdown, numpy, tensorboard, google-pasta, termcolor, tensorflow-io-gcs-filesystem, tensorflow-estimator, flatbuffers, opt-einsum, tensorflow-intel, tensorflow\n",
      "  Found existing installation: MarkupSafe 1.1.1\n",
      "    Uninstalling MarkupSafe-1.1.1:\n",
      "      Successfully uninstalled MarkupSafe-1.1.1\n",
      "  Found existing installation: Werkzeug 0.15.4\n",
      "    Uninstalling Werkzeug-0.15.4:\n",
      "      Successfully uninstalled Werkzeug-0.15.4\n",
      "  Found existing installation: importlib-metadata 0.17\n",
      "    Uninstalling importlib-metadata-0.17:\n",
      "      Successfully uninstalled importlib-metadata-0.17\n",
      "  Found existing installation: numpy 1.16.4\n",
      "    Uninstalling numpy-1.16.4:\n",
      "      Successfully uninstalled numpy-1.16.4\n",
      "Successfully installed MarkupSafe-2.1.2 absl-py-1.4.0 astunparse-1.6.3 cachetools-5.3.0 flatbuffers-23.3.3 gast-0.4.0 google-auth-2.17.3 google-auth-oauthlib-0.4.6 google-pasta-0.2.0 grpcio-1.54.0 importlib-metadata-6.6.0 libclang-16.0.0 markdown-3.4.3 numpy-1.21.6 oauthlib-3.2.2 opt-einsum-3.3.0 protobuf-3.19.6 pyasn1-0.5.0 pyasn1-modules-0.3.0 requests-oauthlib-1.3.1 rsa-4.9 tensorboard-2.11.2 tensorboard-data-server-0.6.1 tensorboard-plugin-wit-1.8.1 tensorflow-2.11.0 tensorflow-estimator-2.11.0 tensorflow-intel-2.11.0 tensorflow-io-gcs-filesystem-0.31.0 termcolor-2.3.0 typing-extensions-4.5.0 werkzeug-2.2.3\n"
     ]
    }
   ],
   "source": [
    "!pip install tensorflow"
   ]
  },
  {
   "cell_type": "code",
   "execution_count": 35,
   "metadata": {},
   "outputs": [
    {
     "ename": "TypeError",
     "evalue": "unhashable type: 'numpy.ndarray'",
     "output_type": "error",
     "traceback": [
      "\u001b[1;31m---------------------------------------------------------------------------\u001b[0m",
      "\u001b[1;31mTypeError\u001b[0m                                 Traceback (most recent call last)",
      "\u001b[1;32m<ipython-input-35-7e8f52ff83aa>\u001b[0m in \u001b[0;36m<module>\u001b[1;34m\u001b[0m\n\u001b[1;32m----> 1\u001b[1;33m \u001b[0mnum_classes\u001b[0m \u001b[1;33m=\u001b[0m \u001b[0mlen\u001b[0m\u001b[1;33m(\u001b[0m\u001b[0mset\u001b[0m\u001b[1;33m(\u001b[0m\u001b[0mYtrain\u001b[0m\u001b[1;33m)\u001b[0m\u001b[1;33m)\u001b[0m\u001b[1;33m\u001b[0m\u001b[1;33m\u001b[0m\u001b[0m\n\u001b[0m",
      "\u001b[1;31mTypeError\u001b[0m: unhashable type: 'numpy.ndarray'"
     ]
    }
   ],
   "source": [
    "num_classes = len(set(Ytrain))\n"
   ]
  },
  {
   "cell_type": "code",
   "execution_count": 34,
   "metadata": {},
   "outputs": [
    {
     "ename": "NameError",
     "evalue": "name 'num_classes' is not defined",
     "output_type": "error",
     "traceback": [
      "\u001b[1;31m---------------------------------------------------------------------------\u001b[0m",
      "\u001b[1;31mNameError\u001b[0m                                 Traceback (most recent call last)",
      "\u001b[1;32m<ipython-input-34-073a999ce771>\u001b[0m in \u001b[0;36m<module>\u001b[1;34m\u001b[0m\n\u001b[0;32m      1\u001b[0m \u001b[1;32mfrom\u001b[0m \u001b[0mkeras\u001b[0m\u001b[1;33m.\u001b[0m\u001b[0mutils\u001b[0m \u001b[1;32mimport\u001b[0m \u001b[0mto_categorical\u001b[0m\u001b[1;33m\u001b[0m\u001b[1;33m\u001b[0m\u001b[0m\n\u001b[0;32m      2\u001b[0m \u001b[1;33m\u001b[0m\u001b[0m\n\u001b[1;32m----> 3\u001b[1;33m \u001b[0mYtrain\u001b[0m \u001b[1;33m=\u001b[0m \u001b[0mto_categorical\u001b[0m\u001b[1;33m(\u001b[0m\u001b[0mYtrain\u001b[0m\u001b[1;33m,\u001b[0m \u001b[0mnum_classes\u001b[0m\u001b[1;33m=\u001b[0m\u001b[0mnum_classes\u001b[0m\u001b[1;33m)\u001b[0m\u001b[1;33m\u001b[0m\u001b[1;33m\u001b[0m\u001b[0m\n\u001b[0m\u001b[0;32m      4\u001b[0m \u001b[0mYtest\u001b[0m \u001b[1;33m=\u001b[0m \u001b[0mto_categorical\u001b[0m\u001b[1;33m(\u001b[0m\u001b[0mYtest\u001b[0m\u001b[1;33m,\u001b[0m \u001b[0mnum_classes\u001b[0m\u001b[1;33m=\u001b[0m\u001b[0mnum_classes\u001b[0m\u001b[1;33m)\u001b[0m\u001b[1;33m\u001b[0m\u001b[1;33m\u001b[0m\u001b[0m\n",
      "\u001b[1;31mNameError\u001b[0m: name 'num_classes' is not defined"
     ]
    }
   ],
   "source": [
    "from keras.utils import to_categorical\n",
    "\n",
    "Ytrain = to_categorical(Ytrain, num_classes=num_classes)\n",
    "Ytest = to_categorical(Ytest, num_classes=num_classes)\n"
   ]
  },
  {
   "cell_type": "code",
   "execution_count": 33,
   "metadata": {},
   "outputs": [
    {
     "ename": "ValueError",
     "evalue": "bad input shape (1050, 15)",
     "output_type": "error",
     "traceback": [
      "\u001b[1;31m---------------------------------------------------------------------------\u001b[0m",
      "\u001b[1;31mValueError\u001b[0m                                Traceback (most recent call last)",
      "\u001b[1;32m<ipython-input-33-6ff062f2df62>\u001b[0m in \u001b[0;36m<module>\u001b[1;34m\u001b[0m\n\u001b[0;32m      4\u001b[0m \u001b[1;31m# Convert categorical labels to integer labels\u001b[0m\u001b[1;33m\u001b[0m\u001b[1;33m\u001b[0m\u001b[1;33m\u001b[0m\u001b[0m\n\u001b[0;32m      5\u001b[0m \u001b[0mlabel_encoder\u001b[0m \u001b[1;33m=\u001b[0m \u001b[0mLabelEncoder\u001b[0m\u001b[1;33m(\u001b[0m\u001b[1;33m)\u001b[0m\u001b[1;33m\u001b[0m\u001b[1;33m\u001b[0m\u001b[0m\n\u001b[1;32m----> 6\u001b[1;33m \u001b[0mYtrain\u001b[0m \u001b[1;33m=\u001b[0m \u001b[0mlabel_encoder\u001b[0m\u001b[1;33m.\u001b[0m\u001b[0mfit_transform\u001b[0m\u001b[1;33m(\u001b[0m\u001b[0mYtrain\u001b[0m\u001b[1;33m)\u001b[0m\u001b[1;33m\u001b[0m\u001b[1;33m\u001b[0m\u001b[0m\n\u001b[0m\u001b[0;32m      7\u001b[0m \u001b[0mYtest\u001b[0m \u001b[1;33m=\u001b[0m \u001b[0mlabel_encoder\u001b[0m\u001b[1;33m.\u001b[0m\u001b[0mtransform\u001b[0m\u001b[1;33m(\u001b[0m\u001b[0mYtest\u001b[0m\u001b[1;33m)\u001b[0m\u001b[1;33m\u001b[0m\u001b[1;33m\u001b[0m\u001b[0m\n\u001b[0;32m      8\u001b[0m \u001b[1;33m\u001b[0m\u001b[0m\n",
      "\u001b[1;32m~\\Anaconda3\\lib\\site-packages\\sklearn\\preprocessing\\label.py\u001b[0m in \u001b[0;36mfit_transform\u001b[1;34m(self, y)\u001b[0m\n\u001b[0;32m    233\u001b[0m         \u001b[0my\u001b[0m \u001b[1;33m:\u001b[0m \u001b[0marray\u001b[0m\u001b[1;33m-\u001b[0m\u001b[0mlike\u001b[0m \u001b[0mof\u001b[0m \u001b[0mshape\u001b[0m \u001b[1;33m[\u001b[0m\u001b[0mn_samples\u001b[0m\u001b[1;33m]\u001b[0m\u001b[1;33m\u001b[0m\u001b[1;33m\u001b[0m\u001b[0m\n\u001b[0;32m    234\u001b[0m         \"\"\"\n\u001b[1;32m--> 235\u001b[1;33m         \u001b[0my\u001b[0m \u001b[1;33m=\u001b[0m \u001b[0mcolumn_or_1d\u001b[0m\u001b[1;33m(\u001b[0m\u001b[0my\u001b[0m\u001b[1;33m,\u001b[0m \u001b[0mwarn\u001b[0m\u001b[1;33m=\u001b[0m\u001b[1;32mTrue\u001b[0m\u001b[1;33m)\u001b[0m\u001b[1;33m\u001b[0m\u001b[1;33m\u001b[0m\u001b[0m\n\u001b[0m\u001b[0;32m    236\u001b[0m         \u001b[0mself\u001b[0m\u001b[1;33m.\u001b[0m\u001b[0mclasses_\u001b[0m\u001b[1;33m,\u001b[0m \u001b[0my\u001b[0m \u001b[1;33m=\u001b[0m \u001b[0m_encode\u001b[0m\u001b[1;33m(\u001b[0m\u001b[0my\u001b[0m\u001b[1;33m,\u001b[0m \u001b[0mencode\u001b[0m\u001b[1;33m=\u001b[0m\u001b[1;32mTrue\u001b[0m\u001b[1;33m)\u001b[0m\u001b[1;33m\u001b[0m\u001b[1;33m\u001b[0m\u001b[0m\n\u001b[0;32m    237\u001b[0m         \u001b[1;32mreturn\u001b[0m \u001b[0my\u001b[0m\u001b[1;33m\u001b[0m\u001b[1;33m\u001b[0m\u001b[0m\n",
      "\u001b[1;32m~\\Anaconda3\\lib\\site-packages\\sklearn\\utils\\validation.py\u001b[0m in \u001b[0;36mcolumn_or_1d\u001b[1;34m(y, warn)\u001b[0m\n\u001b[0;32m    758\u001b[0m         \u001b[1;32mreturn\u001b[0m \u001b[0mnp\u001b[0m\u001b[1;33m.\u001b[0m\u001b[0mravel\u001b[0m\u001b[1;33m(\u001b[0m\u001b[0my\u001b[0m\u001b[1;33m)\u001b[0m\u001b[1;33m\u001b[0m\u001b[1;33m\u001b[0m\u001b[0m\n\u001b[0;32m    759\u001b[0m \u001b[1;33m\u001b[0m\u001b[0m\n\u001b[1;32m--> 760\u001b[1;33m     \u001b[1;32mraise\u001b[0m \u001b[0mValueError\u001b[0m\u001b[1;33m(\u001b[0m\u001b[1;34m\"bad input shape {0}\"\u001b[0m\u001b[1;33m.\u001b[0m\u001b[0mformat\u001b[0m\u001b[1;33m(\u001b[0m\u001b[0mshape\u001b[0m\u001b[1;33m)\u001b[0m\u001b[1;33m)\u001b[0m\u001b[1;33m\u001b[0m\u001b[1;33m\u001b[0m\u001b[0m\n\u001b[0m\u001b[0;32m    761\u001b[0m \u001b[1;33m\u001b[0m\u001b[0m\n\u001b[0;32m    762\u001b[0m \u001b[1;33m\u001b[0m\u001b[0m\n",
      "\u001b[1;31mValueError\u001b[0m: bad input shape (1050, 15)"
     ]
    }
   ],
   "source": [
    "from sklearn.preprocessing import LabelEncoder, OneHotEncoder\n",
    "import numpy as np\n",
    "\n",
    "# Convert categorical labels to integer labels\n",
    "label_encoder = LabelEncoder()\n",
    "Ytrain = label_encoder.fit_transform(Ytrain)\n",
    "Ytest = label_encoder.transform(Ytest)\n",
    "\n",
    "# Convert integer labels to one-hot encoding\n",
    "onehot_encoder = OneHotEncoder(sparse=False)\n",
    "Ytrain = np.expand_dims(Ytrain, axis=1)\n",
    "Ytest = np.expand_dims(Ytest, axis=1)\n",
    "Ytrain = onehot_encoder.fit_transform(Ytrain)\n",
    "Ytest = onehot_encoder.transform(Ytest)\n"
   ]
  },
  {
   "cell_type": "code",
   "execution_count": 42,
   "metadata": {},
   "outputs": [
    {
     "name": "stdout",
     "output_type": "stream",
     "text": [
      "Epoch 1/10\n"
     ]
    },
    {
     "ename": "ValueError",
     "evalue": "in user code:\n\n    File \"C:\\Users\\Anishka Chauhan\\Anaconda3\\lib\\site-packages\\keras\\engine\\training.py\", line 1249, in train_function  *\n        return step_function(self, iterator)\n    File \"C:\\Users\\Anishka Chauhan\\Anaconda3\\lib\\site-packages\\keras\\engine\\training.py\", line 1233, in step_function  **\n        outputs = model.distribute_strategy.run(run_step, args=(data,))\n    File \"C:\\Users\\Anishka Chauhan\\Anaconda3\\lib\\site-packages\\keras\\engine\\training.py\", line 1222, in run_step  **\n        outputs = model.train_step(data)\n    File \"C:\\Users\\Anishka Chauhan\\Anaconda3\\lib\\site-packages\\keras\\engine\\training.py\", line 1024, in train_step\n        loss = self.compute_loss(x, y, y_pred, sample_weight)\n    File \"C:\\Users\\Anishka Chauhan\\Anaconda3\\lib\\site-packages\\keras\\engine\\training.py\", line 1083, in compute_loss\n        y, y_pred, sample_weight, regularization_losses=self.losses\n    File \"C:\\Users\\Anishka Chauhan\\Anaconda3\\lib\\site-packages\\keras\\engine\\compile_utils.py\", line 265, in __call__\n        loss_value = loss_obj(y_t, y_p, sample_weight=sw)\n    File \"C:\\Users\\Anishka Chauhan\\Anaconda3\\lib\\site-packages\\keras\\losses.py\", line 152, in __call__\n        losses = call_fn(y_true, y_pred)\n    File \"C:\\Users\\Anishka Chauhan\\Anaconda3\\lib\\site-packages\\keras\\losses.py\", line 284, in call  **\n        return ag_fn(y_true, y_pred, **self._fn_kwargs)\n    File \"C:\\Users\\Anishka Chauhan\\Anaconda3\\lib\\site-packages\\keras\\losses.py\", line 2176, in binary_crossentropy\n        backend.binary_crossentropy(y_true, y_pred, from_logits=from_logits),\n    File \"C:\\Users\\Anishka Chauhan\\Anaconda3\\lib\\site-packages\\keras\\backend.py\", line 5681, in binary_crossentropy\n        labels=target, logits=output\n\n    ValueError: `logits` and `labels` must have the same shape, received ((None, 1) vs (None, 15)).\n",
     "output_type": "error",
     "traceback": [
      "\u001b[1;31m---------------------------------------------------------------------------\u001b[0m",
      "\u001b[1;31mValueError\u001b[0m                                Traceback (most recent call last)",
      "\u001b[1;32m<ipython-input-42-858768277401>\u001b[0m in \u001b[0;36m<module>\u001b[1;34m\u001b[0m\n\u001b[0;32m     15\u001b[0m \u001b[1;33m\u001b[0m\u001b[0m\n\u001b[0;32m     16\u001b[0m \u001b[1;31m# Train the model\u001b[0m\u001b[1;33m\u001b[0m\u001b[1;33m\u001b[0m\u001b[1;33m\u001b[0m\u001b[0m\n\u001b[1;32m---> 17\u001b[1;33m \u001b[0mmodel\u001b[0m\u001b[1;33m.\u001b[0m\u001b[0mfit\u001b[0m\u001b[1;33m(\u001b[0m\u001b[0mXtrain\u001b[0m\u001b[1;33m,\u001b[0m \u001b[0mYtrain\u001b[0m\u001b[1;33m,\u001b[0m \u001b[0mepochs\u001b[0m\u001b[1;33m=\u001b[0m\u001b[1;36m10\u001b[0m\u001b[1;33m,\u001b[0m \u001b[0mbatch_size\u001b[0m\u001b[1;33m=\u001b[0m\u001b[1;36m32\u001b[0m\u001b[1;33m)\u001b[0m\u001b[1;33m\u001b[0m\u001b[1;33m\u001b[0m\u001b[0m\n\u001b[0m\u001b[0;32m     18\u001b[0m \u001b[1;33m\u001b[0m\u001b[0m\n\u001b[0;32m     19\u001b[0m \u001b[1;31m# Predict on the test data\u001b[0m\u001b[1;33m\u001b[0m\u001b[1;33m\u001b[0m\u001b[1;33m\u001b[0m\u001b[0m\n",
      "\u001b[1;32m~\\Anaconda3\\lib\\site-packages\\keras\\utils\\traceback_utils.py\u001b[0m in \u001b[0;36merror_handler\u001b[1;34m(*args, **kwargs)\u001b[0m\n\u001b[0;32m     68\u001b[0m             \u001b[1;31m# To get the full stack trace, call:\u001b[0m\u001b[1;33m\u001b[0m\u001b[1;33m\u001b[0m\u001b[1;33m\u001b[0m\u001b[0m\n\u001b[0;32m     69\u001b[0m             \u001b[1;31m# `tf.debugging.disable_traceback_filtering()`\u001b[0m\u001b[1;33m\u001b[0m\u001b[1;33m\u001b[0m\u001b[1;33m\u001b[0m\u001b[0m\n\u001b[1;32m---> 70\u001b[1;33m             \u001b[1;32mraise\u001b[0m \u001b[0me\u001b[0m\u001b[1;33m.\u001b[0m\u001b[0mwith_traceback\u001b[0m\u001b[1;33m(\u001b[0m\u001b[0mfiltered_tb\u001b[0m\u001b[1;33m)\u001b[0m \u001b[1;32mfrom\u001b[0m \u001b[1;32mNone\u001b[0m\u001b[1;33m\u001b[0m\u001b[1;33m\u001b[0m\u001b[0m\n\u001b[0m\u001b[0;32m     71\u001b[0m         \u001b[1;32mfinally\u001b[0m\u001b[1;33m:\u001b[0m\u001b[1;33m\u001b[0m\u001b[1;33m\u001b[0m\u001b[0m\n\u001b[0;32m     72\u001b[0m             \u001b[1;32mdel\u001b[0m \u001b[0mfiltered_tb\u001b[0m\u001b[1;33m\u001b[0m\u001b[1;33m\u001b[0m\u001b[0m\n",
      "\u001b[1;32m~\\Anaconda3\\lib\\site-packages\\keras\\engine\\training.py\u001b[0m in \u001b[0;36mtf__train_function\u001b[1;34m(iterator)\u001b[0m\n\u001b[0;32m     13\u001b[0m                 \u001b[1;32mtry\u001b[0m\u001b[1;33m:\u001b[0m\u001b[1;33m\u001b[0m\u001b[1;33m\u001b[0m\u001b[0m\n\u001b[0;32m     14\u001b[0m                     \u001b[0mdo_return\u001b[0m \u001b[1;33m=\u001b[0m \u001b[1;32mTrue\u001b[0m\u001b[1;33m\u001b[0m\u001b[1;33m\u001b[0m\u001b[0m\n\u001b[1;32m---> 15\u001b[1;33m                     \u001b[0mretval_\u001b[0m \u001b[1;33m=\u001b[0m \u001b[0mag__\u001b[0m\u001b[1;33m.\u001b[0m\u001b[0mconverted_call\u001b[0m\u001b[1;33m(\u001b[0m\u001b[0mag__\u001b[0m\u001b[1;33m.\u001b[0m\u001b[0mld\u001b[0m\u001b[1;33m(\u001b[0m\u001b[0mstep_function\u001b[0m\u001b[1;33m)\u001b[0m\u001b[1;33m,\u001b[0m \u001b[1;33m(\u001b[0m\u001b[0mag__\u001b[0m\u001b[1;33m.\u001b[0m\u001b[0mld\u001b[0m\u001b[1;33m(\u001b[0m\u001b[0mself\u001b[0m\u001b[1;33m)\u001b[0m\u001b[1;33m,\u001b[0m \u001b[0mag__\u001b[0m\u001b[1;33m.\u001b[0m\u001b[0mld\u001b[0m\u001b[1;33m(\u001b[0m\u001b[0miterator\u001b[0m\u001b[1;33m)\u001b[0m\u001b[1;33m)\u001b[0m\u001b[1;33m,\u001b[0m \u001b[1;32mNone\u001b[0m\u001b[1;33m,\u001b[0m \u001b[0mfscope\u001b[0m\u001b[1;33m)\u001b[0m\u001b[1;33m\u001b[0m\u001b[1;33m\u001b[0m\u001b[0m\n\u001b[0m\u001b[0;32m     16\u001b[0m                 \u001b[1;32mexcept\u001b[0m\u001b[1;33m:\u001b[0m\u001b[1;33m\u001b[0m\u001b[1;33m\u001b[0m\u001b[0m\n\u001b[0;32m     17\u001b[0m                     \u001b[0mdo_return\u001b[0m \u001b[1;33m=\u001b[0m \u001b[1;32mFalse\u001b[0m\u001b[1;33m\u001b[0m\u001b[1;33m\u001b[0m\u001b[0m\n",
      "\u001b[1;31mValueError\u001b[0m: in user code:\n\n    File \"C:\\Users\\Anishka Chauhan\\Anaconda3\\lib\\site-packages\\keras\\engine\\training.py\", line 1249, in train_function  *\n        return step_function(self, iterator)\n    File \"C:\\Users\\Anishka Chauhan\\Anaconda3\\lib\\site-packages\\keras\\engine\\training.py\", line 1233, in step_function  **\n        outputs = model.distribute_strategy.run(run_step, args=(data,))\n    File \"C:\\Users\\Anishka Chauhan\\Anaconda3\\lib\\site-packages\\keras\\engine\\training.py\", line 1222, in run_step  **\n        outputs = model.train_step(data)\n    File \"C:\\Users\\Anishka Chauhan\\Anaconda3\\lib\\site-packages\\keras\\engine\\training.py\", line 1024, in train_step\n        loss = self.compute_loss(x, y, y_pred, sample_weight)\n    File \"C:\\Users\\Anishka Chauhan\\Anaconda3\\lib\\site-packages\\keras\\engine\\training.py\", line 1083, in compute_loss\n        y, y_pred, sample_weight, regularization_losses=self.losses\n    File \"C:\\Users\\Anishka Chauhan\\Anaconda3\\lib\\site-packages\\keras\\engine\\compile_utils.py\", line 265, in __call__\n        loss_value = loss_obj(y_t, y_p, sample_weight=sw)\n    File \"C:\\Users\\Anishka Chauhan\\Anaconda3\\lib\\site-packages\\keras\\losses.py\", line 152, in __call__\n        losses = call_fn(y_true, y_pred)\n    File \"C:\\Users\\Anishka Chauhan\\Anaconda3\\lib\\site-packages\\keras\\losses.py\", line 284, in call  **\n        return ag_fn(y_true, y_pred, **self._fn_kwargs)\n    File \"C:\\Users\\Anishka Chauhan\\Anaconda3\\lib\\site-packages\\keras\\losses.py\", line 2176, in binary_crossentropy\n        backend.binary_crossentropy(y_true, y_pred, from_logits=from_logits),\n    File \"C:\\Users\\Anishka Chauhan\\Anaconda3\\lib\\site-packages\\keras\\backend.py\", line 5681, in binary_crossentropy\n        labels=target, logits=output\n\n    ValueError: `logits` and `labels` must have the same shape, received ((None, 1) vs (None, 15)).\n"
     ]
    }
   ],
   "source": [
    "import pandas as pd\n",
    "import numpy as np\n",
    "from sklearn import metrics\n",
    "from tensorflow.keras.models import Sequential\n",
    "from tensorflow.keras.layers import Dense\n",
    "\n",
    "# Define the model architecture\n",
    "model = Sequential()\n",
    "model.add(Dense(64, activation='relu', input_dim=Xtrain.shape[1]))\n",
    "model.add(Dense(32, activation='relu'))\n",
    "model.add(Dense(1, activation='sigmoid'))\n",
    "\n",
    "# Compile the model\n",
    "model.compile(loss='binary_crossentropy', optimizer='adam', metrics=['accuracy'])\n",
    "\n",
    "# Train the model\n",
    "model.fit(Xtrain, Ytrain, epochs=10, batch_size=32)\n",
    "\n",
    "# Predict on the test data\n",
    "predicted_values = model.predict(Xtest)\n",
    "predicted_values = (predicted_values > 0.5).astype(int)\n",
    "\n",
    "# Evaluate the model\n",
    "x = metrics.accuracy_score(Ytest, predicted_values)\n",
    "acc.append(x)\n",
    "model.append('ANN')\n",
    "print(\"ANN's Accuracy is: \", x)\n",
    "\n",
    "print(classification_report(Ytest, predicted_values))\n"
   ]
  },
  {
   "cell_type": "code",
   "execution_count": 39,
   "metadata": {},
   "outputs": [
    {
     "ename": "NameError",
     "evalue": "name 'sequences' is not defined",
     "output_type": "error",
     "traceback": [
      "\u001b[1;31m---------------------------------------------------------------------------\u001b[0m",
      "\u001b[1;31mNameError\u001b[0m                                 Traceback (most recent call last)",
      "\u001b[1;32m<ipython-input-39-d73b1a7f0050>\u001b[0m in \u001b[0;36m<module>\u001b[1;34m\u001b[0m\n\u001b[0;32m      1\u001b[0m \u001b[1;32mfrom\u001b[0m \u001b[0mtensorflow\u001b[0m\u001b[1;33m.\u001b[0m\u001b[0mkeras\u001b[0m\u001b[1;33m.\u001b[0m\u001b[0mpreprocessing\u001b[0m\u001b[1;33m.\u001b[0m\u001b[0msequence\u001b[0m \u001b[1;32mimport\u001b[0m \u001b[0mpad_sequences\u001b[0m\u001b[1;33m\u001b[0m\u001b[1;33m\u001b[0m\u001b[0m\n\u001b[0;32m      2\u001b[0m \u001b[1;33m\u001b[0m\u001b[0m\n\u001b[1;32m----> 3\u001b[1;33m \u001b[0mpadded_sequences\u001b[0m \u001b[1;33m=\u001b[0m \u001b[0mpad_sequences\u001b[0m\u001b[1;33m(\u001b[0m\u001b[0msequences\u001b[0m\u001b[1;33m,\u001b[0m \u001b[0mmaxlen\u001b[0m\u001b[1;33m=\u001b[0m\u001b[0mmaxlen\u001b[0m\u001b[1;33m,\u001b[0m \u001b[0mpadding\u001b[0m\u001b[1;33m=\u001b[0m\u001b[1;34m'post'\u001b[0m\u001b[1;33m)\u001b[0m\u001b[1;33m\u001b[0m\u001b[1;33m\u001b[0m\u001b[0m\n\u001b[0m\u001b[0;32m      4\u001b[0m \u001b[1;33m\u001b[0m\u001b[0m\n",
      "\u001b[1;31mNameError\u001b[0m: name 'sequences' is not defined"
     ]
    }
   ],
   "source": [
    "from tensorflow.keras.preprocessing.sequence import pad_sequences\n",
    "\n",
    "padded_sequences = pad_sequences(sequences, maxlen=maxlen, padding='post')\n",
    "\n"
   ]
  },
  {
   "cell_type": "code",
   "execution_count": 38,
   "metadata": {},
   "outputs": [
    {
     "ename": "ImportError",
     "evalue": "cannot import name 'pad_sequences' from 'keras.preprocessing.sequence' (C:\\Users\\Anishka Chauhan\\Anaconda3\\lib\\site-packages\\keras\\preprocessing\\sequence.py)",
     "output_type": "error",
     "traceback": [
      "\u001b[1;31m---------------------------------------------------------------------------\u001b[0m",
      "\u001b[1;31mImportError\u001b[0m                               Traceback (most recent call last)",
      "\u001b[1;32m<ipython-input-38-e00af3eecbe2>\u001b[0m in \u001b[0;36m<module>\u001b[1;34m\u001b[0m\n\u001b[0;32m      2\u001b[0m \u001b[1;32mfrom\u001b[0m \u001b[0mkeras\u001b[0m\u001b[1;33m.\u001b[0m\u001b[0mmodels\u001b[0m \u001b[1;32mimport\u001b[0m \u001b[0mSequential\u001b[0m\u001b[1;33m\u001b[0m\u001b[1;33m\u001b[0m\u001b[0m\n\u001b[0;32m      3\u001b[0m \u001b[1;32mfrom\u001b[0m \u001b[0mkeras\u001b[0m\u001b[1;33m.\u001b[0m\u001b[0mlayers\u001b[0m \u001b[1;32mimport\u001b[0m \u001b[0mDense\u001b[0m\u001b[1;33m,\u001b[0m \u001b[0mLSTM\u001b[0m\u001b[1;33m\u001b[0m\u001b[1;33m\u001b[0m\u001b[0m\n\u001b[1;32m----> 4\u001b[1;33m \u001b[1;32mfrom\u001b[0m \u001b[0mkeras\u001b[0m\u001b[1;33m.\u001b[0m\u001b[0mpreprocessing\u001b[0m\u001b[1;33m.\u001b[0m\u001b[0msequence\u001b[0m \u001b[1;32mimport\u001b[0m \u001b[0mpad_sequences\u001b[0m\u001b[1;33m\u001b[0m\u001b[1;33m\u001b[0m\u001b[0m\n\u001b[0m\u001b[0;32m      5\u001b[0m \u001b[1;33m\u001b[0m\u001b[0m\n\u001b[0;32m      6\u001b[0m \u001b[1;31m# Reshape the input data for RNN\u001b[0m\u001b[1;33m\u001b[0m\u001b[1;33m\u001b[0m\u001b[1;33m\u001b[0m\u001b[0m\n",
      "\u001b[1;31mImportError\u001b[0m: cannot import name 'pad_sequences' from 'keras.preprocessing.sequence' (C:\\Users\\Anishka Chauhan\\Anaconda3\\lib\\site-packages\\keras\\preprocessing\\sequence.py)"
     ]
    }
   ],
   "source": [
    "# Import required libraries\n",
    "from keras.models import Sequential\n",
    "from keras.layers import Dense, LSTM\n",
    "from keras.preprocessing.sequence import pad_sequences\n",
    "\n",
    "# Reshape the input data for RNN\n",
    "Xtrain = pad_sequences(Xtrain, maxlen=maxlen, padding='post')\n",
    "Xtest = pad_sequences(Xtest, maxlen=maxlen, padding='post')\n",
    "\n",
    "# Define the RNN model\n",
    "model = Sequential()\n",
    "model.add(LSTM(32, input_shape=(maxlen, input_dim)))\n",
    "model.add(Dense(1, activation='sigmoid'))\n",
    "\n",
    "# Compile the model\n",
    "model.compile(optimizer='rmsprop', loss='binary_crossentropy', metrics=['accuracy'])\n",
    "\n",
    "# Train the model\n",
    "model.fit(Xtrain, Ytrain, epochs=10, batch_size=32, verbose=0)\n",
    "\n",
    "# Make predictions on the test set\n",
    "predicted_values = model.predict_classes(Xtest)\n",
    "\n",
    "# Compute accuracy score\n",
    "from sklearn import metrics\n",
    "accuracy_score = metrics.accuracy_score(Ytest, predicted_values)\n",
    "print(\"RNN's Accuracy is:\", accuracy_score)\n",
    "\n",
    "# Print classification report\n",
    "from sklearn.metrics import classification_report\n",
    "print(classification_report(Ytest, predicted_values))\n"
   ]
  },
  {
   "attachments": {},
   "cell_type": "markdown",
   "metadata": {
    "papermill": {
     "duration": 0.047575,
     "end_time": "2022-01-19T05:43:17.046191",
     "exception": false,
     "start_time": "2022-01-19T05:43:16.998616",
     "status": "completed"
    },
    "tags": []
   },
   "source": [
    "## Accuracy Comparison"
   ]
  },
  {
   "cell_type": "code",
   "execution_count": 49,
   "metadata": {
    "execution": {
     "iopub.execute_input": "2022-01-19T05:43:17.145965Z",
     "iopub.status.busy": "2022-01-19T05:43:17.145243Z",
     "iopub.status.idle": "2022-01-19T05:43:17.313434Z",
     "shell.execute_reply": "2022-01-19T05:43:17.313923Z"
    },
    "papermill": {
     "duration": 0.219581,
     "end_time": "2022-01-19T05:43:17.314085",
     "exception": false,
     "start_time": "2022-01-19T05:43:17.094504",
     "status": "completed"
    },
    "tags": []
   },
   "outputs": [
    {
     "data": {
      "image/png": "[encoded data removed]",
      "text/plain": [
       "<Figure size 1000x500 with 1 Axes>"
      ]
     },
     "metadata": {
      "needs_background": "light"
     },
     "output_type": "display_data"
    }
   ],
   "source": [
    "plt.figure(figsize=[10,5],dpi = 100)\n",
    "plt.title('Accuracy Comparison')\n",
    "plt.ylabel('Accuracy')\n",
    "plt.xlabel('Algorithm')\n",
    "bp=sns.barplot(x = model,y = acc,palette='dark')\n"
   ]
  },
  {
   "cell_type": "code",
   "execution_count": 41,
   "metadata": {
    "execution": {
     "iopub.execute_input": "2022-01-19T05:43:17.420951Z",
     "iopub.status.busy": "2022-01-19T05:43:17.420254Z",
     "iopub.status.idle": "2022-01-19T05:43:17.423129Z",
     "shell.execute_reply": "2022-01-19T05:43:17.423801Z"
    },
    "papermill": {
     "duration": 0.059955,
     "end_time": "2022-01-19T05:43:17.423964",
     "exception": false,
     "start_time": "2022-01-19T05:43:17.364009",
     "status": "completed"
    },
    "tags": []
   },
   "outputs": [
    {
     "name": "stdout",
     "output_type": "stream",
     "text": [
      "Decision Tree : 0.9777777777777777\n",
      "Naive Bayes : 0.9888888888888889\n",
      "SVM : 0.1622222222222222\n",
      "Logistic Regression : 0.9622222222222222\n",
      "RF : 0.9933333333333333\n",
      "K Nearest Neighbours : 0.9844444444444445\n",
      "Catboost : 0.9888888888888889\n"
     ]
    }
   ],
   "source": [
    "accuracy_models = dict(zip(model, acc))\n",
    "for k, v in accuracy_models.items():\n",
    "    print (k, ':', v)"
   ]
  },
  {
   "attachments": {},
   "cell_type": "markdown",
   "metadata": {
    "papermill": {
     "duration": 0.048751,
     "end_time": "2022-01-19T05:43:17.522918",
     "exception": false,
     "start_time": "2022-01-19T05:43:17.474167",
     "status": "completed"
    },
    "tags": []
   },
   "source": [
    "## Making a prediction\n"
   ]
  },
  {
   "cell_type": "code",
   "execution_count": 50,
   "metadata": {
    "execution": {
     "iopub.execute_input": "2022-01-19T05:43:17.624603Z",
     "iopub.status.busy": "2022-01-19T05:43:17.623879Z",
     "iopub.status.idle": "2022-01-19T05:43:17.632695Z",
     "shell.execute_reply": "2022-01-19T05:43:17.633186Z"
    },
    "papermill": {
     "duration": 0.061397,
     "end_time": "2022-01-19T05:43:17.633348",
     "exception": false,
     "start_time": "2022-01-19T05:43:17.571951",
     "status": "completed"
    },
    "tags": []
   },
   "outputs": [
    {
     "name": "stdout",
     "output_type": "stream",
     "text": [
      "['jute']\n"
     ]
    }
   ],
   "source": [
    "data = np.array([[112,28, 31, 33.703, 58.3, 5.9, 138.78]])\n",
    "prediction = RF.predict(data)\n",
    "print(prediction)"
   ]
  },
  {
   "cell_type": "code",
   "execution_count": 51,
   "metadata": {
    "execution": {
     "iopub.execute_input": "2022-01-19T05:43:17.736854Z",
     "iopub.status.busy": "2022-01-19T05:43:17.736095Z",
     "iopub.status.idle": "2022-01-19T05:43:17.746276Z",
     "shell.execute_reply": "2022-01-19T05:43:17.746821Z"
    },
    "papermill": {
     "duration": 0.064038,
     "end_time": "2022-01-19T05:43:17.746979",
     "exception": false,
     "start_time": "2022-01-19T05:43:17.682941",
     "status": "completed"
    },
    "tags": []
   },
   "outputs": [
    {
     "name": "stdout",
     "output_type": "stream",
     "text": [
      "['banana']\n"
     ]
    }
   ],
   "source": [
    "data = np.array([[158, 75, 87, 34, 69.3, 6.0, 145.93]])\n",
    "prediction = RF.predict(data)\n",
    "print(prediction)"
   ]
  },
  {
   "attachments": {},
   "cell_type": "markdown",
   "metadata": {
    "papermill": {
     "duration": 0.050556,
     "end_time": "2022-01-19T05:43:17.848345",
     "exception": false,
     "start_time": "2022-01-19T05:43:17.797789",
     "status": "completed"
    },
    "tags": []
   },
   "source": []
  },
  {
   "attachments": {},
   "cell_type": "markdown",
   "metadata": {
    "papermill": {
     "duration": 0.050745,
     "end_time": "2022-01-19T05:43:17.949481",
     "exception": false,
     "start_time": "2022-01-19T05:43:17.898736",
     "status": "completed"
    },
    "tags": []
   },
   "source": [
    "import warnings\n",
    "warnings.filterwarnings('ignore')"
   ]
  }
 ],
 "metadata": {
  "kernelspec": {
   "display_name": "Python 3",
   "language": "python",
   "name": "python3"
  },
  "language_info": {
   "codemirror_mode": {
    "name": "ipython",
    "version": 3
   },
   "file_extension": ".py",
   "mimetype": "text/x-python",
   "name": "python",
   "nbconvert_exporter": "python",
   "pygments_lexer": "ipython3",
   "version": "3.9.13"
  },
  "papermill": {
   "duration": 21.35152,
   "end_time": "2022-01-19T05:43:18.107695",
   "environment_variables": {},
   "exception": null,
   "input_path": "__notebook__.ipynb",
   "output_path": "__notebook__.ipynb",
   "parameters": {},
   "start_time": "2022-01-19T05:42:56.756175",
   "version": "2.1.0"
  }
 },
 "nbformat": 4,
 "nbformat_minor": 4
}
